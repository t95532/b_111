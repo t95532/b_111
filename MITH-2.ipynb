{
 "cells": [
  {
   "cell_type": "code",
   "execution_count": 1,
   "id": "7f5f003a",
   "metadata": {},
   "outputs": [],
   "source": [
    "import numpy as np\n",
    "import pandas as pd"
   ]
  },
  {
   "cell_type": "code",
   "execution_count": 2,
   "id": "9cdeebb9",
   "metadata": {},
   "outputs": [],
   "source": [
    "data1,data2,data3 = pd.read_csv(\"Insurance_Claim_Info_data.csv\"),pd.read_csv(\"Insurance_Date_data.csv\"),pd.read_csv(\"Insurance_Result_data.csv\")"
   ]
  },
  {
   "cell_type": "code",
   "execution_count": 3,
   "id": "93038a37",
   "metadata": {},
   "outputs": [
    {
     "data": {
      "text/html": [
       "<div>\n",
       "<style scoped>\n",
       "    .dataframe tbody tr th:only-of-type {\n",
       "        vertical-align: middle;\n",
       "    }\n",
       "\n",
       "    .dataframe tbody tr th {\n",
       "        vertical-align: top;\n",
       "    }\n",
       "\n",
       "    .dataframe thead th {\n",
       "        text-align: right;\n",
       "    }\n",
       "</style>\n",
       "<table border=\"1\" class=\"dataframe\">\n",
       "  <thead>\n",
       "    <tr style=\"text-align: right;\">\n",
       "      <th></th>\n",
       "      <th>Claim Number</th>\n",
       "      <th>City Code</th>\n",
       "      <th>City</th>\n",
       "      <th>Enterprise Type</th>\n",
       "      <th>Claim Type</th>\n",
       "      <th>Claim Site</th>\n",
       "      <th>Product Insured</th>\n",
       "    </tr>\n",
       "  </thead>\n",
       "  <tbody>\n",
       "    <tr>\n",
       "      <th>0</th>\n",
       "      <td>DQW1NZO0PL</td>\n",
       "      <td>NSK</td>\n",
       "      <td>Nashik</td>\n",
       "      <td>Public Limited Company</td>\n",
       "      <td>Property Loss</td>\n",
       "      <td>In Transit</td>\n",
       "      <td>Inventory - Raw Material</td>\n",
       "    </tr>\n",
       "    <tr>\n",
       "      <th>1</th>\n",
       "      <td>JS5GAPRN5B</td>\n",
       "      <td>BOM</td>\n",
       "      <td>Mumbai</td>\n",
       "      <td>One Person Company</td>\n",
       "      <td>Property Loss</td>\n",
       "      <td>In Transit</td>\n",
       "      <td>Cameras and other Misc. Security Equipment</td>\n",
       "    </tr>\n",
       "    <tr>\n",
       "      <th>2</th>\n",
       "      <td>ZTSVAQSEAQ</td>\n",
       "      <td>LKO</td>\n",
       "      <td>Lucknow</td>\n",
       "      <td>Public Limited Company</td>\n",
       "      <td>Property Loss</td>\n",
       "      <td>In Transit</td>\n",
       "      <td>Fixtures</td>\n",
       "    </tr>\n",
       "    <tr>\n",
       "      <th>3</th>\n",
       "      <td>EW7NWHI7LI</td>\n",
       "      <td>DEL</td>\n",
       "      <td>Delhi</td>\n",
       "      <td>Sole Proprietorship</td>\n",
       "      <td>Property Loss</td>\n",
       "      <td>In Transit</td>\n",
       "      <td>Pumps and Motors</td>\n",
       "    </tr>\n",
       "    <tr>\n",
       "      <th>4</th>\n",
       "      <td>UJOFDC41EL</td>\n",
       "      <td>DEL</td>\n",
       "      <td>Delhi</td>\n",
       "      <td>One Person Company</td>\n",
       "      <td>Property Loss</td>\n",
       "      <td>In Transit</td>\n",
       "      <td>Misc. Engineering Tools</td>\n",
       "    </tr>\n",
       "  </tbody>\n",
       "</table>\n",
       "</div>"
      ],
      "text/plain": [
       "  Claim Number City Code     City         Enterprise Type     Claim Type  \\\n",
       "0   DQW1NZO0PL       NSK   Nashik  Public Limited Company  Property Loss   \n",
       "1   JS5GAPRN5B       BOM   Mumbai      One Person Company  Property Loss   \n",
       "2   ZTSVAQSEAQ       LKO  Lucknow  Public Limited Company  Property Loss   \n",
       "3   EW7NWHI7LI       DEL    Delhi     Sole Proprietorship  Property Loss   \n",
       "4   UJOFDC41EL       DEL    Delhi      One Person Company  Property Loss   \n",
       "\n",
       "   Claim Site                             Product Insured  \n",
       "0  In Transit                    Inventory - Raw Material  \n",
       "1  In Transit  Cameras and other Misc. Security Equipment  \n",
       "2  In Transit                                    Fixtures  \n",
       "3  In Transit                            Pumps and Motors  \n",
       "4  In Transit                     Misc. Engineering Tools  "
      ]
     },
     "execution_count": 3,
     "metadata": {},
     "output_type": "execute_result"
    }
   ],
   "source": [
    "data1.head()"
   ]
  },
  {
   "cell_type": "code",
   "execution_count": 4,
   "id": "077c2397",
   "metadata": {},
   "outputs": [
    {
     "data": {
      "text/html": [
       "<div>\n",
       "<style scoped>\n",
       "    .dataframe tbody tr th:only-of-type {\n",
       "        vertical-align: middle;\n",
       "    }\n",
       "\n",
       "    .dataframe tbody tr th {\n",
       "        vertical-align: top;\n",
       "    }\n",
       "\n",
       "    .dataframe thead th {\n",
       "        text-align: right;\n",
       "    }\n",
       "</style>\n",
       "<table border=\"1\" class=\"dataframe\">\n",
       "  <thead>\n",
       "    <tr style=\"text-align: right;\">\n",
       "      <th></th>\n",
       "      <th>Claim Number</th>\n",
       "      <th>Incident Date</th>\n",
       "      <th>Date Received</th>\n",
       "    </tr>\n",
       "  </thead>\n",
       "  <tbody>\n",
       "    <tr>\n",
       "      <th>0</th>\n",
       "      <td>BCHKRDM32K</td>\n",
       "      <td>21-10-2007</td>\n",
       "      <td>31-10-2007</td>\n",
       "    </tr>\n",
       "    <tr>\n",
       "      <th>1</th>\n",
       "      <td>B3GPD5IZQW</td>\n",
       "      <td>26-05-2006</td>\n",
       "      <td>14-06-2006</td>\n",
       "    </tr>\n",
       "    <tr>\n",
       "      <th>2</th>\n",
       "      <td>EB757CV6XW</td>\n",
       "      <td>18-01-2004</td>\n",
       "      <td>10-02-2004</td>\n",
       "    </tr>\n",
       "    <tr>\n",
       "      <th>3</th>\n",
       "      <td>SP0Z0Q95OV</td>\n",
       "      <td>28-04-2004</td>\n",
       "      <td>06-05-2004</td>\n",
       "    </tr>\n",
       "    <tr>\n",
       "      <th>4</th>\n",
       "      <td>VKZUK7J3KK</td>\n",
       "      <td>04-11-2007</td>\n",
       "      <td>14-11-2007</td>\n",
       "    </tr>\n",
       "  </tbody>\n",
       "</table>\n",
       "</div>"
      ],
      "text/plain": [
       "  Claim Number Incident Date Date Received\n",
       "0   BCHKRDM32K    21-10-2007    31-10-2007\n",
       "1   B3GPD5IZQW    26-05-2006    14-06-2006\n",
       "2   EB757CV6XW    18-01-2004    10-02-2004\n",
       "3   SP0Z0Q95OV    28-04-2004    06-05-2004\n",
       "4   VKZUK7J3KK    04-11-2007    14-11-2007"
      ]
     },
     "execution_count": 4,
     "metadata": {},
     "output_type": "execute_result"
    }
   ],
   "source": [
    "data2.head()"
   ]
  },
  {
   "cell_type": "code",
   "execution_count": 5,
   "id": "3afa3f8f",
   "metadata": {},
   "outputs": [
    {
     "data": {
      "text/html": [
       "<div>\n",
       "<style scoped>\n",
       "    .dataframe tbody tr th:only-of-type {\n",
       "        vertical-align: middle;\n",
       "    }\n",
       "\n",
       "    .dataframe tbody tr th {\n",
       "        vertical-align: top;\n",
       "    }\n",
       "\n",
       "    .dataframe thead th {\n",
       "        text-align: right;\n",
       "    }\n",
       "</style>\n",
       "<table border=\"1\" class=\"dataframe\">\n",
       "  <thead>\n",
       "    <tr style=\"text-align: right;\">\n",
       "      <th></th>\n",
       "      <th>Claim Number</th>\n",
       "      <th>Claim Amount</th>\n",
       "      <th>Close Amount</th>\n",
       "      <th>Disposition</th>\n",
       "    </tr>\n",
       "  </thead>\n",
       "  <tbody>\n",
       "    <tr>\n",
       "      <th>0</th>\n",
       "      <td>Y5VA9KOE89</td>\n",
       "      <td>100.00</td>\n",
       "      <td>0.00</td>\n",
       "      <td>Deny</td>\n",
       "    </tr>\n",
       "    <tr>\n",
       "      <th>1</th>\n",
       "      <td>P51DOJLR8W</td>\n",
       "      <td>199.99</td>\n",
       "      <td>0.00</td>\n",
       "      <td>Deny</td>\n",
       "    </tr>\n",
       "    <tr>\n",
       "      <th>2</th>\n",
       "      <td>OUUZFP7EFL</td>\n",
       "      <td>410.00</td>\n",
       "      <td>59.85</td>\n",
       "      <td>Settle</td>\n",
       "    </tr>\n",
       "    <tr>\n",
       "      <th>3</th>\n",
       "      <td>CGP3L1CCP2</td>\n",
       "      <td>240.00</td>\n",
       "      <td>0.00</td>\n",
       "      <td>Deny</td>\n",
       "    </tr>\n",
       "    <tr>\n",
       "      <th>4</th>\n",
       "      <td>JDFLPD7J9Z</td>\n",
       "      <td>11.36</td>\n",
       "      <td>11.36</td>\n",
       "      <td>Approve in Full</td>\n",
       "    </tr>\n",
       "  </tbody>\n",
       "</table>\n",
       "</div>"
      ],
      "text/plain": [
       "  Claim Number  Claim Amount  Close Amount      Disposition\n",
       "0   Y5VA9KOE89        100.00          0.00             Deny\n",
       "1   P51DOJLR8W        199.99          0.00             Deny\n",
       "2   OUUZFP7EFL        410.00         59.85           Settle\n",
       "3   CGP3L1CCP2        240.00          0.00             Deny\n",
       "4   JDFLPD7J9Z         11.36         11.36  Approve in Full"
      ]
     },
     "execution_count": 5,
     "metadata": {},
     "output_type": "execute_result"
    }
   ],
   "source": [
    "data3.head()"
   ]
  },
  {
   "cell_type": "code",
   "execution_count": 6,
   "id": "f64b06c6",
   "metadata": {},
   "outputs": [],
   "source": [
    "data = data1.merge(data2, how='outer')"
   ]
  },
  {
   "cell_type": "code",
   "execution_count": 7,
   "id": "0e3c066c",
   "metadata": {},
   "outputs": [],
   "source": [
    "data = data.merge(data3, how='outer')"
   ]
  },
  {
   "cell_type": "code",
   "execution_count": 8,
   "id": "a0f8777e",
   "metadata": {},
   "outputs": [
    {
     "data": {
      "text/html": [
       "<div>\n",
       "<style scoped>\n",
       "    .dataframe tbody tr th:only-of-type {\n",
       "        vertical-align: middle;\n",
       "    }\n",
       "\n",
       "    .dataframe tbody tr th {\n",
       "        vertical-align: top;\n",
       "    }\n",
       "\n",
       "    .dataframe thead th {\n",
       "        text-align: right;\n",
       "    }\n",
       "</style>\n",
       "<table border=\"1\" class=\"dataframe\">\n",
       "  <thead>\n",
       "    <tr style=\"text-align: right;\">\n",
       "      <th></th>\n",
       "      <th>Claim Number</th>\n",
       "      <th>City Code</th>\n",
       "      <th>City</th>\n",
       "      <th>Enterprise Type</th>\n",
       "      <th>Claim Type</th>\n",
       "      <th>Claim Site</th>\n",
       "      <th>Product Insured</th>\n",
       "      <th>Incident Date</th>\n",
       "      <th>Date Received</th>\n",
       "      <th>Claim Amount</th>\n",
       "      <th>Close Amount</th>\n",
       "      <th>Disposition</th>\n",
       "    </tr>\n",
       "  </thead>\n",
       "  <tbody>\n",
       "    <tr>\n",
       "      <th>0</th>\n",
       "      <td>DQW1NZO0PL</td>\n",
       "      <td>NSK</td>\n",
       "      <td>Nashik</td>\n",
       "      <td>Public Limited Company</td>\n",
       "      <td>Property Loss</td>\n",
       "      <td>In Transit</td>\n",
       "      <td>Inventory - Raw Material</td>\n",
       "      <td>25-05-2007</td>\n",
       "      <td>06-07-2007</td>\n",
       "      <td>490.00</td>\n",
       "      <td>0.00</td>\n",
       "      <td>Deny</td>\n",
       "    </tr>\n",
       "    <tr>\n",
       "      <th>1</th>\n",
       "      <td>JS5GAPRN5B</td>\n",
       "      <td>BOM</td>\n",
       "      <td>Mumbai</td>\n",
       "      <td>One Person Company</td>\n",
       "      <td>Property Loss</td>\n",
       "      <td>In Transit</td>\n",
       "      <td>Cameras and other Misc. Security Equipment</td>\n",
       "      <td>17-09-2006</td>\n",
       "      <td>27-09-2006</td>\n",
       "      <td>300.00</td>\n",
       "      <td>150.00</td>\n",
       "      <td>Settle</td>\n",
       "    </tr>\n",
       "    <tr>\n",
       "      <th>2</th>\n",
       "      <td>ZTSVAQSEAQ</td>\n",
       "      <td>LKO</td>\n",
       "      <td>Lucknow</td>\n",
       "      <td>Public Limited Company</td>\n",
       "      <td>Property Loss</td>\n",
       "      <td>In Transit</td>\n",
       "      <td>Fixtures</td>\n",
       "      <td>12-06-2006</td>\n",
       "      <td>17-07-2006</td>\n",
       "      <td>83.98</td>\n",
       "      <td>83.98</td>\n",
       "      <td>Approve in Full</td>\n",
       "    </tr>\n",
       "    <tr>\n",
       "      <th>3</th>\n",
       "      <td>EW7NWHI7LI</td>\n",
       "      <td>DEL</td>\n",
       "      <td>Delhi</td>\n",
       "      <td>Sole Proprietorship</td>\n",
       "      <td>Property Loss</td>\n",
       "      <td>In Transit</td>\n",
       "      <td>Pumps and Motors</td>\n",
       "      <td>13-11-2005</td>\n",
       "      <td>05-12-2005</td>\n",
       "      <td>507.88</td>\n",
       "      <td>0.00</td>\n",
       "      <td>Deny</td>\n",
       "    </tr>\n",
       "    <tr>\n",
       "      <th>4</th>\n",
       "      <td>UJOFDC41EL</td>\n",
       "      <td>DEL</td>\n",
       "      <td>Delhi</td>\n",
       "      <td>One Person Company</td>\n",
       "      <td>Property Loss</td>\n",
       "      <td>In Transit</td>\n",
       "      <td>Misc. Engineering Tools</td>\n",
       "      <td>28-07-2008</td>\n",
       "      <td>12-08-2008</td>\n",
       "      <td>83.46</td>\n",
       "      <td>41.73</td>\n",
       "      <td>Settle</td>\n",
       "    </tr>\n",
       "    <tr>\n",
       "      <th>...</th>\n",
       "      <td>...</td>\n",
       "      <td>...</td>\n",
       "      <td>...</td>\n",
       "      <td>...</td>\n",
       "      <td>...</td>\n",
       "      <td>...</td>\n",
       "      <td>...</td>\n",
       "      <td>...</td>\n",
       "      <td>...</td>\n",
       "      <td>...</td>\n",
       "      <td>...</td>\n",
       "      <td>...</td>\n",
       "    </tr>\n",
       "    <tr>\n",
       "      <th>34105</th>\n",
       "      <td>5CFGWQ6IR5</td>\n",
       "      <td>AGR</td>\n",
       "      <td>Agra</td>\n",
       "      <td>Public Limited Company</td>\n",
       "      <td>Property Loss</td>\n",
       "      <td>In Transit</td>\n",
       "      <td>Misc. Engineering Tools</td>\n",
       "      <td>19-12-2005</td>\n",
       "      <td>21-03-2006</td>\n",
       "      <td>238.00</td>\n",
       "      <td>115.60</td>\n",
       "      <td>Settle</td>\n",
       "    </tr>\n",
       "    <tr>\n",
       "      <th>34106</th>\n",
       "      <td>QQ6EAWA4Q5</td>\n",
       "      <td>LKO</td>\n",
       "      <td>Lucknow</td>\n",
       "      <td>Partnership Firm</td>\n",
       "      <td>Property Damage</td>\n",
       "      <td>In Transit</td>\n",
       "      <td>Misc. Electronic Items</td>\n",
       "      <td>08-01-2007</td>\n",
       "      <td>16-01-2007</td>\n",
       "      <td>7.00</td>\n",
       "      <td>0.00</td>\n",
       "      <td>Deny</td>\n",
       "    </tr>\n",
       "    <tr>\n",
       "      <th>34107</th>\n",
       "      <td>X1J58PT1J5</td>\n",
       "      <td>HYD</td>\n",
       "      <td>Hyderabad</td>\n",
       "      <td>One Person Company</td>\n",
       "      <td>Property Damage</td>\n",
       "      <td>In Transit</td>\n",
       "      <td>Misc. Electronic Items</td>\n",
       "      <td>19-09-2005</td>\n",
       "      <td>18-10-2005</td>\n",
       "      <td>166.00</td>\n",
       "      <td>70.00</td>\n",
       "      <td>Settle</td>\n",
       "    </tr>\n",
       "    <tr>\n",
       "      <th>34108</th>\n",
       "      <td>AGOXXE8KII</td>\n",
       "      <td>MAA</td>\n",
       "      <td>Chennai</td>\n",
       "      <td>Sole Proprietorship</td>\n",
       "      <td>Property Damage</td>\n",
       "      <td>Warehouse</td>\n",
       "      <td>Pumps and Motors</td>\n",
       "      <td>14-04-2009</td>\n",
       "      <td>09-09-2009</td>\n",
       "      <td>450.00</td>\n",
       "      <td>280.00</td>\n",
       "      <td>Settle</td>\n",
       "    </tr>\n",
       "    <tr>\n",
       "      <th>34109</th>\n",
       "      <td>WT5RH23GPC</td>\n",
       "      <td>LKO</td>\n",
       "      <td>Lucknow</td>\n",
       "      <td>Private Ltd. MSME - Medium</td>\n",
       "      <td>Property Loss</td>\n",
       "      <td>In Transit</td>\n",
       "      <td>Inventory - Raw Material</td>\n",
       "      <td>19-03-2005</td>\n",
       "      <td>29-03-2005</td>\n",
       "      <td>70.35</td>\n",
       "      <td>70.35</td>\n",
       "      <td>Approve in Full</td>\n",
       "    </tr>\n",
       "  </tbody>\n",
       "</table>\n",
       "<p>34110 rows × 12 columns</p>\n",
       "</div>"
      ],
      "text/plain": [
       "      Claim Number City Code       City             Enterprise Type  \\\n",
       "0       DQW1NZO0PL       NSK     Nashik      Public Limited Company   \n",
       "1       JS5GAPRN5B       BOM     Mumbai          One Person Company   \n",
       "2       ZTSVAQSEAQ       LKO    Lucknow      Public Limited Company   \n",
       "3       EW7NWHI7LI       DEL      Delhi         Sole Proprietorship   \n",
       "4       UJOFDC41EL       DEL      Delhi          One Person Company   \n",
       "...            ...       ...        ...                         ...   \n",
       "34105   5CFGWQ6IR5       AGR       Agra      Public Limited Company   \n",
       "34106   QQ6EAWA4Q5       LKO    Lucknow            Partnership Firm   \n",
       "34107   X1J58PT1J5       HYD  Hyderabad          One Person Company   \n",
       "34108   AGOXXE8KII       MAA    Chennai         Sole Proprietorship   \n",
       "34109   WT5RH23GPC       LKO    Lucknow  Private Ltd. MSME - Medium   \n",
       "\n",
       "            Claim Type  Claim Site  \\\n",
       "0        Property Loss  In Transit   \n",
       "1        Property Loss  In Transit   \n",
       "2        Property Loss  In Transit   \n",
       "3        Property Loss  In Transit   \n",
       "4        Property Loss  In Transit   \n",
       "...                ...         ...   \n",
       "34105    Property Loss  In Transit   \n",
       "34106  Property Damage  In Transit   \n",
       "34107  Property Damage  In Transit   \n",
       "34108  Property Damage   Warehouse   \n",
       "34109    Property Loss  In Transit   \n",
       "\n",
       "                                  Product Insured Incident Date Date Received  \\\n",
       "0                        Inventory - Raw Material    25-05-2007    06-07-2007   \n",
       "1      Cameras and other Misc. Security Equipment    17-09-2006    27-09-2006   \n",
       "2                                        Fixtures    12-06-2006    17-07-2006   \n",
       "3                                Pumps and Motors    13-11-2005    05-12-2005   \n",
       "4                         Misc. Engineering Tools    28-07-2008    12-08-2008   \n",
       "...                                           ...           ...           ...   \n",
       "34105                     Misc. Engineering Tools    19-12-2005    21-03-2006   \n",
       "34106                      Misc. Electronic Items    08-01-2007    16-01-2007   \n",
       "34107                      Misc. Electronic Items    19-09-2005    18-10-2005   \n",
       "34108                            Pumps and Motors    14-04-2009    09-09-2009   \n",
       "34109                    Inventory - Raw Material    19-03-2005    29-03-2005   \n",
       "\n",
       "       Claim Amount  Close Amount      Disposition  \n",
       "0            490.00          0.00             Deny  \n",
       "1            300.00        150.00           Settle  \n",
       "2             83.98         83.98  Approve in Full  \n",
       "3            507.88          0.00             Deny  \n",
       "4             83.46         41.73           Settle  \n",
       "...             ...           ...              ...  \n",
       "34105        238.00        115.60           Settle  \n",
       "34106          7.00          0.00             Deny  \n",
       "34107        166.00         70.00           Settle  \n",
       "34108        450.00        280.00           Settle  \n",
       "34109         70.35         70.35  Approve in Full  \n",
       "\n",
       "[34110 rows x 12 columns]"
      ]
     },
     "execution_count": 8,
     "metadata": {},
     "output_type": "execute_result"
    }
   ],
   "source": [
    "data"
   ]
  },
  {
   "cell_type": "code",
   "execution_count": 9,
   "id": "4976d24a",
   "metadata": {},
   "outputs": [
    {
     "data": {
      "text/plain": [
       "(34110, 12)"
      ]
     },
     "execution_count": 9,
     "metadata": {},
     "output_type": "execute_result"
    }
   ],
   "source": [
    "data.shape"
   ]
  },
  {
   "cell_type": "code",
   "execution_count": 10,
   "id": "f5fee402",
   "metadata": {},
   "outputs": [
    {
     "data": {
      "text/html": [
       "<div>\n",
       "<style scoped>\n",
       "    .dataframe tbody tr th:only-of-type {\n",
       "        vertical-align: middle;\n",
       "    }\n",
       "\n",
       "    .dataframe tbody tr th {\n",
       "        vertical-align: top;\n",
       "    }\n",
       "\n",
       "    .dataframe thead th {\n",
       "        text-align: right;\n",
       "    }\n",
       "</style>\n",
       "<table border=\"1\" class=\"dataframe\">\n",
       "  <thead>\n",
       "    <tr style=\"text-align: right;\">\n",
       "      <th></th>\n",
       "      <th>Claim Amount</th>\n",
       "      <th>Close Amount</th>\n",
       "    </tr>\n",
       "  </thead>\n",
       "  <tbody>\n",
       "    <tr>\n",
       "      <th>count</th>\n",
       "      <td>34110.000000</td>\n",
       "      <td>34110.000000</td>\n",
       "    </tr>\n",
       "    <tr>\n",
       "      <th>mean</th>\n",
       "      <td>717.844178</td>\n",
       "      <td>104.883016</td>\n",
       "    </tr>\n",
       "    <tr>\n",
       "      <th>std</th>\n",
       "      <td>8290.881802</td>\n",
       "      <td>1393.564677</td>\n",
       "    </tr>\n",
       "    <tr>\n",
       "      <th>min</th>\n",
       "      <td>0.000000</td>\n",
       "      <td>0.000000</td>\n",
       "    </tr>\n",
       "    <tr>\n",
       "      <th>25%</th>\n",
       "      <td>60.000000</td>\n",
       "      <td>0.000000</td>\n",
       "    </tr>\n",
       "    <tr>\n",
       "      <th>50%</th>\n",
       "      <td>175.000000</td>\n",
       "      <td>0.000000</td>\n",
       "    </tr>\n",
       "    <tr>\n",
       "      <th>75%</th>\n",
       "      <td>460.000000</td>\n",
       "      <td>75.000000</td>\n",
       "    </tr>\n",
       "    <tr>\n",
       "      <th>max</th>\n",
       "      <td>900000.000000</td>\n",
       "      <td>250000.000000</td>\n",
       "    </tr>\n",
       "  </tbody>\n",
       "</table>\n",
       "</div>"
      ],
      "text/plain": [
       "        Claim Amount   Close Amount\n",
       "count   34110.000000   34110.000000\n",
       "mean      717.844178     104.883016\n",
       "std      8290.881802    1393.564677\n",
       "min         0.000000       0.000000\n",
       "25%        60.000000       0.000000\n",
       "50%       175.000000       0.000000\n",
       "75%       460.000000      75.000000\n",
       "max    900000.000000  250000.000000"
      ]
     },
     "execution_count": 10,
     "metadata": {},
     "output_type": "execute_result"
    }
   ],
   "source": [
    "data.describe()"
   ]
  },
  {
   "cell_type": "code",
   "execution_count": 11,
   "id": "066b1084",
   "metadata": {},
   "outputs": [
    {
     "data": {
      "text/plain": [
       "array(['Deny', 'Settle', 'Approve in Full'], dtype=object)"
      ]
     },
     "execution_count": 11,
     "metadata": {},
     "output_type": "execute_result"
    }
   ],
   "source": [
    "data['Disposition'].unique()"
   ]
  },
  {
   "cell_type": "code",
   "execution_count": 12,
   "id": "86b61f2c",
   "metadata": {},
   "outputs": [
    {
     "data": {
      "text/plain": [
       "Deny               52.324831\n",
       "Approve in Full    26.537672\n",
       "Settle             21.137496\n",
       "Name: Disposition, dtype: float64"
      ]
     },
     "execution_count": 12,
     "metadata": {},
     "output_type": "execute_result"
    }
   ],
   "source": [
    "data['Disposition'].value_counts(normalize=True)*100"
   ]
  },
  {
   "cell_type": "code",
   "execution_count": 13,
   "id": "e899e9cb",
   "metadata": {},
   "outputs": [
    {
     "data": {
      "text/plain": [
       "array(['Public Limited Company', 'One Person Company',\n",
       "       'Sole Proprietorship', 'Private Limited Company',\n",
       "       'Joint-Venture Company', 'Partnership Firm', 'Foreign Subsidary',\n",
       "       'Cooperative Society', 'Non-Profit Organization (NPO)',\n",
       "       'Private Ltd. MSME - Small', 'Private Ltd. MSME - Micro',\n",
       "       'Private Ltd. MSME - Medium',\n",
       "       'Limited Liability Parterneship (LLP)'], dtype=object)"
      ]
     },
     "execution_count": 13,
     "metadata": {},
     "output_type": "execute_result"
    }
   ],
   "source": [
    "data['Enterprise Type'].unique()"
   ]
  },
  {
   "cell_type": "code",
   "execution_count": 14,
   "id": "4ac812dd",
   "metadata": {},
   "outputs": [
    {
     "data": {
      "text/plain": [
       "Sole Proprietorship                     18.349458\n",
       "One Person Company                      14.394606\n",
       "Private Limited Company                 14.119027\n",
       "Public Limited Company                  11.442392\n",
       "Joint-Venture Company                    9.058927\n",
       "Partnership Firm                         8.320141\n",
       "Non-Profit Organization (NPO)            7.877455\n",
       "Foreign Subsidary                        4.872471\n",
       "Private Ltd. MSME - Micro                4.212841\n",
       "Limited Liability Parterneship (LLP)     2.509528\n",
       "Private Ltd. MSME - Medium               1.890941\n",
       "Cooperative Society                      1.521548\n",
       "Private Ltd. MSME - Small                1.430665\n",
       "Name: Enterprise Type, dtype: float64"
      ]
     },
     "execution_count": 14,
     "metadata": {},
     "output_type": "execute_result"
    }
   ],
   "source": [
    "data['Enterprise Type'].value_counts(normalize=True)*100"
   ]
  },
  {
   "cell_type": "code",
   "execution_count": 15,
   "id": "1550e950",
   "metadata": {},
   "outputs": [
    {
     "data": {
      "text/plain": [
       "Property Loss      62.198769\n",
       "Property Damage    37.801231\n",
       "Name: Claim Type, dtype: float64"
      ]
     },
     "execution_count": 15,
     "metadata": {},
     "output_type": "execute_result"
    }
   ],
   "source": [
    "data['Claim Type'].value_counts(normalize=True)*100"
   ]
  },
  {
   "cell_type": "code",
   "execution_count": 16,
   "id": "a0a4f9d3",
   "metadata": {},
   "outputs": [
    {
     "data": {
      "text/plain": [
       "In Transit    84.450308\n",
       "Warehouse     15.230138\n",
       "Other          0.319554\n",
       "Name: Claim Site, dtype: float64"
      ]
     },
     "execution_count": 16,
     "metadata": {},
     "output_type": "execute_result"
    }
   ],
   "source": [
    "data['Claim Site'].value_counts(normalize=True)*100"
   ]
  },
  {
   "cell_type": "code",
   "execution_count": 17,
   "id": "7b94a7eb",
   "metadata": {},
   "outputs": [
    {
     "data": {
      "text/plain": [
       "Inventory - Raw Material                                    23.776019\n",
       "Misc. Electronic Items                                      16.449721\n",
       "Misc. Engineering Tools                                     12.450894\n",
       "Inventory - Finished Goods                                   9.739079\n",
       "Furniture                                                    8.894752\n",
       "Misc. Electrical Equipment                                   8.633832\n",
       "Heating, ventilation, and air conditioning (HVAC) System     8.170624\n",
       "Fixtures                                                     3.122252\n",
       "Pumps and Motors                                             3.004984\n",
       "Misc. Lab Equipment                                          2.037526\n",
       "Misc. Sensors                                                1.697449\n",
       "Property, Plant, and Equipment (PPE) Parts                   1.017297\n",
       "Cameras and other Misc. Security Equipment                   1.005570\n",
       "Name: Product Insured, dtype: float64"
      ]
     },
     "execution_count": 17,
     "metadata": {},
     "output_type": "execute_result"
    }
   ],
   "source": [
    "data['Product Insured'].value_counts(normalize=True)*100"
   ]
  },
  {
   "cell_type": "code",
   "execution_count": 18,
   "id": "9caf0e90",
   "metadata": {},
   "outputs": [],
   "source": [
    "import matplotlib.pyplot as plt"
   ]
  },
  {
   "cell_type": "code",
   "execution_count": 19,
   "id": "c6e925ab",
   "metadata": {},
   "outputs": [
    {
     "data": {
      "text/plain": [
       "{'whiskers': [<matplotlib.lines.Line2D at 0x19f69df4c40>,\n",
       "  <matplotlib.lines.Line2D at 0x19f69df4ee0>],\n",
       " 'caps': [<matplotlib.lines.Line2D at 0x19f69e111c0>,\n",
       "  <matplotlib.lines.Line2D at 0x19f69e11460>],\n",
       " 'boxes': [<matplotlib.lines.Line2D at 0x19f69df49a0>],\n",
       " 'medians': [<matplotlib.lines.Line2D at 0x19f69e11700>],\n",
       " 'fliers': [<matplotlib.lines.Line2D at 0x19f69e119a0>],\n",
       " 'means': []}"
      ]
     },
     "execution_count": 19,
     "metadata": {},
     "output_type": "execute_result"
    },
    {
     "data": {
      "image/png": "[encoded data removed]",
      "text/plain": [
       "<Figure size 432x288 with 1 Axes>"
      ]
     },
     "metadata": {
      "needs_background": "light"
     },
     "output_type": "display_data"
    }
   ],
   "source": [
    "plt.boxplot(data['Claim Amount'].head())"
   ]
  },
  {
   "cell_type": "code",
   "execution_count": 20,
   "id": "510f72c3",
   "metadata": {},
   "outputs": [
    {
     "data": {
      "text/plain": [
       "{'whiskers': [<matplotlib.lines.Line2D at 0x19f6cebec70>,\n",
       "  <matplotlib.lines.Line2D at 0x19f6cebef10>],\n",
       " 'caps': [<matplotlib.lines.Line2D at 0x19f6cecd1f0>,\n",
       "  <matplotlib.lines.Line2D at 0x19f6cecd490>],\n",
       " 'boxes': [<matplotlib.lines.Line2D at 0x19f6cebe9d0>],\n",
       " 'medians': [<matplotlib.lines.Line2D at 0x19f6cecd730>],\n",
       " 'fliers': [<matplotlib.lines.Line2D at 0x19f6cecd9d0>],\n",
       " 'means': []}"
      ]
     },
     "execution_count": 20,
     "metadata": {},
     "output_type": "execute_result"
    },
    {
     "data": {
      "image/png": "[encoded data removed]",
      "text/plain": [
       "<Figure size 432x288 with 1 Axes>"
      ]
     },
     "metadata": {
      "needs_background": "light"
     },
     "output_type": "display_data"
    }
   ],
   "source": [
    "plt.boxplot(data['Close Amount'].head(10))"
   ]
  },
  {
   "cell_type": "code",
   "execution_count": 21,
   "id": "dfce2df8",
   "metadata": {},
   "outputs": [
    {
     "data": {
      "text/html": [
       "<div>\n",
       "<style scoped>\n",
       "    .dataframe tbody tr th:only-of-type {\n",
       "        vertical-align: middle;\n",
       "    }\n",
       "\n",
       "    .dataframe tbody tr th {\n",
       "        vertical-align: top;\n",
       "    }\n",
       "\n",
       "    .dataframe thead th {\n",
       "        text-align: right;\n",
       "    }\n",
       "</style>\n",
       "<table border=\"1\" class=\"dataframe\">\n",
       "  <thead>\n",
       "    <tr style=\"text-align: right;\">\n",
       "      <th></th>\n",
       "      <th>Claim Number</th>\n",
       "      <th>City Code</th>\n",
       "      <th>City</th>\n",
       "      <th>Enterprise Type</th>\n",
       "      <th>Claim Type</th>\n",
       "      <th>Claim Site</th>\n",
       "      <th>Product Insured</th>\n",
       "      <th>Incident Date</th>\n",
       "      <th>Date Received</th>\n",
       "      <th>Claim Amount</th>\n",
       "      <th>Close Amount</th>\n",
       "      <th>Disposition</th>\n",
       "    </tr>\n",
       "  </thead>\n",
       "  <tbody>\n",
       "    <tr>\n",
       "      <th>0</th>\n",
       "      <td>DQW1NZO0PL</td>\n",
       "      <td>NSK</td>\n",
       "      <td>Nashik</td>\n",
       "      <td>Public Limited Company</td>\n",
       "      <td>Property Loss</td>\n",
       "      <td>In Transit</td>\n",
       "      <td>Inventory - Raw Material</td>\n",
       "      <td>25-05-2007</td>\n",
       "      <td>06-07-2007</td>\n",
       "      <td>490.00</td>\n",
       "      <td>0.00</td>\n",
       "      <td>Deny</td>\n",
       "    </tr>\n",
       "    <tr>\n",
       "      <th>1</th>\n",
       "      <td>JS5GAPRN5B</td>\n",
       "      <td>BOM</td>\n",
       "      <td>Mumbai</td>\n",
       "      <td>One Person Company</td>\n",
       "      <td>Property Loss</td>\n",
       "      <td>In Transit</td>\n",
       "      <td>Cameras and other Misc. Security Equipment</td>\n",
       "      <td>17-09-2006</td>\n",
       "      <td>27-09-2006</td>\n",
       "      <td>300.00</td>\n",
       "      <td>150.00</td>\n",
       "      <td>Settle</td>\n",
       "    </tr>\n",
       "    <tr>\n",
       "      <th>2</th>\n",
       "      <td>ZTSVAQSEAQ</td>\n",
       "      <td>LKO</td>\n",
       "      <td>Lucknow</td>\n",
       "      <td>Public Limited Company</td>\n",
       "      <td>Property Loss</td>\n",
       "      <td>In Transit</td>\n",
       "      <td>Fixtures</td>\n",
       "      <td>12-06-2006</td>\n",
       "      <td>17-07-2006</td>\n",
       "      <td>83.98</td>\n",
       "      <td>83.98</td>\n",
       "      <td>Approve in Full</td>\n",
       "    </tr>\n",
       "    <tr>\n",
       "      <th>3</th>\n",
       "      <td>EW7NWHI7LI</td>\n",
       "      <td>DEL</td>\n",
       "      <td>Delhi</td>\n",
       "      <td>Sole Proprietorship</td>\n",
       "      <td>Property Loss</td>\n",
       "      <td>In Transit</td>\n",
       "      <td>Pumps and Motors</td>\n",
       "      <td>13-11-2005</td>\n",
       "      <td>05-12-2005</td>\n",
       "      <td>507.88</td>\n",
       "      <td>0.00</td>\n",
       "      <td>Deny</td>\n",
       "    </tr>\n",
       "    <tr>\n",
       "      <th>4</th>\n",
       "      <td>UJOFDC41EL</td>\n",
       "      <td>DEL</td>\n",
       "      <td>Delhi</td>\n",
       "      <td>One Person Company</td>\n",
       "      <td>Property Loss</td>\n",
       "      <td>In Transit</td>\n",
       "      <td>Misc. Engineering Tools</td>\n",
       "      <td>28-07-2008</td>\n",
       "      <td>12-08-2008</td>\n",
       "      <td>83.46</td>\n",
       "      <td>41.73</td>\n",
       "      <td>Settle</td>\n",
       "    </tr>\n",
       "    <tr>\n",
       "      <th>...</th>\n",
       "      <td>...</td>\n",
       "      <td>...</td>\n",
       "      <td>...</td>\n",
       "      <td>...</td>\n",
       "      <td>...</td>\n",
       "      <td>...</td>\n",
       "      <td>...</td>\n",
       "      <td>...</td>\n",
       "      <td>...</td>\n",
       "      <td>...</td>\n",
       "      <td>...</td>\n",
       "      <td>...</td>\n",
       "    </tr>\n",
       "    <tr>\n",
       "      <th>34105</th>\n",
       "      <td>5CFGWQ6IR5</td>\n",
       "      <td>AGR</td>\n",
       "      <td>Agra</td>\n",
       "      <td>Public Limited Company</td>\n",
       "      <td>Property Loss</td>\n",
       "      <td>In Transit</td>\n",
       "      <td>Misc. Engineering Tools</td>\n",
       "      <td>19-12-2005</td>\n",
       "      <td>21-03-2006</td>\n",
       "      <td>238.00</td>\n",
       "      <td>115.60</td>\n",
       "      <td>Settle</td>\n",
       "    </tr>\n",
       "    <tr>\n",
       "      <th>34106</th>\n",
       "      <td>QQ6EAWA4Q5</td>\n",
       "      <td>LKO</td>\n",
       "      <td>Lucknow</td>\n",
       "      <td>Partnership Firm</td>\n",
       "      <td>Property Damage</td>\n",
       "      <td>In Transit</td>\n",
       "      <td>Misc. Electronic Items</td>\n",
       "      <td>08-01-2007</td>\n",
       "      <td>16-01-2007</td>\n",
       "      <td>7.00</td>\n",
       "      <td>0.00</td>\n",
       "      <td>Deny</td>\n",
       "    </tr>\n",
       "    <tr>\n",
       "      <th>34107</th>\n",
       "      <td>X1J58PT1J5</td>\n",
       "      <td>HYD</td>\n",
       "      <td>Hyderabad</td>\n",
       "      <td>One Person Company</td>\n",
       "      <td>Property Damage</td>\n",
       "      <td>In Transit</td>\n",
       "      <td>Misc. Electronic Items</td>\n",
       "      <td>19-09-2005</td>\n",
       "      <td>18-10-2005</td>\n",
       "      <td>166.00</td>\n",
       "      <td>70.00</td>\n",
       "      <td>Settle</td>\n",
       "    </tr>\n",
       "    <tr>\n",
       "      <th>34108</th>\n",
       "      <td>AGOXXE8KII</td>\n",
       "      <td>MAA</td>\n",
       "      <td>Chennai</td>\n",
       "      <td>Sole Proprietorship</td>\n",
       "      <td>Property Damage</td>\n",
       "      <td>Warehouse</td>\n",
       "      <td>Pumps and Motors</td>\n",
       "      <td>14-04-2009</td>\n",
       "      <td>09-09-2009</td>\n",
       "      <td>450.00</td>\n",
       "      <td>280.00</td>\n",
       "      <td>Settle</td>\n",
       "    </tr>\n",
       "    <tr>\n",
       "      <th>34109</th>\n",
       "      <td>WT5RH23GPC</td>\n",
       "      <td>LKO</td>\n",
       "      <td>Lucknow</td>\n",
       "      <td>Private Ltd. MSME - Medium</td>\n",
       "      <td>Property Loss</td>\n",
       "      <td>In Transit</td>\n",
       "      <td>Inventory - Raw Material</td>\n",
       "      <td>19-03-2005</td>\n",
       "      <td>29-03-2005</td>\n",
       "      <td>70.35</td>\n",
       "      <td>70.35</td>\n",
       "      <td>Approve in Full</td>\n",
       "    </tr>\n",
       "  </tbody>\n",
       "</table>\n",
       "<p>34110 rows × 12 columns</p>\n",
       "</div>"
      ],
      "text/plain": [
       "      Claim Number City Code       City             Enterprise Type  \\\n",
       "0       DQW1NZO0PL       NSK     Nashik      Public Limited Company   \n",
       "1       JS5GAPRN5B       BOM     Mumbai          One Person Company   \n",
       "2       ZTSVAQSEAQ       LKO    Lucknow      Public Limited Company   \n",
       "3       EW7NWHI7LI       DEL      Delhi         Sole Proprietorship   \n",
       "4       UJOFDC41EL       DEL      Delhi          One Person Company   \n",
       "...            ...       ...        ...                         ...   \n",
       "34105   5CFGWQ6IR5       AGR       Agra      Public Limited Company   \n",
       "34106   QQ6EAWA4Q5       LKO    Lucknow            Partnership Firm   \n",
       "34107   X1J58PT1J5       HYD  Hyderabad          One Person Company   \n",
       "34108   AGOXXE8KII       MAA    Chennai         Sole Proprietorship   \n",
       "34109   WT5RH23GPC       LKO    Lucknow  Private Ltd. MSME - Medium   \n",
       "\n",
       "            Claim Type  Claim Site  \\\n",
       "0        Property Loss  In Transit   \n",
       "1        Property Loss  In Transit   \n",
       "2        Property Loss  In Transit   \n",
       "3        Property Loss  In Transit   \n",
       "4        Property Loss  In Transit   \n",
       "...                ...         ...   \n",
       "34105    Property Loss  In Transit   \n",
       "34106  Property Damage  In Transit   \n",
       "34107  Property Damage  In Transit   \n",
       "34108  Property Damage   Warehouse   \n",
       "34109    Property Loss  In Transit   \n",
       "\n",
       "                                  Product Insured Incident Date Date Received  \\\n",
       "0                        Inventory - Raw Material    25-05-2007    06-07-2007   \n",
       "1      Cameras and other Misc. Security Equipment    17-09-2006    27-09-2006   \n",
       "2                                        Fixtures    12-06-2006    17-07-2006   \n",
       "3                                Pumps and Motors    13-11-2005    05-12-2005   \n",
       "4                         Misc. Engineering Tools    28-07-2008    12-08-2008   \n",
       "...                                           ...           ...           ...   \n",
       "34105                     Misc. Engineering Tools    19-12-2005    21-03-2006   \n",
       "34106                      Misc. Electronic Items    08-01-2007    16-01-2007   \n",
       "34107                      Misc. Electronic Items    19-09-2005    18-10-2005   \n",
       "34108                            Pumps and Motors    14-04-2009    09-09-2009   \n",
       "34109                    Inventory - Raw Material    19-03-2005    29-03-2005   \n",
       "\n",
       "       Claim Amount  Close Amount      Disposition  \n",
       "0            490.00          0.00             Deny  \n",
       "1            300.00        150.00           Settle  \n",
       "2             83.98         83.98  Approve in Full  \n",
       "3            507.88          0.00             Deny  \n",
       "4             83.46         41.73           Settle  \n",
       "...             ...           ...              ...  \n",
       "34105        238.00        115.60           Settle  \n",
       "34106          7.00          0.00             Deny  \n",
       "34107        166.00         70.00           Settle  \n",
       "34108        450.00        280.00           Settle  \n",
       "34109         70.35         70.35  Approve in Full  \n",
       "\n",
       "[34110 rows x 12 columns]"
      ]
     },
     "execution_count": 21,
     "metadata": {},
     "output_type": "execute_result"
    }
   ],
   "source": [
    "data"
   ]
  },
  {
   "cell_type": "code",
   "execution_count": 22,
   "id": "188ddb82",
   "metadata": {},
   "outputs": [],
   "source": [
    "Dispo = list(data['Disposition'])\n",
    "Claim = list(data['Claim Amount'])\n",
    "Close = list(data['Close Amount'])"
   ]
  },
  {
   "cell_type": "code",
   "execution_count": 23,
   "id": "40251973",
   "metadata": {},
   "outputs": [
    {
     "data": {
      "text/plain": [
       "70.35"
      ]
     },
     "execution_count": 23,
     "metadata": {},
     "output_type": "execute_result"
    }
   ],
   "source": [
    "Claim[16729]"
   ]
  },
  {
   "cell_type": "code",
   "execution_count": 24,
   "id": "524fc8e4",
   "metadata": {},
   "outputs": [
    {
     "data": {
      "text/plain": [
       "16729"
      ]
     },
     "execution_count": 24,
     "metadata": {},
     "output_type": "execute_result"
    }
   ],
   "source": [
    "Claim.index(70.35)"
   ]
  },
  {
   "cell_type": "code",
   "execution_count": 25,
   "id": "bdf886ce",
   "metadata": {},
   "outputs": [],
   "source": [
    "percent = []"
   ]
  },
  {
   "cell_type": "code",
   "execution_count": 26,
   "id": "b6665176",
   "metadata": {},
   "outputs": [],
   "source": [
    "for i in Dispo:\n",
    "    if i =='Deny':\n",
    "        percent.append(0)\n",
    "    elif i == 'Settle':\n",
    "        percent.append((Close[Dispo.index(i)]/Claim[Dispo.index(i)])*100)\n",
    "    else:\n",
    "        percent.append(100)"
   ]
  },
  {
   "cell_type": "code",
   "execution_count": 27,
   "id": "79a5603e",
   "metadata": {},
   "outputs": [],
   "source": [
    "data['Percent Claim Received'] = percent"
   ]
  },
  {
   "cell_type": "code",
   "execution_count": 28,
   "id": "3890205f",
   "metadata": {},
   "outputs": [
    {
     "name": "stderr",
     "output_type": "stream",
     "text": [
      "<ipython-input-28-4e333ac3b8ea>:1: UserWarning: Parsing dates in DD/MM/YYYY format when dayfirst=False (the default) was specified. This may lead to inconsistently parsed dates! Specify a format to ensure consistent parsing.\n",
      "  data['Incident Date'] = pd.to_datetime(data['Incident Date'])\n",
      "<ipython-input-28-4e333ac3b8ea>:2: UserWarning: Parsing dates in DD/MM/YYYY format when dayfirst=False (the default) was specified. This may lead to inconsistently parsed dates! Specify a format to ensure consistent parsing.\n",
      "  data['Date Received'] = pd.to_datetime(data['Date Received'])\n"
     ]
    }
   ],
   "source": [
    "data['Incident Date'] = pd.to_datetime(data['Incident Date'])\n",
    "data['Date Received'] = pd.to_datetime(data['Date Received'])"
   ]
  },
  {
   "cell_type": "code",
   "execution_count": 29,
   "id": "35d2f51d",
   "metadata": {},
   "outputs": [],
   "source": [
    "data['Reporting Delay'] = data['Date Received'] - data['Incident Date']"
   ]
  },
  {
   "cell_type": "code",
   "execution_count": 30,
   "id": "778bf796",
   "metadata": {},
   "outputs": [
    {
     "data": {
      "text/html": [
       "<div>\n",
       "<style scoped>\n",
       "    .dataframe tbody tr th:only-of-type {\n",
       "        vertical-align: middle;\n",
       "    }\n",
       "\n",
       "    .dataframe tbody tr th {\n",
       "        vertical-align: top;\n",
       "    }\n",
       "\n",
       "    .dataframe thead th {\n",
       "        text-align: right;\n",
       "    }\n",
       "</style>\n",
       "<table border=\"1\" class=\"dataframe\">\n",
       "  <thead>\n",
       "    <tr style=\"text-align: right;\">\n",
       "      <th></th>\n",
       "      <th>Claim Number</th>\n",
       "      <th>City Code</th>\n",
       "      <th>City</th>\n",
       "      <th>Enterprise Type</th>\n",
       "      <th>Claim Type</th>\n",
       "      <th>Claim Site</th>\n",
       "      <th>Product Insured</th>\n",
       "      <th>Incident Date</th>\n",
       "      <th>Date Received</th>\n",
       "      <th>Claim Amount</th>\n",
       "      <th>Close Amount</th>\n",
       "      <th>Disposition</th>\n",
       "      <th>Percent Claim Received</th>\n",
       "      <th>Reporting Delay</th>\n",
       "    </tr>\n",
       "  </thead>\n",
       "  <tbody>\n",
       "    <tr>\n",
       "      <th>0</th>\n",
       "      <td>DQW1NZO0PL</td>\n",
       "      <td>NSK</td>\n",
       "      <td>Nashik</td>\n",
       "      <td>Public Limited Company</td>\n",
       "      <td>Property Loss</td>\n",
       "      <td>In Transit</td>\n",
       "      <td>Inventory - Raw Material</td>\n",
       "      <td>2007-05-25</td>\n",
       "      <td>2007-06-07</td>\n",
       "      <td>490.00</td>\n",
       "      <td>0.00</td>\n",
       "      <td>Deny</td>\n",
       "      <td>0.0</td>\n",
       "      <td>13 days</td>\n",
       "    </tr>\n",
       "    <tr>\n",
       "      <th>1</th>\n",
       "      <td>JS5GAPRN5B</td>\n",
       "      <td>BOM</td>\n",
       "      <td>Mumbai</td>\n",
       "      <td>One Person Company</td>\n",
       "      <td>Property Loss</td>\n",
       "      <td>In Transit</td>\n",
       "      <td>Cameras and other Misc. Security Equipment</td>\n",
       "      <td>2006-09-17</td>\n",
       "      <td>2006-09-27</td>\n",
       "      <td>300.00</td>\n",
       "      <td>150.00</td>\n",
       "      <td>Settle</td>\n",
       "      <td>50.0</td>\n",
       "      <td>10 days</td>\n",
       "    </tr>\n",
       "    <tr>\n",
       "      <th>2</th>\n",
       "      <td>ZTSVAQSEAQ</td>\n",
       "      <td>LKO</td>\n",
       "      <td>Lucknow</td>\n",
       "      <td>Public Limited Company</td>\n",
       "      <td>Property Loss</td>\n",
       "      <td>In Transit</td>\n",
       "      <td>Fixtures</td>\n",
       "      <td>2006-12-06</td>\n",
       "      <td>2006-07-17</td>\n",
       "      <td>83.98</td>\n",
       "      <td>83.98</td>\n",
       "      <td>Approve in Full</td>\n",
       "      <td>100.0</td>\n",
       "      <td>-142 days</td>\n",
       "    </tr>\n",
       "    <tr>\n",
       "      <th>3</th>\n",
       "      <td>EW7NWHI7LI</td>\n",
       "      <td>DEL</td>\n",
       "      <td>Delhi</td>\n",
       "      <td>Sole Proprietorship</td>\n",
       "      <td>Property Loss</td>\n",
       "      <td>In Transit</td>\n",
       "      <td>Pumps and Motors</td>\n",
       "      <td>2005-11-13</td>\n",
       "      <td>2005-05-12</td>\n",
       "      <td>507.88</td>\n",
       "      <td>0.00</td>\n",
       "      <td>Deny</td>\n",
       "      <td>0.0</td>\n",
       "      <td>-185 days</td>\n",
       "    </tr>\n",
       "    <tr>\n",
       "      <th>4</th>\n",
       "      <td>UJOFDC41EL</td>\n",
       "      <td>DEL</td>\n",
       "      <td>Delhi</td>\n",
       "      <td>One Person Company</td>\n",
       "      <td>Property Loss</td>\n",
       "      <td>In Transit</td>\n",
       "      <td>Misc. Engineering Tools</td>\n",
       "      <td>2008-07-28</td>\n",
       "      <td>2008-12-08</td>\n",
       "      <td>83.46</td>\n",
       "      <td>41.73</td>\n",
       "      <td>Settle</td>\n",
       "      <td>50.0</td>\n",
       "      <td>133 days</td>\n",
       "    </tr>\n",
       "    <tr>\n",
       "      <th>...</th>\n",
       "      <td>...</td>\n",
       "      <td>...</td>\n",
       "      <td>...</td>\n",
       "      <td>...</td>\n",
       "      <td>...</td>\n",
       "      <td>...</td>\n",
       "      <td>...</td>\n",
       "      <td>...</td>\n",
       "      <td>...</td>\n",
       "      <td>...</td>\n",
       "      <td>...</td>\n",
       "      <td>...</td>\n",
       "      <td>...</td>\n",
       "      <td>...</td>\n",
       "    </tr>\n",
       "    <tr>\n",
       "      <th>34105</th>\n",
       "      <td>5CFGWQ6IR5</td>\n",
       "      <td>AGR</td>\n",
       "      <td>Agra</td>\n",
       "      <td>Public Limited Company</td>\n",
       "      <td>Property Loss</td>\n",
       "      <td>In Transit</td>\n",
       "      <td>Misc. Engineering Tools</td>\n",
       "      <td>2005-12-19</td>\n",
       "      <td>2006-03-21</td>\n",
       "      <td>238.00</td>\n",
       "      <td>115.60</td>\n",
       "      <td>Settle</td>\n",
       "      <td>50.0</td>\n",
       "      <td>92 days</td>\n",
       "    </tr>\n",
       "    <tr>\n",
       "      <th>34106</th>\n",
       "      <td>QQ6EAWA4Q5</td>\n",
       "      <td>LKO</td>\n",
       "      <td>Lucknow</td>\n",
       "      <td>Partnership Firm</td>\n",
       "      <td>Property Damage</td>\n",
       "      <td>In Transit</td>\n",
       "      <td>Misc. Electronic Items</td>\n",
       "      <td>2007-08-01</td>\n",
       "      <td>2007-01-16</td>\n",
       "      <td>7.00</td>\n",
       "      <td>0.00</td>\n",
       "      <td>Deny</td>\n",
       "      <td>0.0</td>\n",
       "      <td>-197 days</td>\n",
       "    </tr>\n",
       "    <tr>\n",
       "      <th>34107</th>\n",
       "      <td>X1J58PT1J5</td>\n",
       "      <td>HYD</td>\n",
       "      <td>Hyderabad</td>\n",
       "      <td>One Person Company</td>\n",
       "      <td>Property Damage</td>\n",
       "      <td>In Transit</td>\n",
       "      <td>Misc. Electronic Items</td>\n",
       "      <td>2005-09-19</td>\n",
       "      <td>2005-10-18</td>\n",
       "      <td>166.00</td>\n",
       "      <td>70.00</td>\n",
       "      <td>Settle</td>\n",
       "      <td>50.0</td>\n",
       "      <td>29 days</td>\n",
       "    </tr>\n",
       "    <tr>\n",
       "      <th>34108</th>\n",
       "      <td>AGOXXE8KII</td>\n",
       "      <td>MAA</td>\n",
       "      <td>Chennai</td>\n",
       "      <td>Sole Proprietorship</td>\n",
       "      <td>Property Damage</td>\n",
       "      <td>Warehouse</td>\n",
       "      <td>Pumps and Motors</td>\n",
       "      <td>2009-04-14</td>\n",
       "      <td>2009-09-09</td>\n",
       "      <td>450.00</td>\n",
       "      <td>280.00</td>\n",
       "      <td>Settle</td>\n",
       "      <td>50.0</td>\n",
       "      <td>148 days</td>\n",
       "    </tr>\n",
       "    <tr>\n",
       "      <th>34109</th>\n",
       "      <td>WT5RH23GPC</td>\n",
       "      <td>LKO</td>\n",
       "      <td>Lucknow</td>\n",
       "      <td>Private Ltd. MSME - Medium</td>\n",
       "      <td>Property Loss</td>\n",
       "      <td>In Transit</td>\n",
       "      <td>Inventory - Raw Material</td>\n",
       "      <td>2005-03-19</td>\n",
       "      <td>2005-03-29</td>\n",
       "      <td>70.35</td>\n",
       "      <td>70.35</td>\n",
       "      <td>Approve in Full</td>\n",
       "      <td>100.0</td>\n",
       "      <td>10 days</td>\n",
       "    </tr>\n",
       "  </tbody>\n",
       "</table>\n",
       "<p>34110 rows × 14 columns</p>\n",
       "</div>"
      ],
      "text/plain": [
       "      Claim Number City Code       City             Enterprise Type  \\\n",
       "0       DQW1NZO0PL       NSK     Nashik      Public Limited Company   \n",
       "1       JS5GAPRN5B       BOM     Mumbai          One Person Company   \n",
       "2       ZTSVAQSEAQ       LKO    Lucknow      Public Limited Company   \n",
       "3       EW7NWHI7LI       DEL      Delhi         Sole Proprietorship   \n",
       "4       UJOFDC41EL       DEL      Delhi          One Person Company   \n",
       "...            ...       ...        ...                         ...   \n",
       "34105   5CFGWQ6IR5       AGR       Agra      Public Limited Company   \n",
       "34106   QQ6EAWA4Q5       LKO    Lucknow            Partnership Firm   \n",
       "34107   X1J58PT1J5       HYD  Hyderabad          One Person Company   \n",
       "34108   AGOXXE8KII       MAA    Chennai         Sole Proprietorship   \n",
       "34109   WT5RH23GPC       LKO    Lucknow  Private Ltd. MSME - Medium   \n",
       "\n",
       "            Claim Type  Claim Site  \\\n",
       "0        Property Loss  In Transit   \n",
       "1        Property Loss  In Transit   \n",
       "2        Property Loss  In Transit   \n",
       "3        Property Loss  In Transit   \n",
       "4        Property Loss  In Transit   \n",
       "...                ...         ...   \n",
       "34105    Property Loss  In Transit   \n",
       "34106  Property Damage  In Transit   \n",
       "34107  Property Damage  In Transit   \n",
       "34108  Property Damage   Warehouse   \n",
       "34109    Property Loss  In Transit   \n",
       "\n",
       "                                  Product Insured Incident Date Date Received  \\\n",
       "0                        Inventory - Raw Material    2007-05-25    2007-06-07   \n",
       "1      Cameras and other Misc. Security Equipment    2006-09-17    2006-09-27   \n",
       "2                                        Fixtures    2006-12-06    2006-07-17   \n",
       "3                                Pumps and Motors    2005-11-13    2005-05-12   \n",
       "4                         Misc. Engineering Tools    2008-07-28    2008-12-08   \n",
       "...                                           ...           ...           ...   \n",
       "34105                     Misc. Engineering Tools    2005-12-19    2006-03-21   \n",
       "34106                      Misc. Electronic Items    2007-08-01    2007-01-16   \n",
       "34107                      Misc. Electronic Items    2005-09-19    2005-10-18   \n",
       "34108                            Pumps and Motors    2009-04-14    2009-09-09   \n",
       "34109                    Inventory - Raw Material    2005-03-19    2005-03-29   \n",
       "\n",
       "       Claim Amount  Close Amount      Disposition  Percent Claim Received  \\\n",
       "0            490.00          0.00             Deny                     0.0   \n",
       "1            300.00        150.00           Settle                    50.0   \n",
       "2             83.98         83.98  Approve in Full                   100.0   \n",
       "3            507.88          0.00             Deny                     0.0   \n",
       "4             83.46         41.73           Settle                    50.0   \n",
       "...             ...           ...              ...                     ...   \n",
       "34105        238.00        115.60           Settle                    50.0   \n",
       "34106          7.00          0.00             Deny                     0.0   \n",
       "34107        166.00         70.00           Settle                    50.0   \n",
       "34108        450.00        280.00           Settle                    50.0   \n",
       "34109         70.35         70.35  Approve in Full                   100.0   \n",
       "\n",
       "      Reporting Delay  \n",
       "0             13 days  \n",
       "1             10 days  \n",
       "2           -142 days  \n",
       "3           -185 days  \n",
       "4            133 days  \n",
       "...               ...  \n",
       "34105         92 days  \n",
       "34106       -197 days  \n",
       "34107         29 days  \n",
       "34108        148 days  \n",
       "34109         10 days  \n",
       "\n",
       "[34110 rows x 14 columns]"
      ]
     },
     "execution_count": 30,
     "metadata": {},
     "output_type": "execute_result"
    }
   ],
   "source": [
    "data"
   ]
  },
  {
   "cell_type": "code",
   "execution_count": 31,
   "id": "28876af4",
   "metadata": {},
   "outputs": [],
   "source": [
    "import seaborn as sns"
   ]
  },
  {
   "cell_type": "code",
   "execution_count": 32,
   "id": "5111f3ab",
   "metadata": {},
   "outputs": [
    {
     "data": {
      "text/plain": [
       "<AxesSubplot: xlabel='Disposition', ylabel='count'>"
      ]
     },
     "execution_count": 32,
     "metadata": {},
     "output_type": "execute_result"
    },
    {
     "data": {
      "image/png": "[encoded data removed]",
      "text/plain": [
       "<Figure size 432x288 with 1 Axes>"
      ]
     },
     "metadata": {},
     "output_type": "display_data"
    }
   ],
   "source": [
    "sns.set_style('whitegrid')\n",
    "sns.countplot(x = 'Disposition', data=data)"
   ]
  },
  {
   "cell_type": "code",
   "execution_count": 33,
   "id": "7f4192b2",
   "metadata": {},
   "outputs": [
    {
     "data": {
      "text/html": [
       "<div>\n",
       "<style scoped>\n",
       "    .dataframe tbody tr th:only-of-type {\n",
       "        vertical-align: middle;\n",
       "    }\n",
       "\n",
       "    .dataframe tbody tr th {\n",
       "        vertical-align: top;\n",
       "    }\n",
       "\n",
       "    .dataframe thead th {\n",
       "        text-align: right;\n",
       "    }\n",
       "</style>\n",
       "<table border=\"1\" class=\"dataframe\">\n",
       "  <thead>\n",
       "    <tr style=\"text-align: right;\">\n",
       "      <th></th>\n",
       "      <th>Claim Amount</th>\n",
       "      <th>Reporting Delay</th>\n",
       "    </tr>\n",
       "  </thead>\n",
       "  <tbody>\n",
       "    <tr>\n",
       "      <th>0</th>\n",
       "      <td>490.00</td>\n",
       "      <td>13 days</td>\n",
       "    </tr>\n",
       "    <tr>\n",
       "      <th>1</th>\n",
       "      <td>300.00</td>\n",
       "      <td>10 days</td>\n",
       "    </tr>\n",
       "    <tr>\n",
       "      <th>2</th>\n",
       "      <td>83.98</td>\n",
       "      <td>-142 days</td>\n",
       "    </tr>\n",
       "    <tr>\n",
       "      <th>3</th>\n",
       "      <td>507.88</td>\n",
       "      <td>-185 days</td>\n",
       "    </tr>\n",
       "    <tr>\n",
       "      <th>4</th>\n",
       "      <td>83.46</td>\n",
       "      <td>133 days</td>\n",
       "    </tr>\n",
       "    <tr>\n",
       "      <th>...</th>\n",
       "      <td>...</td>\n",
       "      <td>...</td>\n",
       "    </tr>\n",
       "    <tr>\n",
       "      <th>34105</th>\n",
       "      <td>238.00</td>\n",
       "      <td>92 days</td>\n",
       "    </tr>\n",
       "    <tr>\n",
       "      <th>34106</th>\n",
       "      <td>7.00</td>\n",
       "      <td>-197 days</td>\n",
       "    </tr>\n",
       "    <tr>\n",
       "      <th>34107</th>\n",
       "      <td>166.00</td>\n",
       "      <td>29 days</td>\n",
       "    </tr>\n",
       "    <tr>\n",
       "      <th>34108</th>\n",
       "      <td>450.00</td>\n",
       "      <td>148 days</td>\n",
       "    </tr>\n",
       "    <tr>\n",
       "      <th>34109</th>\n",
       "      <td>70.35</td>\n",
       "      <td>10 days</td>\n",
       "    </tr>\n",
       "  </tbody>\n",
       "</table>\n",
       "<p>34110 rows × 2 columns</p>\n",
       "</div>"
      ],
      "text/plain": [
       "       Claim Amount Reporting Delay\n",
       "0            490.00         13 days\n",
       "1            300.00         10 days\n",
       "2             83.98       -142 days\n",
       "3            507.88       -185 days\n",
       "4             83.46        133 days\n",
       "...             ...             ...\n",
       "34105        238.00         92 days\n",
       "34106          7.00       -197 days\n",
       "34107        166.00         29 days\n",
       "34108        450.00        148 days\n",
       "34109         70.35         10 days\n",
       "\n",
       "[34110 rows x 2 columns]"
      ]
     },
     "execution_count": 33,
     "metadata": {},
     "output_type": "execute_result"
    }
   ],
   "source": [
    "#Do people Report Products with more value earlier compared to Products with less value?\n",
    "report = data[['Claim Amount', 'Reporting Delay']]\n",
    "report"
   ]
  },
  {
   "cell_type": "code",
   "execution_count": 34,
   "id": "21f285ee",
   "metadata": {},
   "outputs": [
    {
     "name": "stderr",
     "output_type": "stream",
     "text": [
      "<ipython-input-34-7cd910d3d3c9>:5: SettingWithCopyWarning: \n",
      "A value is trying to be set on a copy of a slice from a DataFrame.\n",
      "Try using .loc[row_indexer,col_indexer] = value instead\n",
      "\n",
      "See the caveats in the documentation: https://pandas.pydata.org/pandas-docs/stable/user_guide/indexing.html#returning-a-view-versus-a-copy\n",
      "  report['Reporting Delay'] = re\n"
     ]
    }
   ],
   "source": [
    "RD = list(report['Reporting Delay'])\n",
    "re = []\n",
    "for i in RD:\n",
    "    re.append(abs(i))\n",
    "report['Reporting Delay'] = re"
   ]
  },
  {
   "cell_type": "code",
   "execution_count": 35,
   "id": "21db1155",
   "metadata": {},
   "outputs": [
    {
     "data": {
      "text/html": [
       "<div>\n",
       "<style scoped>\n",
       "    .dataframe tbody tr th:only-of-type {\n",
       "        vertical-align: middle;\n",
       "    }\n",
       "\n",
       "    .dataframe tbody tr th {\n",
       "        vertical-align: top;\n",
       "    }\n",
       "\n",
       "    .dataframe thead th {\n",
       "        text-align: right;\n",
       "    }\n",
       "</style>\n",
       "<table border=\"1\" class=\"dataframe\">\n",
       "  <thead>\n",
       "    <tr style=\"text-align: right;\">\n",
       "      <th></th>\n",
       "      <th>Claim Amount</th>\n",
       "      <th>Reporting Delay</th>\n",
       "    </tr>\n",
       "  </thead>\n",
       "  <tbody>\n",
       "    <tr>\n",
       "      <th>0</th>\n",
       "      <td>490.00</td>\n",
       "      <td>13 days</td>\n",
       "    </tr>\n",
       "    <tr>\n",
       "      <th>1</th>\n",
       "      <td>300.00</td>\n",
       "      <td>10 days</td>\n",
       "    </tr>\n",
       "    <tr>\n",
       "      <th>2</th>\n",
       "      <td>83.98</td>\n",
       "      <td>142 days</td>\n",
       "    </tr>\n",
       "    <tr>\n",
       "      <th>3</th>\n",
       "      <td>507.88</td>\n",
       "      <td>185 days</td>\n",
       "    </tr>\n",
       "    <tr>\n",
       "      <th>4</th>\n",
       "      <td>83.46</td>\n",
       "      <td>133 days</td>\n",
       "    </tr>\n",
       "  </tbody>\n",
       "</table>\n",
       "</div>"
      ],
      "text/plain": [
       "   Claim Amount Reporting Delay\n",
       "0        490.00         13 days\n",
       "1        300.00         10 days\n",
       "2         83.98        142 days\n",
       "3        507.88        185 days\n",
       "4         83.46        133 days"
      ]
     },
     "execution_count": 35,
     "metadata": {},
     "output_type": "execute_result"
    }
   ],
   "source": [
    "report.head()"
   ]
  },
  {
   "cell_type": "code",
   "execution_count": 36,
   "id": "9145fab1",
   "metadata": {},
   "outputs": [
    {
     "name": "stderr",
     "output_type": "stream",
     "text": [
      "<ipython-input-36-23e6fa959315>:1: SettingWithCopyWarning: \n",
      "A value is trying to be set on a copy of a slice from a DataFrame.\n",
      "Try using .loc[row_indexer,col_indexer] = value instead\n",
      "\n",
      "See the caveats in the documentation: https://pandas.pydata.org/pandas-docs/stable/user_guide/indexing.html#returning-a-view-versus-a-copy\n",
      "  report['Reporting Delay in sec'] = report['Reporting Delay'].dt.total_seconds().astype(int)\n"
     ]
    }
   ],
   "source": [
    "report['Reporting Delay in sec'] = report['Reporting Delay'].dt.total_seconds().astype(int)"
   ]
  },
  {
   "cell_type": "code",
   "execution_count": 37,
   "id": "d2a73aef",
   "metadata": {},
   "outputs": [
    {
     "name": "stderr",
     "output_type": "stream",
     "text": [
      "<ipython-input-37-cc82c6a50509>:1: SettingWithCopyWarning: \n",
      "A value is trying to be set on a copy of a slice from a DataFrame.\n",
      "Try using .loc[row_indexer,col_indexer] = value instead\n",
      "\n",
      "See the caveats in the documentation: https://pandas.pydata.org/pandas-docs/stable/user_guide/indexing.html#returning-a-view-versus-a-copy\n",
      "  report['Reporting Delay in days'] = report['Reporting Delay in sec']/86400\n"
     ]
    }
   ],
   "source": [
    "report['Reporting Delay in days'] = report['Reporting Delay in sec']/86400\n",
    "# 86400 seconds == 1day"
   ]
  },
  {
   "cell_type": "code",
   "execution_count": 38,
   "id": "976551c4",
   "metadata": {},
   "outputs": [
    {
     "data": {
      "text/html": [
       "<div>\n",
       "<style scoped>\n",
       "    .dataframe tbody tr th:only-of-type {\n",
       "        vertical-align: middle;\n",
       "    }\n",
       "\n",
       "    .dataframe tbody tr th {\n",
       "        vertical-align: top;\n",
       "    }\n",
       "\n",
       "    .dataframe thead th {\n",
       "        text-align: right;\n",
       "    }\n",
       "</style>\n",
       "<table border=\"1\" class=\"dataframe\">\n",
       "  <thead>\n",
       "    <tr style=\"text-align: right;\">\n",
       "      <th></th>\n",
       "      <th>Claim Amount</th>\n",
       "      <th>Reporting Delay</th>\n",
       "      <th>Reporting Delay in sec</th>\n",
       "      <th>Reporting Delay in days</th>\n",
       "    </tr>\n",
       "  </thead>\n",
       "  <tbody>\n",
       "    <tr>\n",
       "      <th>0</th>\n",
       "      <td>490.00</td>\n",
       "      <td>13 days</td>\n",
       "      <td>1123200</td>\n",
       "      <td>13.0</td>\n",
       "    </tr>\n",
       "    <tr>\n",
       "      <th>1</th>\n",
       "      <td>300.00</td>\n",
       "      <td>10 days</td>\n",
       "      <td>864000</td>\n",
       "      <td>10.0</td>\n",
       "    </tr>\n",
       "    <tr>\n",
       "      <th>2</th>\n",
       "      <td>83.98</td>\n",
       "      <td>142 days</td>\n",
       "      <td>12268800</td>\n",
       "      <td>142.0</td>\n",
       "    </tr>\n",
       "    <tr>\n",
       "      <th>3</th>\n",
       "      <td>507.88</td>\n",
       "      <td>185 days</td>\n",
       "      <td>15984000</td>\n",
       "      <td>185.0</td>\n",
       "    </tr>\n",
       "    <tr>\n",
       "      <th>4</th>\n",
       "      <td>83.46</td>\n",
       "      <td>133 days</td>\n",
       "      <td>11491200</td>\n",
       "      <td>133.0</td>\n",
       "    </tr>\n",
       "  </tbody>\n",
       "</table>\n",
       "</div>"
      ],
      "text/plain": [
       "   Claim Amount Reporting Delay  Reporting Delay in sec  \\\n",
       "0        490.00         13 days                 1123200   \n",
       "1        300.00         10 days                  864000   \n",
       "2         83.98        142 days                12268800   \n",
       "3        507.88        185 days                15984000   \n",
       "4         83.46        133 days                11491200   \n",
       "\n",
       "   Reporting Delay in days  \n",
       "0                     13.0  \n",
       "1                     10.0  \n",
       "2                    142.0  \n",
       "3                    185.0  \n",
       "4                    133.0  "
      ]
     },
     "execution_count": 38,
     "metadata": {},
     "output_type": "execute_result"
    }
   ],
   "source": [
    "report.head()"
   ]
  },
  {
   "cell_type": "code",
   "execution_count": 39,
   "id": "2fe06ffe",
   "metadata": {},
   "outputs": [
    {
     "data": {
      "text/plain": [
       "900000.0"
      ]
     },
     "execution_count": 39,
     "metadata": {},
     "output_type": "execute_result"
    }
   ],
   "source": [
    "max(report['Claim Amount'])"
   ]
  },
  {
   "cell_type": "code",
   "execution_count": 40,
   "id": "1d51b092",
   "metadata": {},
   "outputs": [
    {
     "data": {
      "text/plain": [
       "18279.0"
      ]
     },
     "execution_count": 40,
     "metadata": {},
     "output_type": "execute_result"
    }
   ],
   "source": [
    "max(report['Reporting Delay in days'])"
   ]
  },
  {
   "cell_type": "code",
   "execution_count": 41,
   "id": "4b77df28",
   "metadata": {},
   "outputs": [
    {
     "data": {
      "text/plain": [
       "Text(0.5, 1.0, 'Reporting Delay vs. Claim Amount')"
      ]
     },
     "execution_count": 41,
     "metadata": {},
     "output_type": "execute_result"
    },
    {
     "data": {
      "image/png": "[encoded data removed]",
      "text/plain": [
       "<Figure size 1080x576 with 1 Axes>"
      ]
     },
     "metadata": {},
     "output_type": "display_data"
    }
   ],
   "source": [
    "# Assuming 'df' is your dataframe with columns: 'Reporting Delay (days)', 'Claim Amount'\n",
    "# Scatter plot\n",
    "plt.figure(figsize=(15,8))\n",
    "plt.scatter(report['Reporting Delay in days'], report['Claim Amount'])\n",
    "plt.xlabel('Reporting Delay (days)')\n",
    "plt.ylabel('Claim Amount')\n",
    "plt.title('Reporting Delay vs. Claim Amount')"
   ]
  },
  {
   "cell_type": "code",
   "execution_count": 42,
   "id": "2f12c692",
   "metadata": {},
   "outputs": [
    {
     "data": {
      "image/png": "[encoded data removed]",
      "text/plain": [
       "<Figure size 432x288 with 1 Axes>"
      ]
     },
     "metadata": {},
     "output_type": "display_data"
    }
   ],
   "source": [
    "# Optional: Add a trend line\n",
    "# You can fit a linear regression line using numpy.polyfit() and numpy.poly1d()\n",
    "import numpy as np\n",
    "coefficients = np.polyfit(report['Reporting Delay in days'], report['Claim Amount'], 1)\n",
    "poly = np.poly1d(coefficients)\n",
    "plt.plot(report['Reporting Delay in days'], poly(report['Reporting Delay in days']), color='r')\n",
    "\n",
    "# Show the plot\n",
    "plt.show()"
   ]
  },
  {
   "cell_type": "code",
   "execution_count": 43,
   "id": "17dfacc1",
   "metadata": {},
   "outputs": [
    {
     "name": "stderr",
     "output_type": "stream",
     "text": [
      "<ipython-input-43-d0881df60d5b>:1: SettingWithCopyWarning: \n",
      "A value is trying to be set on a copy of a slice from a DataFrame.\n",
      "Try using .loc[row_indexer,col_indexer] = value instead\n",
      "\n",
      "See the caveats in the documentation: https://pandas.pydata.org/pandas-docs/stable/user_guide/indexing.html#returning-a-view-versus-a-copy\n",
      "  report['Disposition'] = data['Disposition']\n"
     ]
    }
   ],
   "source": [
    "report['Disposition'] = data['Disposition']"
   ]
  },
  {
   "cell_type": "code",
   "execution_count": 44,
   "id": "15c78c12",
   "metadata": {},
   "outputs": [
    {
     "data": {
      "text/html": [
       "<div>\n",
       "<style scoped>\n",
       "    .dataframe tbody tr th:only-of-type {\n",
       "        vertical-align: middle;\n",
       "    }\n",
       "\n",
       "    .dataframe tbody tr th {\n",
       "        vertical-align: top;\n",
       "    }\n",
       "\n",
       "    .dataframe thead th {\n",
       "        text-align: right;\n",
       "    }\n",
       "</style>\n",
       "<table border=\"1\" class=\"dataframe\">\n",
       "  <thead>\n",
       "    <tr style=\"text-align: right;\">\n",
       "      <th></th>\n",
       "      <th>Claim Amount</th>\n",
       "      <th>Reporting Delay</th>\n",
       "      <th>Reporting Delay in sec</th>\n",
       "      <th>Reporting Delay in days</th>\n",
       "      <th>Disposition</th>\n",
       "    </tr>\n",
       "  </thead>\n",
       "  <tbody>\n",
       "    <tr>\n",
       "      <th>0</th>\n",
       "      <td>490.00</td>\n",
       "      <td>13 days</td>\n",
       "      <td>1123200</td>\n",
       "      <td>13.0</td>\n",
       "      <td>Deny</td>\n",
       "    </tr>\n",
       "    <tr>\n",
       "      <th>1</th>\n",
       "      <td>300.00</td>\n",
       "      <td>10 days</td>\n",
       "      <td>864000</td>\n",
       "      <td>10.0</td>\n",
       "      <td>Settle</td>\n",
       "    </tr>\n",
       "    <tr>\n",
       "      <th>2</th>\n",
       "      <td>83.98</td>\n",
       "      <td>142 days</td>\n",
       "      <td>12268800</td>\n",
       "      <td>142.0</td>\n",
       "      <td>Approve in Full</td>\n",
       "    </tr>\n",
       "    <tr>\n",
       "      <th>3</th>\n",
       "      <td>507.88</td>\n",
       "      <td>185 days</td>\n",
       "      <td>15984000</td>\n",
       "      <td>185.0</td>\n",
       "      <td>Deny</td>\n",
       "    </tr>\n",
       "    <tr>\n",
       "      <th>4</th>\n",
       "      <td>83.46</td>\n",
       "      <td>133 days</td>\n",
       "      <td>11491200</td>\n",
       "      <td>133.0</td>\n",
       "      <td>Settle</td>\n",
       "    </tr>\n",
       "  </tbody>\n",
       "</table>\n",
       "</div>"
      ],
      "text/plain": [
       "   Claim Amount Reporting Delay  Reporting Delay in sec  \\\n",
       "0        490.00         13 days                 1123200   \n",
       "1        300.00         10 days                  864000   \n",
       "2         83.98        142 days                12268800   \n",
       "3        507.88        185 days                15984000   \n",
       "4         83.46        133 days                11491200   \n",
       "\n",
       "   Reporting Delay in days      Disposition  \n",
       "0                     13.0             Deny  \n",
       "1                     10.0           Settle  \n",
       "2                    142.0  Approve in Full  \n",
       "3                    185.0             Deny  \n",
       "4                    133.0           Settle  "
      ]
     },
     "execution_count": 44,
     "metadata": {},
     "output_type": "execute_result"
    }
   ],
   "source": [
    "report.head()"
   ]
  },
  {
   "cell_type": "code",
   "execution_count": 45,
   "id": "2fa47941",
   "metadata": {},
   "outputs": [],
   "source": [
    "report = report.drop(report[report['Reporting Delay in days'] == 18279.0].index)\n",
    "report = report.drop(report[report['Claim Amount'] == 900000.0].index)"
   ]
  },
  {
   "cell_type": "code",
   "execution_count": 46,
   "id": "e0c6e75b",
   "metadata": {},
   "outputs": [
    {
     "name": "stderr",
     "output_type": "stream",
     "text": [
      "C:\\Users\\K TARUN\\anaconda3\\lib\\site-packages\\seaborn\\_decorators.py:36: FutureWarning: Pass the following variables as keyword args: x, y. From version 0.12, the only valid positional argument will be `data`, and passing other arguments without an explicit keyword will result in an error or misinterpretation.\n",
      "  warnings.warn(\n"
     ]
    },
    {
     "data": {
      "text/plain": [
       "Text(0.5, 1.0, 'Reporting Delay vs. Claim Amount')"
      ]
     },
     "execution_count": 46,
     "metadata": {},
     "output_type": "execute_result"
    },
    {
     "data": {
      "image/png": "[encoded data removed]",
      "text/plain": [
       "<Figure size 1080x576 with 1 Axes>"
      ]
     },
     "metadata": {},
     "output_type": "display_data"
    }
   ],
   "source": [
    "# Find if Delay in reporting affects the Percentage of Claim Received\n",
    "# Scatter plot\n",
    "plt.figure(figsize=(15,8))\n",
    "sns.scatterplot(report['Reporting Delay in days'], report['Claim Amount'], hue = report['Disposition'])\n",
    "plt.xlabel('Reporting Delay (days)')\n",
    "plt.ylabel('Claim Amount')\n",
    "plt.title('Reporting Delay vs. Claim Amount')"
   ]
  },
  {
   "cell_type": "code",
   "execution_count": 47,
   "id": "4ad2fc20",
   "metadata": {},
   "outputs": [
    {
     "data": {
      "text/plain": [
       "(array([ 0,  1,  2,  3,  4,  5,  6,  7,  8,  9, 10, 11, 12, 13, 14, 15, 16,\n",
       "        17, 18, 19, 20, 21, 22]),\n",
       " [Text(0, 0, 'Nashik'),\n",
       "  Text(1, 0, 'Mumbai'),\n",
       "  Text(2, 0, 'Lucknow'),\n",
       "  Text(3, 0, 'Delhi'),\n",
       "  Text(4, 0, 'Chennai'),\n",
       "  Text(5, 0, 'Vadodara'),\n",
       "  Text(6, 0, 'Amritsar'),\n",
       "  Text(7, 0, 'Bangalore'),\n",
       "  Text(8, 0, 'Ahmedabad'),\n",
       "  Text(9, 0, 'Hyderabad'),\n",
       "  Text(10, 0, 'Patna'),\n",
       "  Text(11, 0, 'Pune'),\n",
       "  Text(12, 0, 'Coimbatore'),\n",
       "  Text(13, 0, 'Jaipur'),\n",
       "  Text(14, 0, 'Kanpur'),\n",
       "  Text(15, 0, 'Indore'),\n",
       "  Text(16, 0, 'Kolkata'),\n",
       "  Text(17, 0, 'Visakhapatnam'),\n",
       "  Text(18, 0, 'Thane'),\n",
       "  Text(19, 0, 'Nagpur'),\n",
       "  Text(20, 0, 'Agra'),\n",
       "  Text(21, 0, 'Bhopal'),\n",
       "  Text(22, 0, 'Surat')])"
      ]
     },
     "execution_count": 47,
     "metadata": {},
     "output_type": "execute_result"
    },
    {
     "data": {
      "image/png": "[encoded data removed]",
      "text/plain": [
       "<Figure size 432x288 with 1 Axes>"
      ]
     },
     "metadata": {},
     "output_type": "display_data"
    }
   ],
   "source": [
    "#Which City has reported the highest number of incidents\n",
    "sns.countplot(x='City',data=data)\n",
    "plt.xticks(rotation=90)"
   ]
  },
  {
   "cell_type": "code",
   "execution_count": 48,
   "id": "1ec4f6b7",
   "metadata": {},
   "outputs": [
    {
     "data": {
      "text/plain": [
       "<AxesSubplot: xlabel='Claim Type', ylabel='count'>"
      ]
     },
     "execution_count": 48,
     "metadata": {},
     "output_type": "execute_result"
    },
    {
     "data": {
      "image/png": "[encoded data removed]",
      "text/plain": [
       "<Figure size 432x288 with 1 Axes>"
      ]
     },
     "metadata": {},
     "output_type": "display_data"
    }
   ],
   "source": [
    "#Which Type of Claims have the highest number of incidents\n",
    "sns.countplot(x='Claim Type',data=data)"
   ]
  },
  {
   "cell_type": "code",
   "execution_count": 49,
   "id": "77779d73",
   "metadata": {},
   "outputs": [
    {
     "data": {
      "text/plain": [
       "array([  0.,  50., 100.])"
      ]
     },
     "execution_count": 49,
     "metadata": {},
     "output_type": "execute_result"
    }
   ],
   "source": [
    "data['Percent Claim Received'].unique()"
   ]
  },
  {
   "cell_type": "code",
   "execution_count": 50,
   "id": "254e1b37",
   "metadata": {},
   "outputs": [
    {
     "data": {
      "text/plain": [
       "Claim Number                       object\n",
       "City Code                          object\n",
       "City                               object\n",
       "Enterprise Type                    object\n",
       "Claim Type                         object\n",
       "Claim Site                         object\n",
       "Product Insured                    object\n",
       "Incident Date              datetime64[ns]\n",
       "Date Received              datetime64[ns]\n",
       "Claim Amount                      float64\n",
       "Close Amount                      float64\n",
       "Disposition                        object\n",
       "Percent Claim Received            float64\n",
       "Reporting Delay           timedelta64[ns]\n",
       "dtype: object"
      ]
     },
     "execution_count": 50,
     "metadata": {},
     "output_type": "execute_result"
    }
   ],
   "source": [
    "data.dtypes"
   ]
  },
  {
   "cell_type": "code",
   "execution_count": 51,
   "id": "6db343ca",
   "metadata": {},
   "outputs": [
    {
     "data": {
      "text/plain": [
       "<AxesSubplot: xlabel='Claim Type', ylabel='count'>"
      ]
     },
     "execution_count": 51,
     "metadata": {},
     "output_type": "execute_result"
    },
    {
     "data": {
      "image/png": "[encoded data removed]",
      "text/plain": [
       "<Figure size 432x288 with 1 Axes>"
      ]
     },
     "metadata": {},
     "output_type": "display_data"
    }
   ],
   "source": [
    "sns.countplot(x='Claim Type',hue='Disposition', data=data)"
   ]
  },
  {
   "cell_type": "code",
   "execution_count": 52,
   "id": "c915c65b",
   "metadata": {},
   "outputs": [
    {
     "data": {
      "text/html": [
       "<div>\n",
       "<style scoped>\n",
       "    .dataframe tbody tr th:only-of-type {\n",
       "        vertical-align: middle;\n",
       "    }\n",
       "\n",
       "    .dataframe tbody tr th {\n",
       "        vertical-align: top;\n",
       "    }\n",
       "\n",
       "    .dataframe thead th {\n",
       "        text-align: right;\n",
       "    }\n",
       "</style>\n",
       "<table border=\"1\" class=\"dataframe\">\n",
       "  <thead>\n",
       "    <tr style=\"text-align: right;\">\n",
       "      <th></th>\n",
       "      <th>Claim Number</th>\n",
       "      <th>City Code</th>\n",
       "      <th>City</th>\n",
       "      <th>Enterprise Type</th>\n",
       "      <th>Claim Type</th>\n",
       "      <th>Claim Site</th>\n",
       "      <th>Product Insured</th>\n",
       "      <th>Incident Date</th>\n",
       "      <th>Date Received</th>\n",
       "      <th>Claim Amount</th>\n",
       "      <th>Close Amount</th>\n",
       "      <th>Disposition</th>\n",
       "      <th>Percent Claim Received</th>\n",
       "      <th>Reporting Delay</th>\n",
       "    </tr>\n",
       "  </thead>\n",
       "  <tbody>\n",
       "    <tr>\n",
       "      <th>0</th>\n",
       "      <td>DQW1NZO0PL</td>\n",
       "      <td>NSK</td>\n",
       "      <td>Nashik</td>\n",
       "      <td>Public Limited Company</td>\n",
       "      <td>Property Loss</td>\n",
       "      <td>In Transit</td>\n",
       "      <td>Inventory - Raw Material</td>\n",
       "      <td>2007-05-25</td>\n",
       "      <td>2007-06-07</td>\n",
       "      <td>490.00</td>\n",
       "      <td>0.00</td>\n",
       "      <td>Deny</td>\n",
       "      <td>0.0</td>\n",
       "      <td>13 days</td>\n",
       "    </tr>\n",
       "    <tr>\n",
       "      <th>1</th>\n",
       "      <td>JS5GAPRN5B</td>\n",
       "      <td>BOM</td>\n",
       "      <td>Mumbai</td>\n",
       "      <td>One Person Company</td>\n",
       "      <td>Property Loss</td>\n",
       "      <td>In Transit</td>\n",
       "      <td>Cameras and other Misc. Security Equipment</td>\n",
       "      <td>2006-09-17</td>\n",
       "      <td>2006-09-27</td>\n",
       "      <td>300.00</td>\n",
       "      <td>150.00</td>\n",
       "      <td>Settle</td>\n",
       "      <td>50.0</td>\n",
       "      <td>10 days</td>\n",
       "    </tr>\n",
       "    <tr>\n",
       "      <th>2</th>\n",
       "      <td>ZTSVAQSEAQ</td>\n",
       "      <td>LKO</td>\n",
       "      <td>Lucknow</td>\n",
       "      <td>Public Limited Company</td>\n",
       "      <td>Property Loss</td>\n",
       "      <td>In Transit</td>\n",
       "      <td>Fixtures</td>\n",
       "      <td>2006-12-06</td>\n",
       "      <td>2006-07-17</td>\n",
       "      <td>83.98</td>\n",
       "      <td>83.98</td>\n",
       "      <td>Approve in Full</td>\n",
       "      <td>100.0</td>\n",
       "      <td>-142 days</td>\n",
       "    </tr>\n",
       "    <tr>\n",
       "      <th>3</th>\n",
       "      <td>EW7NWHI7LI</td>\n",
       "      <td>DEL</td>\n",
       "      <td>Delhi</td>\n",
       "      <td>Sole Proprietorship</td>\n",
       "      <td>Property Loss</td>\n",
       "      <td>In Transit</td>\n",
       "      <td>Pumps and Motors</td>\n",
       "      <td>2005-11-13</td>\n",
       "      <td>2005-05-12</td>\n",
       "      <td>507.88</td>\n",
       "      <td>0.00</td>\n",
       "      <td>Deny</td>\n",
       "      <td>0.0</td>\n",
       "      <td>-185 days</td>\n",
       "    </tr>\n",
       "    <tr>\n",
       "      <th>4</th>\n",
       "      <td>UJOFDC41EL</td>\n",
       "      <td>DEL</td>\n",
       "      <td>Delhi</td>\n",
       "      <td>One Person Company</td>\n",
       "      <td>Property Loss</td>\n",
       "      <td>In Transit</td>\n",
       "      <td>Misc. Engineering Tools</td>\n",
       "      <td>2008-07-28</td>\n",
       "      <td>2008-12-08</td>\n",
       "      <td>83.46</td>\n",
       "      <td>41.73</td>\n",
       "      <td>Settle</td>\n",
       "      <td>50.0</td>\n",
       "      <td>133 days</td>\n",
       "    </tr>\n",
       "    <tr>\n",
       "      <th>...</th>\n",
       "      <td>...</td>\n",
       "      <td>...</td>\n",
       "      <td>...</td>\n",
       "      <td>...</td>\n",
       "      <td>...</td>\n",
       "      <td>...</td>\n",
       "      <td>...</td>\n",
       "      <td>...</td>\n",
       "      <td>...</td>\n",
       "      <td>...</td>\n",
       "      <td>...</td>\n",
       "      <td>...</td>\n",
       "      <td>...</td>\n",
       "      <td>...</td>\n",
       "    </tr>\n",
       "    <tr>\n",
       "      <th>34105</th>\n",
       "      <td>5CFGWQ6IR5</td>\n",
       "      <td>AGR</td>\n",
       "      <td>Agra</td>\n",
       "      <td>Public Limited Company</td>\n",
       "      <td>Property Loss</td>\n",
       "      <td>In Transit</td>\n",
       "      <td>Misc. Engineering Tools</td>\n",
       "      <td>2005-12-19</td>\n",
       "      <td>2006-03-21</td>\n",
       "      <td>238.00</td>\n",
       "      <td>115.60</td>\n",
       "      <td>Settle</td>\n",
       "      <td>50.0</td>\n",
       "      <td>92 days</td>\n",
       "    </tr>\n",
       "    <tr>\n",
       "      <th>34106</th>\n",
       "      <td>QQ6EAWA4Q5</td>\n",
       "      <td>LKO</td>\n",
       "      <td>Lucknow</td>\n",
       "      <td>Partnership Firm</td>\n",
       "      <td>Property Damage</td>\n",
       "      <td>In Transit</td>\n",
       "      <td>Misc. Electronic Items</td>\n",
       "      <td>2007-08-01</td>\n",
       "      <td>2007-01-16</td>\n",
       "      <td>7.00</td>\n",
       "      <td>0.00</td>\n",
       "      <td>Deny</td>\n",
       "      <td>0.0</td>\n",
       "      <td>-197 days</td>\n",
       "    </tr>\n",
       "    <tr>\n",
       "      <th>34107</th>\n",
       "      <td>X1J58PT1J5</td>\n",
       "      <td>HYD</td>\n",
       "      <td>Hyderabad</td>\n",
       "      <td>One Person Company</td>\n",
       "      <td>Property Damage</td>\n",
       "      <td>In Transit</td>\n",
       "      <td>Misc. Electronic Items</td>\n",
       "      <td>2005-09-19</td>\n",
       "      <td>2005-10-18</td>\n",
       "      <td>166.00</td>\n",
       "      <td>70.00</td>\n",
       "      <td>Settle</td>\n",
       "      <td>50.0</td>\n",
       "      <td>29 days</td>\n",
       "    </tr>\n",
       "    <tr>\n",
       "      <th>34108</th>\n",
       "      <td>AGOXXE8KII</td>\n",
       "      <td>MAA</td>\n",
       "      <td>Chennai</td>\n",
       "      <td>Sole Proprietorship</td>\n",
       "      <td>Property Damage</td>\n",
       "      <td>Warehouse</td>\n",
       "      <td>Pumps and Motors</td>\n",
       "      <td>2009-04-14</td>\n",
       "      <td>2009-09-09</td>\n",
       "      <td>450.00</td>\n",
       "      <td>280.00</td>\n",
       "      <td>Settle</td>\n",
       "      <td>50.0</td>\n",
       "      <td>148 days</td>\n",
       "    </tr>\n",
       "    <tr>\n",
       "      <th>34109</th>\n",
       "      <td>WT5RH23GPC</td>\n",
       "      <td>LKO</td>\n",
       "      <td>Lucknow</td>\n",
       "      <td>Private Ltd. MSME - Medium</td>\n",
       "      <td>Property Loss</td>\n",
       "      <td>In Transit</td>\n",
       "      <td>Inventory - Raw Material</td>\n",
       "      <td>2005-03-19</td>\n",
       "      <td>2005-03-29</td>\n",
       "      <td>70.35</td>\n",
       "      <td>70.35</td>\n",
       "      <td>Approve in Full</td>\n",
       "      <td>100.0</td>\n",
       "      <td>10 days</td>\n",
       "    </tr>\n",
       "  </tbody>\n",
       "</table>\n",
       "<p>34110 rows × 14 columns</p>\n",
       "</div>"
      ],
      "text/plain": [
       "      Claim Number City Code       City             Enterprise Type  \\\n",
       "0       DQW1NZO0PL       NSK     Nashik      Public Limited Company   \n",
       "1       JS5GAPRN5B       BOM     Mumbai          One Person Company   \n",
       "2       ZTSVAQSEAQ       LKO    Lucknow      Public Limited Company   \n",
       "3       EW7NWHI7LI       DEL      Delhi         Sole Proprietorship   \n",
       "4       UJOFDC41EL       DEL      Delhi          One Person Company   \n",
       "...            ...       ...        ...                         ...   \n",
       "34105   5CFGWQ6IR5       AGR       Agra      Public Limited Company   \n",
       "34106   QQ6EAWA4Q5       LKO    Lucknow            Partnership Firm   \n",
       "34107   X1J58PT1J5       HYD  Hyderabad          One Person Company   \n",
       "34108   AGOXXE8KII       MAA    Chennai         Sole Proprietorship   \n",
       "34109   WT5RH23GPC       LKO    Lucknow  Private Ltd. MSME - Medium   \n",
       "\n",
       "            Claim Type  Claim Site  \\\n",
       "0        Property Loss  In Transit   \n",
       "1        Property Loss  In Transit   \n",
       "2        Property Loss  In Transit   \n",
       "3        Property Loss  In Transit   \n",
       "4        Property Loss  In Transit   \n",
       "...                ...         ...   \n",
       "34105    Property Loss  In Transit   \n",
       "34106  Property Damage  In Transit   \n",
       "34107  Property Damage  In Transit   \n",
       "34108  Property Damage   Warehouse   \n",
       "34109    Property Loss  In Transit   \n",
       "\n",
       "                                  Product Insured Incident Date Date Received  \\\n",
       "0                        Inventory - Raw Material    2007-05-25    2007-06-07   \n",
       "1      Cameras and other Misc. Security Equipment    2006-09-17    2006-09-27   \n",
       "2                                        Fixtures    2006-12-06    2006-07-17   \n",
       "3                                Pumps and Motors    2005-11-13    2005-05-12   \n",
       "4                         Misc. Engineering Tools    2008-07-28    2008-12-08   \n",
       "...                                           ...           ...           ...   \n",
       "34105                     Misc. Engineering Tools    2005-12-19    2006-03-21   \n",
       "34106                      Misc. Electronic Items    2007-08-01    2007-01-16   \n",
       "34107                      Misc. Electronic Items    2005-09-19    2005-10-18   \n",
       "34108                            Pumps and Motors    2009-04-14    2009-09-09   \n",
       "34109                    Inventory - Raw Material    2005-03-19    2005-03-29   \n",
       "\n",
       "       Claim Amount  Close Amount      Disposition  Percent Claim Received  \\\n",
       "0            490.00          0.00             Deny                     0.0   \n",
       "1            300.00        150.00           Settle                    50.0   \n",
       "2             83.98         83.98  Approve in Full                   100.0   \n",
       "3            507.88          0.00             Deny                     0.0   \n",
       "4             83.46         41.73           Settle                    50.0   \n",
       "...             ...           ...              ...                     ...   \n",
       "34105        238.00        115.60           Settle                    50.0   \n",
       "34106          7.00          0.00             Deny                     0.0   \n",
       "34107        166.00         70.00           Settle                    50.0   \n",
       "34108        450.00        280.00           Settle                    50.0   \n",
       "34109         70.35         70.35  Approve in Full                   100.0   \n",
       "\n",
       "      Reporting Delay  \n",
       "0             13 days  \n",
       "1             10 days  \n",
       "2           -142 days  \n",
       "3           -185 days  \n",
       "4            133 days  \n",
       "...               ...  \n",
       "34105         92 days  \n",
       "34106       -197 days  \n",
       "34107         29 days  \n",
       "34108        148 days  \n",
       "34109         10 days  \n",
       "\n",
       "[34110 rows x 14 columns]"
      ]
     },
     "execution_count": 52,
     "metadata": {},
     "output_type": "execute_result"
    }
   ],
   "source": [
    "data"
   ]
  },
  {
   "cell_type": "code",
   "execution_count": 53,
   "id": "7521c82c",
   "metadata": {},
   "outputs": [],
   "source": [
    "RD = list(data['Reporting Delay'])\n",
    "re = []\n",
    "for i in RD:\n",
    "    re.append(abs(i))\n",
    "data['Reporting Delay'] = re"
   ]
  },
  {
   "cell_type": "code",
   "execution_count": 54,
   "id": "e9b6631c",
   "metadata": {},
   "outputs": [
    {
     "data": {
      "text/html": [
       "<div>\n",
       "<style scoped>\n",
       "    .dataframe tbody tr th:only-of-type {\n",
       "        vertical-align: middle;\n",
       "    }\n",
       "\n",
       "    .dataframe tbody tr th {\n",
       "        vertical-align: top;\n",
       "    }\n",
       "\n",
       "    .dataframe thead th {\n",
       "        text-align: right;\n",
       "    }\n",
       "</style>\n",
       "<table border=\"1\" class=\"dataframe\">\n",
       "  <thead>\n",
       "    <tr style=\"text-align: right;\">\n",
       "      <th></th>\n",
       "      <th>Claim Number</th>\n",
       "      <th>City Code</th>\n",
       "      <th>City</th>\n",
       "      <th>Enterprise Type</th>\n",
       "      <th>Claim Type</th>\n",
       "      <th>Claim Site</th>\n",
       "      <th>Product Insured</th>\n",
       "      <th>Incident Date</th>\n",
       "      <th>Date Received</th>\n",
       "      <th>Claim Amount</th>\n",
       "      <th>Close Amount</th>\n",
       "      <th>Disposition</th>\n",
       "      <th>Percent Claim Received</th>\n",
       "      <th>Reporting Delay</th>\n",
       "    </tr>\n",
       "  </thead>\n",
       "  <tbody>\n",
       "    <tr>\n",
       "      <th>0</th>\n",
       "      <td>DQW1NZO0PL</td>\n",
       "      <td>NSK</td>\n",
       "      <td>Nashik</td>\n",
       "      <td>Public Limited Company</td>\n",
       "      <td>Property Loss</td>\n",
       "      <td>In Transit</td>\n",
       "      <td>Inventory - Raw Material</td>\n",
       "      <td>2007-05-25</td>\n",
       "      <td>2007-06-07</td>\n",
       "      <td>490.00</td>\n",
       "      <td>0.00</td>\n",
       "      <td>Deny</td>\n",
       "      <td>0.0</td>\n",
       "      <td>13 days</td>\n",
       "    </tr>\n",
       "    <tr>\n",
       "      <th>1</th>\n",
       "      <td>JS5GAPRN5B</td>\n",
       "      <td>BOM</td>\n",
       "      <td>Mumbai</td>\n",
       "      <td>One Person Company</td>\n",
       "      <td>Property Loss</td>\n",
       "      <td>In Transit</td>\n",
       "      <td>Cameras and other Misc. Security Equipment</td>\n",
       "      <td>2006-09-17</td>\n",
       "      <td>2006-09-27</td>\n",
       "      <td>300.00</td>\n",
       "      <td>150.00</td>\n",
       "      <td>Settle</td>\n",
       "      <td>50.0</td>\n",
       "      <td>10 days</td>\n",
       "    </tr>\n",
       "    <tr>\n",
       "      <th>2</th>\n",
       "      <td>ZTSVAQSEAQ</td>\n",
       "      <td>LKO</td>\n",
       "      <td>Lucknow</td>\n",
       "      <td>Public Limited Company</td>\n",
       "      <td>Property Loss</td>\n",
       "      <td>In Transit</td>\n",
       "      <td>Fixtures</td>\n",
       "      <td>2006-12-06</td>\n",
       "      <td>2006-07-17</td>\n",
       "      <td>83.98</td>\n",
       "      <td>83.98</td>\n",
       "      <td>Approve in Full</td>\n",
       "      <td>100.0</td>\n",
       "      <td>142 days</td>\n",
       "    </tr>\n",
       "    <tr>\n",
       "      <th>3</th>\n",
       "      <td>EW7NWHI7LI</td>\n",
       "      <td>DEL</td>\n",
       "      <td>Delhi</td>\n",
       "      <td>Sole Proprietorship</td>\n",
       "      <td>Property Loss</td>\n",
       "      <td>In Transit</td>\n",
       "      <td>Pumps and Motors</td>\n",
       "      <td>2005-11-13</td>\n",
       "      <td>2005-05-12</td>\n",
       "      <td>507.88</td>\n",
       "      <td>0.00</td>\n",
       "      <td>Deny</td>\n",
       "      <td>0.0</td>\n",
       "      <td>185 days</td>\n",
       "    </tr>\n",
       "    <tr>\n",
       "      <th>4</th>\n",
       "      <td>UJOFDC41EL</td>\n",
       "      <td>DEL</td>\n",
       "      <td>Delhi</td>\n",
       "      <td>One Person Company</td>\n",
       "      <td>Property Loss</td>\n",
       "      <td>In Transit</td>\n",
       "      <td>Misc. Engineering Tools</td>\n",
       "      <td>2008-07-28</td>\n",
       "      <td>2008-12-08</td>\n",
       "      <td>83.46</td>\n",
       "      <td>41.73</td>\n",
       "      <td>Settle</td>\n",
       "      <td>50.0</td>\n",
       "      <td>133 days</td>\n",
       "    </tr>\n",
       "    <tr>\n",
       "      <th>...</th>\n",
       "      <td>...</td>\n",
       "      <td>...</td>\n",
       "      <td>...</td>\n",
       "      <td>...</td>\n",
       "      <td>...</td>\n",
       "      <td>...</td>\n",
       "      <td>...</td>\n",
       "      <td>...</td>\n",
       "      <td>...</td>\n",
       "      <td>...</td>\n",
       "      <td>...</td>\n",
       "      <td>...</td>\n",
       "      <td>...</td>\n",
       "      <td>...</td>\n",
       "    </tr>\n",
       "    <tr>\n",
       "      <th>34105</th>\n",
       "      <td>5CFGWQ6IR5</td>\n",
       "      <td>AGR</td>\n",
       "      <td>Agra</td>\n",
       "      <td>Public Limited Company</td>\n",
       "      <td>Property Loss</td>\n",
       "      <td>In Transit</td>\n",
       "      <td>Misc. Engineering Tools</td>\n",
       "      <td>2005-12-19</td>\n",
       "      <td>2006-03-21</td>\n",
       "      <td>238.00</td>\n",
       "      <td>115.60</td>\n",
       "      <td>Settle</td>\n",
       "      <td>50.0</td>\n",
       "      <td>92 days</td>\n",
       "    </tr>\n",
       "    <tr>\n",
       "      <th>34106</th>\n",
       "      <td>QQ6EAWA4Q5</td>\n",
       "      <td>LKO</td>\n",
       "      <td>Lucknow</td>\n",
       "      <td>Partnership Firm</td>\n",
       "      <td>Property Damage</td>\n",
       "      <td>In Transit</td>\n",
       "      <td>Misc. Electronic Items</td>\n",
       "      <td>2007-08-01</td>\n",
       "      <td>2007-01-16</td>\n",
       "      <td>7.00</td>\n",
       "      <td>0.00</td>\n",
       "      <td>Deny</td>\n",
       "      <td>0.0</td>\n",
       "      <td>197 days</td>\n",
       "    </tr>\n",
       "    <tr>\n",
       "      <th>34107</th>\n",
       "      <td>X1J58PT1J5</td>\n",
       "      <td>HYD</td>\n",
       "      <td>Hyderabad</td>\n",
       "      <td>One Person Company</td>\n",
       "      <td>Property Damage</td>\n",
       "      <td>In Transit</td>\n",
       "      <td>Misc. Electronic Items</td>\n",
       "      <td>2005-09-19</td>\n",
       "      <td>2005-10-18</td>\n",
       "      <td>166.00</td>\n",
       "      <td>70.00</td>\n",
       "      <td>Settle</td>\n",
       "      <td>50.0</td>\n",
       "      <td>29 days</td>\n",
       "    </tr>\n",
       "    <tr>\n",
       "      <th>34108</th>\n",
       "      <td>AGOXXE8KII</td>\n",
       "      <td>MAA</td>\n",
       "      <td>Chennai</td>\n",
       "      <td>Sole Proprietorship</td>\n",
       "      <td>Property Damage</td>\n",
       "      <td>Warehouse</td>\n",
       "      <td>Pumps and Motors</td>\n",
       "      <td>2009-04-14</td>\n",
       "      <td>2009-09-09</td>\n",
       "      <td>450.00</td>\n",
       "      <td>280.00</td>\n",
       "      <td>Settle</td>\n",
       "      <td>50.0</td>\n",
       "      <td>148 days</td>\n",
       "    </tr>\n",
       "    <tr>\n",
       "      <th>34109</th>\n",
       "      <td>WT5RH23GPC</td>\n",
       "      <td>LKO</td>\n",
       "      <td>Lucknow</td>\n",
       "      <td>Private Ltd. MSME - Medium</td>\n",
       "      <td>Property Loss</td>\n",
       "      <td>In Transit</td>\n",
       "      <td>Inventory - Raw Material</td>\n",
       "      <td>2005-03-19</td>\n",
       "      <td>2005-03-29</td>\n",
       "      <td>70.35</td>\n",
       "      <td>70.35</td>\n",
       "      <td>Approve in Full</td>\n",
       "      <td>100.0</td>\n",
       "      <td>10 days</td>\n",
       "    </tr>\n",
       "  </tbody>\n",
       "</table>\n",
       "<p>34110 rows × 14 columns</p>\n",
       "</div>"
      ],
      "text/plain": [
       "      Claim Number City Code       City             Enterprise Type  \\\n",
       "0       DQW1NZO0PL       NSK     Nashik      Public Limited Company   \n",
       "1       JS5GAPRN5B       BOM     Mumbai          One Person Company   \n",
       "2       ZTSVAQSEAQ       LKO    Lucknow      Public Limited Company   \n",
       "3       EW7NWHI7LI       DEL      Delhi         Sole Proprietorship   \n",
       "4       UJOFDC41EL       DEL      Delhi          One Person Company   \n",
       "...            ...       ...        ...                         ...   \n",
       "34105   5CFGWQ6IR5       AGR       Agra      Public Limited Company   \n",
       "34106   QQ6EAWA4Q5       LKO    Lucknow            Partnership Firm   \n",
       "34107   X1J58PT1J5       HYD  Hyderabad          One Person Company   \n",
       "34108   AGOXXE8KII       MAA    Chennai         Sole Proprietorship   \n",
       "34109   WT5RH23GPC       LKO    Lucknow  Private Ltd. MSME - Medium   \n",
       "\n",
       "            Claim Type  Claim Site  \\\n",
       "0        Property Loss  In Transit   \n",
       "1        Property Loss  In Transit   \n",
       "2        Property Loss  In Transit   \n",
       "3        Property Loss  In Transit   \n",
       "4        Property Loss  In Transit   \n",
       "...                ...         ...   \n",
       "34105    Property Loss  In Transit   \n",
       "34106  Property Damage  In Transit   \n",
       "34107  Property Damage  In Transit   \n",
       "34108  Property Damage   Warehouse   \n",
       "34109    Property Loss  In Transit   \n",
       "\n",
       "                                  Product Insured Incident Date Date Received  \\\n",
       "0                        Inventory - Raw Material    2007-05-25    2007-06-07   \n",
       "1      Cameras and other Misc. Security Equipment    2006-09-17    2006-09-27   \n",
       "2                                        Fixtures    2006-12-06    2006-07-17   \n",
       "3                                Pumps and Motors    2005-11-13    2005-05-12   \n",
       "4                         Misc. Engineering Tools    2008-07-28    2008-12-08   \n",
       "...                                           ...           ...           ...   \n",
       "34105                     Misc. Engineering Tools    2005-12-19    2006-03-21   \n",
       "34106                      Misc. Electronic Items    2007-08-01    2007-01-16   \n",
       "34107                      Misc. Electronic Items    2005-09-19    2005-10-18   \n",
       "34108                            Pumps and Motors    2009-04-14    2009-09-09   \n",
       "34109                    Inventory - Raw Material    2005-03-19    2005-03-29   \n",
       "\n",
       "       Claim Amount  Close Amount      Disposition  Percent Claim Received  \\\n",
       "0            490.00          0.00             Deny                     0.0   \n",
       "1            300.00        150.00           Settle                    50.0   \n",
       "2             83.98         83.98  Approve in Full                   100.0   \n",
       "3            507.88          0.00             Deny                     0.0   \n",
       "4             83.46         41.73           Settle                    50.0   \n",
       "...             ...           ...              ...                     ...   \n",
       "34105        238.00        115.60           Settle                    50.0   \n",
       "34106          7.00          0.00             Deny                     0.0   \n",
       "34107        166.00         70.00           Settle                    50.0   \n",
       "34108        450.00        280.00           Settle                    50.0   \n",
       "34109         70.35         70.35  Approve in Full                   100.0   \n",
       "\n",
       "      Reporting Delay  \n",
       "0             13 days  \n",
       "1             10 days  \n",
       "2            142 days  \n",
       "3            185 days  \n",
       "4            133 days  \n",
       "...               ...  \n",
       "34105         92 days  \n",
       "34106        197 days  \n",
       "34107         29 days  \n",
       "34108        148 days  \n",
       "34109         10 days  \n",
       "\n",
       "[34110 rows x 14 columns]"
      ]
     },
     "execution_count": 54,
     "metadata": {},
     "output_type": "execute_result"
    }
   ],
   "source": [
    "data"
   ]
  },
  {
   "cell_type": "code",
   "execution_count": 55,
   "id": "4683a4c5",
   "metadata": {},
   "outputs": [],
   "source": [
    "#converting the timedelta column to integer\n",
    "data['Reporting Delay in days'] = data['Reporting Delay'].dt.total_seconds() / 86400\n",
    "# 86400 seconds == 1day"
   ]
  },
  {
   "cell_type": "code",
   "execution_count": 56,
   "id": "fdecadc6",
   "metadata": {},
   "outputs": [
    {
     "data": {
      "text/html": [
       "<div>\n",
       "<style scoped>\n",
       "    .dataframe tbody tr th:only-of-type {\n",
       "        vertical-align: middle;\n",
       "    }\n",
       "\n",
       "    .dataframe tbody tr th {\n",
       "        vertical-align: top;\n",
       "    }\n",
       "\n",
       "    .dataframe thead th {\n",
       "        text-align: right;\n",
       "    }\n",
       "</style>\n",
       "<table border=\"1\" class=\"dataframe\">\n",
       "  <thead>\n",
       "    <tr style=\"text-align: right;\">\n",
       "      <th></th>\n",
       "      <th>Claim Number</th>\n",
       "      <th>City Code</th>\n",
       "      <th>City</th>\n",
       "      <th>Enterprise Type</th>\n",
       "      <th>Claim Type</th>\n",
       "      <th>Claim Site</th>\n",
       "      <th>Product Insured</th>\n",
       "      <th>Incident Date</th>\n",
       "      <th>Date Received</th>\n",
       "      <th>Claim Amount</th>\n",
       "      <th>Close Amount</th>\n",
       "      <th>Disposition</th>\n",
       "      <th>Percent Claim Received</th>\n",
       "      <th>Reporting Delay</th>\n",
       "      <th>Reporting Delay in days</th>\n",
       "    </tr>\n",
       "  </thead>\n",
       "  <tbody>\n",
       "    <tr>\n",
       "      <th>0</th>\n",
       "      <td>DQW1NZO0PL</td>\n",
       "      <td>NSK</td>\n",
       "      <td>Nashik</td>\n",
       "      <td>Public Limited Company</td>\n",
       "      <td>Property Loss</td>\n",
       "      <td>In Transit</td>\n",
       "      <td>Inventory - Raw Material</td>\n",
       "      <td>2007-05-25</td>\n",
       "      <td>2007-06-07</td>\n",
       "      <td>490.00</td>\n",
       "      <td>0.00</td>\n",
       "      <td>Deny</td>\n",
       "      <td>0.0</td>\n",
       "      <td>13 days</td>\n",
       "      <td>13.0</td>\n",
       "    </tr>\n",
       "    <tr>\n",
       "      <th>1</th>\n",
       "      <td>JS5GAPRN5B</td>\n",
       "      <td>BOM</td>\n",
       "      <td>Mumbai</td>\n",
       "      <td>One Person Company</td>\n",
       "      <td>Property Loss</td>\n",
       "      <td>In Transit</td>\n",
       "      <td>Cameras and other Misc. Security Equipment</td>\n",
       "      <td>2006-09-17</td>\n",
       "      <td>2006-09-27</td>\n",
       "      <td>300.00</td>\n",
       "      <td>150.00</td>\n",
       "      <td>Settle</td>\n",
       "      <td>50.0</td>\n",
       "      <td>10 days</td>\n",
       "      <td>10.0</td>\n",
       "    </tr>\n",
       "    <tr>\n",
       "      <th>2</th>\n",
       "      <td>ZTSVAQSEAQ</td>\n",
       "      <td>LKO</td>\n",
       "      <td>Lucknow</td>\n",
       "      <td>Public Limited Company</td>\n",
       "      <td>Property Loss</td>\n",
       "      <td>In Transit</td>\n",
       "      <td>Fixtures</td>\n",
       "      <td>2006-12-06</td>\n",
       "      <td>2006-07-17</td>\n",
       "      <td>83.98</td>\n",
       "      <td>83.98</td>\n",
       "      <td>Approve in Full</td>\n",
       "      <td>100.0</td>\n",
       "      <td>142 days</td>\n",
       "      <td>142.0</td>\n",
       "    </tr>\n",
       "    <tr>\n",
       "      <th>3</th>\n",
       "      <td>EW7NWHI7LI</td>\n",
       "      <td>DEL</td>\n",
       "      <td>Delhi</td>\n",
       "      <td>Sole Proprietorship</td>\n",
       "      <td>Property Loss</td>\n",
       "      <td>In Transit</td>\n",
       "      <td>Pumps and Motors</td>\n",
       "      <td>2005-11-13</td>\n",
       "      <td>2005-05-12</td>\n",
       "      <td>507.88</td>\n",
       "      <td>0.00</td>\n",
       "      <td>Deny</td>\n",
       "      <td>0.0</td>\n",
       "      <td>185 days</td>\n",
       "      <td>185.0</td>\n",
       "    </tr>\n",
       "    <tr>\n",
       "      <th>4</th>\n",
       "      <td>UJOFDC41EL</td>\n",
       "      <td>DEL</td>\n",
       "      <td>Delhi</td>\n",
       "      <td>One Person Company</td>\n",
       "      <td>Property Loss</td>\n",
       "      <td>In Transit</td>\n",
       "      <td>Misc. Engineering Tools</td>\n",
       "      <td>2008-07-28</td>\n",
       "      <td>2008-12-08</td>\n",
       "      <td>83.46</td>\n",
       "      <td>41.73</td>\n",
       "      <td>Settle</td>\n",
       "      <td>50.0</td>\n",
       "      <td>133 days</td>\n",
       "      <td>133.0</td>\n",
       "    </tr>\n",
       "    <tr>\n",
       "      <th>...</th>\n",
       "      <td>...</td>\n",
       "      <td>...</td>\n",
       "      <td>...</td>\n",
       "      <td>...</td>\n",
       "      <td>...</td>\n",
       "      <td>...</td>\n",
       "      <td>...</td>\n",
       "      <td>...</td>\n",
       "      <td>...</td>\n",
       "      <td>...</td>\n",
       "      <td>...</td>\n",
       "      <td>...</td>\n",
       "      <td>...</td>\n",
       "      <td>...</td>\n",
       "      <td>...</td>\n",
       "    </tr>\n",
       "    <tr>\n",
       "      <th>34105</th>\n",
       "      <td>5CFGWQ6IR5</td>\n",
       "      <td>AGR</td>\n",
       "      <td>Agra</td>\n",
       "      <td>Public Limited Company</td>\n",
       "      <td>Property Loss</td>\n",
       "      <td>In Transit</td>\n",
       "      <td>Misc. Engineering Tools</td>\n",
       "      <td>2005-12-19</td>\n",
       "      <td>2006-03-21</td>\n",
       "      <td>238.00</td>\n",
       "      <td>115.60</td>\n",
       "      <td>Settle</td>\n",
       "      <td>50.0</td>\n",
       "      <td>92 days</td>\n",
       "      <td>92.0</td>\n",
       "    </tr>\n",
       "    <tr>\n",
       "      <th>34106</th>\n",
       "      <td>QQ6EAWA4Q5</td>\n",
       "      <td>LKO</td>\n",
       "      <td>Lucknow</td>\n",
       "      <td>Partnership Firm</td>\n",
       "      <td>Property Damage</td>\n",
       "      <td>In Transit</td>\n",
       "      <td>Misc. Electronic Items</td>\n",
       "      <td>2007-08-01</td>\n",
       "      <td>2007-01-16</td>\n",
       "      <td>7.00</td>\n",
       "      <td>0.00</td>\n",
       "      <td>Deny</td>\n",
       "      <td>0.0</td>\n",
       "      <td>197 days</td>\n",
       "      <td>197.0</td>\n",
       "    </tr>\n",
       "    <tr>\n",
       "      <th>34107</th>\n",
       "      <td>X1J58PT1J5</td>\n",
       "      <td>HYD</td>\n",
       "      <td>Hyderabad</td>\n",
       "      <td>One Person Company</td>\n",
       "      <td>Property Damage</td>\n",
       "      <td>In Transit</td>\n",
       "      <td>Misc. Electronic Items</td>\n",
       "      <td>2005-09-19</td>\n",
       "      <td>2005-10-18</td>\n",
       "      <td>166.00</td>\n",
       "      <td>70.00</td>\n",
       "      <td>Settle</td>\n",
       "      <td>50.0</td>\n",
       "      <td>29 days</td>\n",
       "      <td>29.0</td>\n",
       "    </tr>\n",
       "    <tr>\n",
       "      <th>34108</th>\n",
       "      <td>AGOXXE8KII</td>\n",
       "      <td>MAA</td>\n",
       "      <td>Chennai</td>\n",
       "      <td>Sole Proprietorship</td>\n",
       "      <td>Property Damage</td>\n",
       "      <td>Warehouse</td>\n",
       "      <td>Pumps and Motors</td>\n",
       "      <td>2009-04-14</td>\n",
       "      <td>2009-09-09</td>\n",
       "      <td>450.00</td>\n",
       "      <td>280.00</td>\n",
       "      <td>Settle</td>\n",
       "      <td>50.0</td>\n",
       "      <td>148 days</td>\n",
       "      <td>148.0</td>\n",
       "    </tr>\n",
       "    <tr>\n",
       "      <th>34109</th>\n",
       "      <td>WT5RH23GPC</td>\n",
       "      <td>LKO</td>\n",
       "      <td>Lucknow</td>\n",
       "      <td>Private Ltd. MSME - Medium</td>\n",
       "      <td>Property Loss</td>\n",
       "      <td>In Transit</td>\n",
       "      <td>Inventory - Raw Material</td>\n",
       "      <td>2005-03-19</td>\n",
       "      <td>2005-03-29</td>\n",
       "      <td>70.35</td>\n",
       "      <td>70.35</td>\n",
       "      <td>Approve in Full</td>\n",
       "      <td>100.0</td>\n",
       "      <td>10 days</td>\n",
       "      <td>10.0</td>\n",
       "    </tr>\n",
       "  </tbody>\n",
       "</table>\n",
       "<p>34110 rows × 15 columns</p>\n",
       "</div>"
      ],
      "text/plain": [
       "      Claim Number City Code       City             Enterprise Type  \\\n",
       "0       DQW1NZO0PL       NSK     Nashik      Public Limited Company   \n",
       "1       JS5GAPRN5B       BOM     Mumbai          One Person Company   \n",
       "2       ZTSVAQSEAQ       LKO    Lucknow      Public Limited Company   \n",
       "3       EW7NWHI7LI       DEL      Delhi         Sole Proprietorship   \n",
       "4       UJOFDC41EL       DEL      Delhi          One Person Company   \n",
       "...            ...       ...        ...                         ...   \n",
       "34105   5CFGWQ6IR5       AGR       Agra      Public Limited Company   \n",
       "34106   QQ6EAWA4Q5       LKO    Lucknow            Partnership Firm   \n",
       "34107   X1J58PT1J5       HYD  Hyderabad          One Person Company   \n",
       "34108   AGOXXE8KII       MAA    Chennai         Sole Proprietorship   \n",
       "34109   WT5RH23GPC       LKO    Lucknow  Private Ltd. MSME - Medium   \n",
       "\n",
       "            Claim Type  Claim Site  \\\n",
       "0        Property Loss  In Transit   \n",
       "1        Property Loss  In Transit   \n",
       "2        Property Loss  In Transit   \n",
       "3        Property Loss  In Transit   \n",
       "4        Property Loss  In Transit   \n",
       "...                ...         ...   \n",
       "34105    Property Loss  In Transit   \n",
       "34106  Property Damage  In Transit   \n",
       "34107  Property Damage  In Transit   \n",
       "34108  Property Damage   Warehouse   \n",
       "34109    Property Loss  In Transit   \n",
       "\n",
       "                                  Product Insured Incident Date Date Received  \\\n",
       "0                        Inventory - Raw Material    2007-05-25    2007-06-07   \n",
       "1      Cameras and other Misc. Security Equipment    2006-09-17    2006-09-27   \n",
       "2                                        Fixtures    2006-12-06    2006-07-17   \n",
       "3                                Pumps and Motors    2005-11-13    2005-05-12   \n",
       "4                         Misc. Engineering Tools    2008-07-28    2008-12-08   \n",
       "...                                           ...           ...           ...   \n",
       "34105                     Misc. Engineering Tools    2005-12-19    2006-03-21   \n",
       "34106                      Misc. Electronic Items    2007-08-01    2007-01-16   \n",
       "34107                      Misc. Electronic Items    2005-09-19    2005-10-18   \n",
       "34108                            Pumps and Motors    2009-04-14    2009-09-09   \n",
       "34109                    Inventory - Raw Material    2005-03-19    2005-03-29   \n",
       "\n",
       "       Claim Amount  Close Amount      Disposition  Percent Claim Received  \\\n",
       "0            490.00          0.00             Deny                     0.0   \n",
       "1            300.00        150.00           Settle                    50.0   \n",
       "2             83.98         83.98  Approve in Full                   100.0   \n",
       "3            507.88          0.00             Deny                     0.0   \n",
       "4             83.46         41.73           Settle                    50.0   \n",
       "...             ...           ...              ...                     ...   \n",
       "34105        238.00        115.60           Settle                    50.0   \n",
       "34106          7.00          0.00             Deny                     0.0   \n",
       "34107        166.00         70.00           Settle                    50.0   \n",
       "34108        450.00        280.00           Settle                    50.0   \n",
       "34109         70.35         70.35  Approve in Full                   100.0   \n",
       "\n",
       "      Reporting Delay  Reporting Delay in days  \n",
       "0             13 days                     13.0  \n",
       "1             10 days                     10.0  \n",
       "2            142 days                    142.0  \n",
       "3            185 days                    185.0  \n",
       "4            133 days                    133.0  \n",
       "...               ...                      ...  \n",
       "34105         92 days                     92.0  \n",
       "34106        197 days                    197.0  \n",
       "34107         29 days                     29.0  \n",
       "34108        148 days                    148.0  \n",
       "34109         10 days                     10.0  \n",
       "\n",
       "[34110 rows x 15 columns]"
      ]
     },
     "execution_count": 56,
     "metadata": {},
     "output_type": "execute_result"
    }
   ],
   "source": [
    "data"
   ]
  },
  {
   "cell_type": "code",
   "execution_count": 57,
   "id": "14c70fec",
   "metadata": {},
   "outputs": [],
   "source": [
    "data.drop(['Claim Number', 'City Code', 'Incident Date', 'Date Received', 'Claim Amount', 'Close Amount', 'Percent Claim Received', 'Reporting Delay'], axis=1, inplace=True)"
   ]
  },
  {
   "cell_type": "code",
   "execution_count": 58,
   "id": "60262e54",
   "metadata": {},
   "outputs": [
    {
     "data": {
      "text/html": [
       "<div>\n",
       "<style scoped>\n",
       "    .dataframe tbody tr th:only-of-type {\n",
       "        vertical-align: middle;\n",
       "    }\n",
       "\n",
       "    .dataframe tbody tr th {\n",
       "        vertical-align: top;\n",
       "    }\n",
       "\n",
       "    .dataframe thead th {\n",
       "        text-align: right;\n",
       "    }\n",
       "</style>\n",
       "<table border=\"1\" class=\"dataframe\">\n",
       "  <thead>\n",
       "    <tr style=\"text-align: right;\">\n",
       "      <th></th>\n",
       "      <th>City</th>\n",
       "      <th>Enterprise Type</th>\n",
       "      <th>Claim Type</th>\n",
       "      <th>Claim Site</th>\n",
       "      <th>Product Insured</th>\n",
       "      <th>Disposition</th>\n",
       "      <th>Reporting Delay in days</th>\n",
       "    </tr>\n",
       "  </thead>\n",
       "  <tbody>\n",
       "    <tr>\n",
       "      <th>0</th>\n",
       "      <td>Nashik</td>\n",
       "      <td>Public Limited Company</td>\n",
       "      <td>Property Loss</td>\n",
       "      <td>In Transit</td>\n",
       "      <td>Inventory - Raw Material</td>\n",
       "      <td>Deny</td>\n",
       "      <td>13.0</td>\n",
       "    </tr>\n",
       "    <tr>\n",
       "      <th>1</th>\n",
       "      <td>Mumbai</td>\n",
       "      <td>One Person Company</td>\n",
       "      <td>Property Loss</td>\n",
       "      <td>In Transit</td>\n",
       "      <td>Cameras and other Misc. Security Equipment</td>\n",
       "      <td>Settle</td>\n",
       "      <td>10.0</td>\n",
       "    </tr>\n",
       "    <tr>\n",
       "      <th>2</th>\n",
       "      <td>Lucknow</td>\n",
       "      <td>Public Limited Company</td>\n",
       "      <td>Property Loss</td>\n",
       "      <td>In Transit</td>\n",
       "      <td>Fixtures</td>\n",
       "      <td>Approve in Full</td>\n",
       "      <td>142.0</td>\n",
       "    </tr>\n",
       "    <tr>\n",
       "      <th>3</th>\n",
       "      <td>Delhi</td>\n",
       "      <td>Sole Proprietorship</td>\n",
       "      <td>Property Loss</td>\n",
       "      <td>In Transit</td>\n",
       "      <td>Pumps and Motors</td>\n",
       "      <td>Deny</td>\n",
       "      <td>185.0</td>\n",
       "    </tr>\n",
       "    <tr>\n",
       "      <th>4</th>\n",
       "      <td>Delhi</td>\n",
       "      <td>One Person Company</td>\n",
       "      <td>Property Loss</td>\n",
       "      <td>In Transit</td>\n",
       "      <td>Misc. Engineering Tools</td>\n",
       "      <td>Settle</td>\n",
       "      <td>133.0</td>\n",
       "    </tr>\n",
       "    <tr>\n",
       "      <th>...</th>\n",
       "      <td>...</td>\n",
       "      <td>...</td>\n",
       "      <td>...</td>\n",
       "      <td>...</td>\n",
       "      <td>...</td>\n",
       "      <td>...</td>\n",
       "      <td>...</td>\n",
       "    </tr>\n",
       "    <tr>\n",
       "      <th>34105</th>\n",
       "      <td>Agra</td>\n",
       "      <td>Public Limited Company</td>\n",
       "      <td>Property Loss</td>\n",
       "      <td>In Transit</td>\n",
       "      <td>Misc. Engineering Tools</td>\n",
       "      <td>Settle</td>\n",
       "      <td>92.0</td>\n",
       "    </tr>\n",
       "    <tr>\n",
       "      <th>34106</th>\n",
       "      <td>Lucknow</td>\n",
       "      <td>Partnership Firm</td>\n",
       "      <td>Property Damage</td>\n",
       "      <td>In Transit</td>\n",
       "      <td>Misc. Electronic Items</td>\n",
       "      <td>Deny</td>\n",
       "      <td>197.0</td>\n",
       "    </tr>\n",
       "    <tr>\n",
       "      <th>34107</th>\n",
       "      <td>Hyderabad</td>\n",
       "      <td>One Person Company</td>\n",
       "      <td>Property Damage</td>\n",
       "      <td>In Transit</td>\n",
       "      <td>Misc. Electronic Items</td>\n",
       "      <td>Settle</td>\n",
       "      <td>29.0</td>\n",
       "    </tr>\n",
       "    <tr>\n",
       "      <th>34108</th>\n",
       "      <td>Chennai</td>\n",
       "      <td>Sole Proprietorship</td>\n",
       "      <td>Property Damage</td>\n",
       "      <td>Warehouse</td>\n",
       "      <td>Pumps and Motors</td>\n",
       "      <td>Settle</td>\n",
       "      <td>148.0</td>\n",
       "    </tr>\n",
       "    <tr>\n",
       "      <th>34109</th>\n",
       "      <td>Lucknow</td>\n",
       "      <td>Private Ltd. MSME - Medium</td>\n",
       "      <td>Property Loss</td>\n",
       "      <td>In Transit</td>\n",
       "      <td>Inventory - Raw Material</td>\n",
       "      <td>Approve in Full</td>\n",
       "      <td>10.0</td>\n",
       "    </tr>\n",
       "  </tbody>\n",
       "</table>\n",
       "<p>34110 rows × 7 columns</p>\n",
       "</div>"
      ],
      "text/plain": [
       "            City             Enterprise Type       Claim Type  Claim Site  \\\n",
       "0         Nashik      Public Limited Company    Property Loss  In Transit   \n",
       "1         Mumbai          One Person Company    Property Loss  In Transit   \n",
       "2        Lucknow      Public Limited Company    Property Loss  In Transit   \n",
       "3          Delhi         Sole Proprietorship    Property Loss  In Transit   \n",
       "4          Delhi          One Person Company    Property Loss  In Transit   \n",
       "...          ...                         ...              ...         ...   \n",
       "34105       Agra      Public Limited Company    Property Loss  In Transit   \n",
       "34106    Lucknow            Partnership Firm  Property Damage  In Transit   \n",
       "34107  Hyderabad          One Person Company  Property Damage  In Transit   \n",
       "34108    Chennai         Sole Proprietorship  Property Damage   Warehouse   \n",
       "34109    Lucknow  Private Ltd. MSME - Medium    Property Loss  In Transit   \n",
       "\n",
       "                                  Product Insured      Disposition  \\\n",
       "0                        Inventory - Raw Material             Deny   \n",
       "1      Cameras and other Misc. Security Equipment           Settle   \n",
       "2                                        Fixtures  Approve in Full   \n",
       "3                                Pumps and Motors             Deny   \n",
       "4                         Misc. Engineering Tools           Settle   \n",
       "...                                           ...              ...   \n",
       "34105                     Misc. Engineering Tools           Settle   \n",
       "34106                      Misc. Electronic Items             Deny   \n",
       "34107                      Misc. Electronic Items           Settle   \n",
       "34108                            Pumps and Motors           Settle   \n",
       "34109                    Inventory - Raw Material  Approve in Full   \n",
       "\n",
       "       Reporting Delay in days  \n",
       "0                         13.0  \n",
       "1                         10.0  \n",
       "2                        142.0  \n",
       "3                        185.0  \n",
       "4                        133.0  \n",
       "...                        ...  \n",
       "34105                     92.0  \n",
       "34106                    197.0  \n",
       "34107                     29.0  \n",
       "34108                    148.0  \n",
       "34109                     10.0  \n",
       "\n",
       "[34110 rows x 7 columns]"
      ]
     },
     "execution_count": 58,
     "metadata": {},
     "output_type": "execute_result"
    }
   ],
   "source": [
    "data"
   ]
  },
  {
   "cell_type": "code",
   "execution_count": 59,
   "id": "a099e5b7",
   "metadata": {},
   "outputs": [
    {
     "data": {
      "text/plain": [
       "City                        object\n",
       "Enterprise Type             object\n",
       "Claim Type                  object\n",
       "Claim Site                  object\n",
       "Product Insured             object\n",
       "Disposition                 object\n",
       "Reporting Delay in days    float64\n",
       "dtype: object"
      ]
     },
     "execution_count": 59,
     "metadata": {},
     "output_type": "execute_result"
    }
   ],
   "source": [
    "data.dtypes"
   ]
  },
  {
   "cell_type": "code",
   "execution_count": 60,
   "id": "3b7fd8d0",
   "metadata": {},
   "outputs": [],
   "source": [
    "X = data.drop(['Disposition', 'Reporting Delay in days'], axis=1)\n",
    "y = data['Disposition']"
   ]
  },
  {
   "cell_type": "code",
   "execution_count": 61,
   "id": "bc273d5c",
   "metadata": {},
   "outputs": [],
   "source": [
    "obj = X.select_dtypes('object').columns"
   ]
  },
  {
   "cell_type": "code",
   "execution_count": 62,
   "id": "72b75a27",
   "metadata": {},
   "outputs": [],
   "source": [
    "X[obj] = X[obj].astype('category')"
   ]
  },
  {
   "cell_type": "code",
   "execution_count": 63,
   "id": "066a0554",
   "metadata": {},
   "outputs": [
    {
     "data": {
      "text/plain": [
       "City               category\n",
       "Enterprise Type    category\n",
       "Claim Type         category\n",
       "Claim Site         category\n",
       "Product Insured    category\n",
       "dtype: object"
      ]
     },
     "execution_count": 63,
     "metadata": {},
     "output_type": "execute_result"
    }
   ],
   "source": [
    "X.dtypes"
   ]
  },
  {
   "cell_type": "code",
   "execution_count": 64,
   "id": "c1993a8c",
   "metadata": {},
   "outputs": [],
   "source": [
    "cat_cols = X.select_dtypes('category').columns"
   ]
  },
  {
   "cell_type": "code",
   "execution_count": 65,
   "id": "8c2a5fbd",
   "metadata": {},
   "outputs": [],
   "source": [
    "#num_cols = X.select_dtypes('float64').columns"
   ]
  },
  {
   "cell_type": "code",
   "execution_count": 66,
   "id": "21cd4eae",
   "metadata": {},
   "outputs": [],
   "source": [
    "from sklearn.preprocessing import StandardScaler\n",
    "from sklearn.preprocessing import OneHotEncoder"
   ]
  },
  {
   "cell_type": "code",
   "execution_count": 67,
   "id": "640c5c75",
   "metadata": {},
   "outputs": [],
   "source": [
    "std = StandardScaler()\n",
    "ohe = OneHotEncoder(handle_unknown='ignore')"
   ]
  },
  {
   "cell_type": "code",
   "execution_count": 68,
   "id": "f222f4f8",
   "metadata": {},
   "outputs": [],
   "source": [
    "from sklearn.model_selection import train_test_split"
   ]
  },
  {
   "cell_type": "code",
   "execution_count": 69,
   "id": "89dd8464",
   "metadata": {},
   "outputs": [],
   "source": [
    "X_train, X_test, y_train, y_test = train_test_split(X,y, random_state=123, test_size=0.25)"
   ]
  },
  {
   "cell_type": "code",
   "execution_count": 70,
   "id": "b296241b",
   "metadata": {},
   "outputs": [
    {
     "data": {
      "text/plain": [
       "Deny               13347\n",
       "Approve in Full     6802\n",
       "Settle              5433\n",
       "Name: Disposition, dtype: int64"
      ]
     },
     "execution_count": 70,
     "metadata": {},
     "output_type": "execute_result"
    }
   ],
   "source": [
    "y_train.value_counts()"
   ]
  },
  {
   "cell_type": "code",
   "execution_count": 71,
   "id": "48fcdcfd",
   "metadata": {},
   "outputs": [
    {
     "data": {
      "text/plain": [
       "4027              Settle\n",
       "25177               Deny\n",
       "5588              Settle\n",
       "13950               Deny\n",
       "11644             Settle\n",
       "              ...       \n",
       "7763                Deny\n",
       "15377               Deny\n",
       "17730               Deny\n",
       "28030    Approve in Full\n",
       "15725               Deny\n",
       "Name: Disposition, Length: 25582, dtype: object"
      ]
     },
     "execution_count": 71,
     "metadata": {},
     "output_type": "execute_result"
    }
   ],
   "source": [
    "y_train"
   ]
  },
  {
   "cell_type": "code",
   "execution_count": 72,
   "id": "4ed7f1bc",
   "metadata": {},
   "outputs": [
    {
     "data": {
      "text/plain": [
       "Deny               4501\n",
       "Approve in Full    2250\n",
       "Settle             1777\n",
       "Name: Disposition, dtype: int64"
      ]
     },
     "execution_count": 72,
     "metadata": {},
     "output_type": "execute_result"
    }
   ],
   "source": [
    "y_test.value_counts()"
   ]
  },
  {
   "cell_type": "code",
   "execution_count": 73,
   "id": "039af48d",
   "metadata": {},
   "outputs": [
    {
     "data": {
      "text/plain": [
       "21201    Approve in Full\n",
       "28547               Deny\n",
       "26417             Settle\n",
       "22293    Approve in Full\n",
       "6275     Approve in Full\n",
       "              ...       \n",
       "2873                Deny\n",
       "29927    Approve in Full\n",
       "7718              Settle\n",
       "28496               Deny\n",
       "5397     Approve in Full\n",
       "Name: Disposition, Length: 8528, dtype: object"
      ]
     },
     "execution_count": 73,
     "metadata": {},
     "output_type": "execute_result"
    }
   ],
   "source": [
    "y_test"
   ]
  },
  {
   "cell_type": "code",
   "execution_count": 74,
   "id": "730167ec",
   "metadata": {},
   "outputs": [],
   "source": [
    "#X_train_std = std.fit_transform(X_train[num_cols])\n",
    "#X_test_std = std.transform(X_test[num_cols])"
   ]
  },
  {
   "cell_type": "code",
   "execution_count": 75,
   "id": "2f817d88",
   "metadata": {},
   "outputs": [],
   "source": [
    "X_train_ohe = ohe.fit_transform(X_train[cat_cols]).toarray()\n",
    "X_test_ohe = ohe.transform(X_test[cat_cols]).toarray()"
   ]
  },
  {
   "cell_type": "code",
   "execution_count": 76,
   "id": "28df909c",
   "metadata": {},
   "outputs": [
    {
     "data": {
      "text/plain": [
       "array([[0., 0., 0., 0., 0., 1., 0., 0., 0., 0., 0., 0., 0., 0., 0., 0.,\n",
       "        0., 0., 0., 0., 0., 0., 0., 0., 0., 0., 0., 0., 0., 0., 0., 0.,\n",
       "        0., 0., 0., 1., 0., 1., 0., 0., 1., 1., 0., 0., 0., 0., 0., 0.,\n",
       "        0., 0., 0., 0., 0., 0.]])"
      ]
     },
     "execution_count": 76,
     "metadata": {},
     "output_type": "execute_result"
    }
   ],
   "source": [
    "X_train_ohe[0:1]"
   ]
  },
  {
   "cell_type": "code",
   "execution_count": 77,
   "id": "8d1d4f52",
   "metadata": {},
   "outputs": [],
   "source": [
    "#X_train = np.concatenate((X_train_std, X_train_ohe), axis = 1)\n",
    "#X_test = np.concatenate((X_test_std, X_test_ohe), axis = 1)\n",
    "X_train = X_train_ohe\n",
    "X_test = X_test_ohe"
   ]
  },
  {
   "cell_type": "code",
   "execution_count": 78,
   "id": "11df37b8",
   "metadata": {},
   "outputs": [],
   "source": [
    "#Label Encoder of Y label\n",
    "from sklearn.preprocessing import LabelEncoder\n",
    "LE=LabelEncoder()"
   ]
  },
  {
   "cell_type": "code",
   "execution_count": 79,
   "id": "aa304325",
   "metadata": {},
   "outputs": [],
   "source": [
    "y_train = LE.fit_transform(y_train)"
   ]
  },
  {
   "cell_type": "code",
   "execution_count": 80,
   "id": "5db4a240",
   "metadata": {},
   "outputs": [
    {
     "data": {
      "text/plain": [
       "array([2, 1, 2, ..., 1, 0, 1])"
      ]
     },
     "execution_count": 80,
     "metadata": {},
     "output_type": "execute_result"
    }
   ],
   "source": [
    "y_train"
   ]
  },
  {
   "cell_type": "code",
   "execution_count": 81,
   "id": "4aa37f99",
   "metadata": {},
   "outputs": [],
   "source": [
    "y_test = LE.fit_transform(y_test)"
   ]
  },
  {
   "cell_type": "code",
   "execution_count": 82,
   "id": "a1af3c3e",
   "metadata": {},
   "outputs": [
    {
     "data": {
      "text/plain": [
       "array([0, 1, 2, ..., 2, 1, 0])"
      ]
     },
     "execution_count": 82,
     "metadata": {},
     "output_type": "execute_result"
    }
   ],
   "source": [
    "y_test"
   ]
  },
  {
   "cell_type": "code",
   "execution_count": 83,
   "id": "007e5763",
   "metadata": {},
   "outputs": [],
   "source": [
    "from sklearn.metrics import accuracy_score, recall_score"
   ]
  },
  {
   "cell_type": "code",
   "execution_count": 84,
   "id": "7f6a7184",
   "metadata": {},
   "outputs": [],
   "source": [
    "from sklearn.metrics import classification_report"
   ]
  },
  {
   "cell_type": "code",
   "execution_count": 85,
   "id": "c6b04ab4",
   "metadata": {},
   "outputs": [],
   "source": [
    "def metrics(x,y):\n",
    "    print(\"Accuracy\",accuracy_score(x,y))\n",
    "    print(classification_report(x,y))"
   ]
  },
  {
   "cell_type": "code",
   "execution_count": 86,
   "id": "b7a37f5a",
   "metadata": {},
   "outputs": [],
   "source": [
    "#ALL IMPORTS OF CLASSIFICATION MODELS\n",
    "from sklearn.linear_model import LogisticRegression\n",
    "Log = LogisticRegression()"
   ]
  },
  {
   "cell_type": "code",
   "execution_count": 87,
   "id": "a19663a4",
   "metadata": {},
   "outputs": [],
   "source": [
    "from sklearn.tree import DecisionTreeClassifier\n",
    "Dtc = DecisionTreeClassifier()"
   ]
  },
  {
   "cell_type": "code",
   "execution_count": 88,
   "id": "a6bb114d",
   "metadata": {},
   "outputs": [],
   "source": [
    "from sklearn.ensemble import RandomForestClassifier\n",
    "Rfc = RandomForestClassifier()"
   ]
  },
  {
   "cell_type": "code",
   "execution_count": 89,
   "id": "bef47467",
   "metadata": {},
   "outputs": [],
   "source": [
    "from sklearn.naive_bayes import MultinomialNB\n",
    "Mnb = MultinomialNB()"
   ]
  },
  {
   "cell_type": "code",
   "execution_count": 90,
   "id": "919929cd",
   "metadata": {},
   "outputs": [],
   "source": [
    "from sklearn.ensemble import AdaBoostClassifier\n",
    "Adb = AdaBoostClassifier()"
   ]
  },
  {
   "cell_type": "code",
   "execution_count": 91,
   "id": "9b24722f",
   "metadata": {},
   "outputs": [],
   "source": [
    "from sklearn.svm import LinearSVC\n",
    "Svc = LinearSVC()"
   ]
  },
  {
   "cell_type": "code",
   "execution_count": null,
   "id": "535d7028",
   "metadata": {},
   "outputs": [],
   "source": []
  },
  {
   "cell_type": "code",
   "execution_count": 92,
   "id": "7a80e333",
   "metadata": {},
   "outputs": [],
   "source": [
    "def fit_models(model, x, y ,x1, y1):\n",
    "    model.fit(x,y)\n",
    "    print(\">>>TRAIN DATA<<<\")\n",
    "    y_pred = model.predict(x)\n",
    "    metrics(y, y_pred)\n",
    "    print(\">>>TEST DATA<<<\")\n",
    "    y_pred1 = model.predict(x1)\n",
    "    metrics(y1, y_pred1)"
   ]
  },
  {
   "cell_type": "code",
   "execution_count": 93,
   "id": "a1547b41",
   "metadata": {},
   "outputs": [
    {
     "name": "stdout",
     "output_type": "stream",
     "text": [
      ">>>TRAIN DATA<<<\n",
      "Accuracy 0.523727620983504\n",
      "              precision    recall  f1-score   support\n",
      "\n",
      "           0       0.42      0.20      0.27      6802\n",
      "           1       0.54      0.90      0.67     13347\n",
      "           2       0.33      0.00      0.01      5433\n",
      "\n",
      "    accuracy                           0.52     25582\n",
      "   macro avg       0.43      0.37      0.32     25582\n",
      "weighted avg       0.46      0.52      0.43     25582\n",
      "\n",
      ">>>TEST DATA<<<\n",
      "Accuracy 0.524155722326454\n",
      "              precision    recall  f1-score   support\n",
      "\n",
      "           0       0.42      0.18      0.25      2250\n",
      "           1       0.54      0.90      0.67      4501\n",
      "           2       0.24      0.00      0.01      1777\n",
      "\n",
      "    accuracy                           0.52      8528\n",
      "   macro avg       0.40      0.36      0.31      8528\n",
      "weighted avg       0.44      0.52      0.42      8528\n",
      "\n"
     ]
    },
    {
     "name": "stderr",
     "output_type": "stream",
     "text": [
      "C:\\Users\\K TARUN\\anaconda3\\lib\\site-packages\\sklearn\\linear_model\\_logistic.py:444: ConvergenceWarning: lbfgs failed to converge (status=1):\n",
      "STOP: TOTAL NO. of ITERATIONS REACHED LIMIT.\n",
      "\n",
      "Increase the number of iterations (max_iter) or scale the data as shown in:\n",
      "    https://scikit-learn.org/stable/modules/preprocessing.html\n",
      "Please also refer to the documentation for alternative solver options:\n",
      "    https://scikit-learn.org/stable/modules/linear_model.html#logistic-regression\n",
      "  n_iter_i = _check_optimize_result(\n"
     ]
    }
   ],
   "source": [
    "#Logisticc Regression\n",
    "fit_models(Log, X_train, y_train, X_test, y_test)"
   ]
  },
  {
   "cell_type": "code",
   "execution_count": 94,
   "id": "7682d512",
   "metadata": {},
   "outputs": [
    {
     "name": "stdout",
     "output_type": "stream",
     "text": [
      ">>>TRAIN DATA<<<\n",
      "Accuracy 0.6331013994214683\n",
      "              precision    recall  f1-score   support\n",
      "\n",
      "           0       0.58      0.55      0.57      6802\n",
      "           1       0.65      0.84      0.73     13347\n",
      "           2       0.68      0.22      0.33      5433\n",
      "\n",
      "    accuracy                           0.63     25582\n",
      "   macro avg       0.64      0.54      0.54     25582\n",
      "weighted avg       0.64      0.63      0.60     25582\n",
      "\n",
      ">>>TEST DATA<<<\n",
      "Accuracy 0.5044559099437148\n",
      "              precision    recall  f1-score   support\n",
      "\n",
      "           0       0.40      0.38      0.39      2250\n",
      "           1       0.57      0.73      0.64      4501\n",
      "           2       0.25      0.08      0.12      1777\n",
      "\n",
      "    accuracy                           0.50      8528\n",
      "   macro avg       0.41      0.40      0.38      8528\n",
      "weighted avg       0.46      0.50      0.47      8528\n",
      "\n"
     ]
    }
   ],
   "source": [
    "#Decision Tree\n",
    "fit_models(Dtc, X_train, y_train, X_test, y_test)"
   ]
  },
  {
   "cell_type": "code",
   "execution_count": 95,
   "id": "c77da47e",
   "metadata": {},
   "outputs": [
    {
     "name": "stdout",
     "output_type": "stream",
     "text": [
      ">>>TRAIN DATA<<<\n",
      "Accuracy 0.6331013994214683\n",
      "              precision    recall  f1-score   support\n",
      "\n",
      "           0       0.61      0.48      0.54      6802\n",
      "           1       0.64      0.86      0.73     13347\n",
      "           2       0.61      0.27      0.37      5433\n",
      "\n",
      "    accuracy                           0.63     25582\n",
      "   macro avg       0.62      0.54      0.55     25582\n",
      "weighted avg       0.63      0.63      0.61     25582\n",
      "\n",
      ">>>TEST DATA<<<\n",
      "Accuracy 0.5094981238273921\n",
      "              precision    recall  f1-score   support\n",
      "\n",
      "           0       0.42      0.32      0.36      2250\n",
      "           1       0.57      0.77      0.65      4501\n",
      "           2       0.25      0.10      0.15      1777\n",
      "\n",
      "    accuracy                           0.51      8528\n",
      "   macro avg       0.41      0.40      0.39      8528\n",
      "weighted avg       0.46      0.51      0.47      8528\n",
      "\n"
     ]
    }
   ],
   "source": [
    "#Random Forest\n",
    "fit_models(Rfc, X_train, y_train, X_test, y_test)"
   ]
  },
  {
   "cell_type": "code",
   "execution_count": 96,
   "id": "a6a0fff1",
   "metadata": {},
   "outputs": [
    {
     "name": "stdout",
     "output_type": "stream",
     "text": [
      ">>>TRAIN DATA<<<\n",
      "Accuracy 0.5178250332264873\n",
      "              precision    recall  f1-score   support\n",
      "\n",
      "           0       0.40      0.24      0.30      6802\n",
      "           1       0.54      0.87      0.67     13347\n",
      "           2       0.35      0.00      0.01      5433\n",
      "\n",
      "    accuracy                           0.52     25582\n",
      "   macro avg       0.43      0.37      0.32     25582\n",
      "weighted avg       0.46      0.52      0.43     25582\n",
      "\n",
      ">>>TEST DATA<<<\n",
      "Accuracy 0.5191135084427767\n",
      "              precision    recall  f1-score   support\n",
      "\n",
      "           0       0.40      0.22      0.28      2250\n",
      "           1       0.54      0.87      0.67      4501\n",
      "           2       0.24      0.00      0.01      1777\n",
      "\n",
      "    accuracy                           0.52      8528\n",
      "   macro avg       0.39      0.36      0.32      8528\n",
      "weighted avg       0.44      0.52      0.43      8528\n",
      "\n"
     ]
    }
   ],
   "source": [
    "#Adaboost Classifier\n",
    "fit_models(Adb, X_train, y_train, X_test, y_test)"
   ]
  },
  {
   "cell_type": "code",
   "execution_count": 97,
   "id": "d885d1ce",
   "metadata": {},
   "outputs": [
    {
     "name": "stdout",
     "output_type": "stream",
     "text": [
      ">>>TRAIN DATA<<<\n",
      "Accuracy 0.5251739504338988\n",
      "              precision    recall  f1-score   support\n",
      "\n",
      "           0       0.43      0.19      0.26      6802\n",
      "           1       0.54      0.91      0.68     13347\n",
      "           2       0.35      0.00      0.00      5433\n",
      "\n",
      "    accuracy                           0.53     25582\n",
      "   macro avg       0.44      0.37      0.31     25582\n",
      "weighted avg       0.47      0.53      0.42     25582\n",
      "\n",
      ">>>TEST DATA<<<\n",
      "Accuracy 0.526031894934334\n",
      "              precision    recall  f1-score   support\n",
      "\n",
      "           0       0.42      0.18      0.25      2250\n",
      "           1       0.54      0.91      0.68      4501\n",
      "           2       0.00      0.00      0.00      1777\n",
      "\n",
      "    accuracy                           0.53      8528\n",
      "   macro avg       0.32      0.36      0.31      8528\n",
      "weighted avg       0.40      0.53      0.42      8528\n",
      "\n"
     ]
    }
   ],
   "source": [
    "#Support vectors\n",
    "fit_models(Svc, X_train, y_train, X_test, y_test)"
   ]
  },
  {
   "cell_type": "markdown",
   "id": "b097cd6e",
   "metadata": {},
   "source": [
    "# Hyper parameter tuning"
   ]
  },
  {
   "cell_type": "code",
   "execution_count": 98,
   "id": "821c01f8",
   "metadata": {},
   "outputs": [],
   "source": [
    "rf_classifier = RandomForestClassifier(n_estimators=1000)"
   ]
  },
  {
   "cell_type": "code",
   "execution_count": 99,
   "id": "c08b592a",
   "metadata": {},
   "outputs": [
    {
     "name": "stdout",
     "output_type": "stream",
     "text": [
      ">>>TRAIN DATA<<<\n",
      "Accuracy 0.6331013994214683\n",
      "              precision    recall  f1-score   support\n",
      "\n",
      "           0       0.62      0.48      0.54      6802\n",
      "           1       0.64      0.86      0.73     13347\n",
      "           2       0.61      0.27      0.38      5433\n",
      "\n",
      "    accuracy                           0.63     25582\n",
      "   macro avg       0.62      0.54      0.55     25582\n",
      "weighted avg       0.63      0.63      0.61     25582\n",
      "\n",
      ">>>TEST DATA<<<\n",
      "Accuracy 0.5121951219512195\n",
      "              precision    recall  f1-score   support\n",
      "\n",
      "           0       0.42      0.32      0.36      2250\n",
      "           1       0.57      0.77      0.65      4501\n",
      "           2       0.26      0.11      0.15      1777\n",
      "\n",
      "    accuracy                           0.51      8528\n",
      "   macro avg       0.42      0.40      0.39      8528\n",
      "weighted avg       0.47      0.51      0.47      8528\n",
      "\n"
     ]
    }
   ],
   "source": [
    "fit_models(rf_classifier, X_train, y_train, X_test, y_test)"
   ]
  },
  {
   "cell_type": "markdown",
   "id": "072fcff5",
   "metadata": {},
   "source": [
    "# test data"
   ]
  },
  {
   "cell_type": "code",
   "execution_count": 100,
   "id": "45fb5d64",
   "metadata": {},
   "outputs": [],
   "source": [
    "test  = pd.read_csv('test_data-1663477366404.csv')"
   ]
  },
  {
   "cell_type": "code",
   "execution_count": 101,
   "id": "8fcd3b2d",
   "metadata": {},
   "outputs": [
    {
     "data": {
      "text/html": [
       "<div>\n",
       "<style scoped>\n",
       "    .dataframe tbody tr th:only-of-type {\n",
       "        vertical-align: middle;\n",
       "    }\n",
       "\n",
       "    .dataframe tbody tr th {\n",
       "        vertical-align: top;\n",
       "    }\n",
       "\n",
       "    .dataframe thead th {\n",
       "        text-align: right;\n",
       "    }\n",
       "</style>\n",
       "<table border=\"1\" class=\"dataframe\">\n",
       "  <thead>\n",
       "    <tr style=\"text-align: right;\">\n",
       "      <th></th>\n",
       "      <th>Claim Number</th>\n",
       "      <th>Incident Date</th>\n",
       "      <th>Date Received</th>\n",
       "      <th>City Code</th>\n",
       "      <th>City</th>\n",
       "      <th>Enterprise Type</th>\n",
       "      <th>Claim Type</th>\n",
       "      <th>Claim Site</th>\n",
       "      <th>Product Insured</th>\n",
       "    </tr>\n",
       "  </thead>\n",
       "  <tbody>\n",
       "    <tr>\n",
       "      <th>0</th>\n",
       "      <td>6EYB31JGFR</td>\n",
       "      <td>21-09-2006</td>\n",
       "      <td>26-12-2006</td>\n",
       "      <td>PNQ</td>\n",
       "      <td>Pune</td>\n",
       "      <td>One Person Company</td>\n",
       "      <td>Property Loss</td>\n",
       "      <td>In Transit</td>\n",
       "      <td>Inventory - Finished Goods</td>\n",
       "    </tr>\n",
       "    <tr>\n",
       "      <th>1</th>\n",
       "      <td>HJLRXONE3R</td>\n",
       "      <td>15-01-2009</td>\n",
       "      <td>11-02-2009</td>\n",
       "      <td>PNQ</td>\n",
       "      <td>Pune</td>\n",
       "      <td>Limited Liability Parterneship (LLP)</td>\n",
       "      <td>Property Loss</td>\n",
       "      <td>In Transit</td>\n",
       "      <td>Fixtures</td>\n",
       "    </tr>\n",
       "    <tr>\n",
       "      <th>2</th>\n",
       "      <td>IUOV99JA22</td>\n",
       "      <td>17-08-2005</td>\n",
       "      <td>01-09-2005</td>\n",
       "      <td>AMD</td>\n",
       "      <td>Ahmedabad</td>\n",
       "      <td>Private Limited Company</td>\n",
       "      <td>Property Loss</td>\n",
       "      <td>Warehouse</td>\n",
       "      <td>Inventory - Raw Material</td>\n",
       "    </tr>\n",
       "    <tr>\n",
       "      <th>3</th>\n",
       "      <td>BGOUHQ2LKK</td>\n",
       "      <td>15-02-2005</td>\n",
       "      <td>01-06-2005</td>\n",
       "      <td>DEL</td>\n",
       "      <td>Delhi</td>\n",
       "      <td>One Person Company</td>\n",
       "      <td>Property Damage</td>\n",
       "      <td>In Transit</td>\n",
       "      <td>Inventory - Finished Goods</td>\n",
       "    </tr>\n",
       "    <tr>\n",
       "      <th>4</th>\n",
       "      <td>HDCG60QET1</td>\n",
       "      <td>17-03-2003</td>\n",
       "      <td>01-04-2003</td>\n",
       "      <td>PNQ</td>\n",
       "      <td>Pune</td>\n",
       "      <td>Private Limited Company</td>\n",
       "      <td>Property Damage</td>\n",
       "      <td>In Transit</td>\n",
       "      <td>Misc. Electronic Items</td>\n",
       "    </tr>\n",
       "    <tr>\n",
       "      <th>...</th>\n",
       "      <td>...</td>\n",
       "      <td>...</td>\n",
       "      <td>...</td>\n",
       "      <td>...</td>\n",
       "      <td>...</td>\n",
       "      <td>...</td>\n",
       "      <td>...</td>\n",
       "      <td>...</td>\n",
       "      <td>...</td>\n",
       "    </tr>\n",
       "    <tr>\n",
       "      <th>3786</th>\n",
       "      <td>IMQYY73AOP</td>\n",
       "      <td>30-07-2007</td>\n",
       "      <td>21-08-2007</td>\n",
       "      <td>CCU</td>\n",
       "      <td>Kolkata</td>\n",
       "      <td>Private Limited Company</td>\n",
       "      <td>Property Loss</td>\n",
       "      <td>Warehouse</td>\n",
       "      <td>Cameras and other Misc. Security Equipment</td>\n",
       "    </tr>\n",
       "    <tr>\n",
       "      <th>3787</th>\n",
       "      <td>2AR1OGIMH4</td>\n",
       "      <td>21-08-2004</td>\n",
       "      <td>09-09-2004</td>\n",
       "      <td>NGP</td>\n",
       "      <td>Nagpur</td>\n",
       "      <td>Sole Proprietorship</td>\n",
       "      <td>Property Loss</td>\n",
       "      <td>In Transit</td>\n",
       "      <td>Property, Plant, and Equipment (PPE) Parts</td>\n",
       "    </tr>\n",
       "    <tr>\n",
       "      <th>3788</th>\n",
       "      <td>SB4IET2MO5</td>\n",
       "      <td>13-05-2005</td>\n",
       "      <td>02-06-2005</td>\n",
       "      <td>LKO</td>\n",
       "      <td>Lucknow</td>\n",
       "      <td>Joint-Venture Company</td>\n",
       "      <td>Property Loss</td>\n",
       "      <td>Warehouse</td>\n",
       "      <td>Heating, ventilation, and air conditioning (HV...</td>\n",
       "    </tr>\n",
       "    <tr>\n",
       "      <th>3789</th>\n",
       "      <td>3IBWXQK04L</td>\n",
       "      <td>11-04-2004</td>\n",
       "      <td>04-05-2004</td>\n",
       "      <td>BOM</td>\n",
       "      <td>Mumbai</td>\n",
       "      <td>One Person Company</td>\n",
       "      <td>Property Damage</td>\n",
       "      <td>In Transit</td>\n",
       "      <td>Misc. Electronic Items</td>\n",
       "    </tr>\n",
       "    <tr>\n",
       "      <th>3790</th>\n",
       "      <td>FK8SJ5GWYJ</td>\n",
       "      <td>11-04-2004</td>\n",
       "      <td>23-04-2004</td>\n",
       "      <td>BLR</td>\n",
       "      <td>Bangalore</td>\n",
       "      <td>Public Limited Company</td>\n",
       "      <td>Property Loss</td>\n",
       "      <td>In Transit</td>\n",
       "      <td>Furniture</td>\n",
       "    </tr>\n",
       "  </tbody>\n",
       "</table>\n",
       "<p>3791 rows × 9 columns</p>\n",
       "</div>"
      ],
      "text/plain": [
       "     Claim Number Incident Date Date Received City Code       City  \\\n",
       "0      6EYB31JGFR    21-09-2006    26-12-2006       PNQ       Pune   \n",
       "1      HJLRXONE3R    15-01-2009    11-02-2009       PNQ       Pune   \n",
       "2      IUOV99JA22    17-08-2005    01-09-2005       AMD  Ahmedabad   \n",
       "3      BGOUHQ2LKK    15-02-2005    01-06-2005       DEL      Delhi   \n",
       "4      HDCG60QET1    17-03-2003    01-04-2003       PNQ       Pune   \n",
       "...           ...           ...           ...       ...        ...   \n",
       "3786   IMQYY73AOP    30-07-2007    21-08-2007       CCU    Kolkata   \n",
       "3787   2AR1OGIMH4    21-08-2004    09-09-2004       NGP     Nagpur   \n",
       "3788   SB4IET2MO5    13-05-2005    02-06-2005       LKO    Lucknow   \n",
       "3789   3IBWXQK04L    11-04-2004    04-05-2004       BOM     Mumbai   \n",
       "3790   FK8SJ5GWYJ    11-04-2004    23-04-2004       BLR  Bangalore   \n",
       "\n",
       "                           Enterprise Type       Claim Type  Claim Site  \\\n",
       "0                       One Person Company    Property Loss  In Transit   \n",
       "1     Limited Liability Parterneship (LLP)    Property Loss  In Transit   \n",
       "2                  Private Limited Company    Property Loss   Warehouse   \n",
       "3                       One Person Company  Property Damage  In Transit   \n",
       "4                  Private Limited Company  Property Damage  In Transit   \n",
       "...                                    ...              ...         ...   \n",
       "3786               Private Limited Company    Property Loss   Warehouse   \n",
       "3787                   Sole Proprietorship    Property Loss  In Transit   \n",
       "3788                 Joint-Venture Company    Property Loss   Warehouse   \n",
       "3789                    One Person Company  Property Damage  In Transit   \n",
       "3790                Public Limited Company    Property Loss  In Transit   \n",
       "\n",
       "                                        Product Insured  \n",
       "0                            Inventory - Finished Goods  \n",
       "1                                              Fixtures  \n",
       "2                              Inventory - Raw Material  \n",
       "3                            Inventory - Finished Goods  \n",
       "4                                Misc. Electronic Items  \n",
       "...                                                 ...  \n",
       "3786         Cameras and other Misc. Security Equipment  \n",
       "3787         Property, Plant, and Equipment (PPE) Parts  \n",
       "3788  Heating, ventilation, and air conditioning (HV...  \n",
       "3789                             Misc. Electronic Items  \n",
       "3790                                          Furniture  \n",
       "\n",
       "[3791 rows x 9 columns]"
      ]
     },
     "execution_count": 101,
     "metadata": {},
     "output_type": "execute_result"
    }
   ],
   "source": [
    "test"
   ]
  },
  {
   "cell_type": "code",
   "execution_count": 102,
   "id": "90b961a8",
   "metadata": {},
   "outputs": [
    {
     "data": {
      "text/plain": [
       "Claim Number       0\n",
       "Incident Date      0\n",
       "Date Received      0\n",
       "City Code          0\n",
       "City               0\n",
       "Enterprise Type    0\n",
       "Claim Type         0\n",
       "Claim Site         0\n",
       "Product Insured    0\n",
       "dtype: int64"
      ]
     },
     "execution_count": 102,
     "metadata": {},
     "output_type": "execute_result"
    }
   ],
   "source": [
    "test.isnull().sum()"
   ]
  },
  {
   "cell_type": "code",
   "execution_count": 103,
   "id": "608b8568",
   "metadata": {},
   "outputs": [
    {
     "name": "stdout",
     "output_type": "stream",
     "text": [
      "<class 'pandas.core.frame.DataFrame'>\n",
      "RangeIndex: 3791 entries, 0 to 3790\n",
      "Data columns (total 9 columns):\n",
      " #   Column           Non-Null Count  Dtype \n",
      "---  ------           --------------  ----- \n",
      " 0   Claim Number     3791 non-null   object\n",
      " 1   Incident Date    3791 non-null   object\n",
      " 2   Date Received    3791 non-null   object\n",
      " 3   City Code        3791 non-null   object\n",
      " 4   City             3791 non-null   object\n",
      " 5   Enterprise Type  3791 non-null   object\n",
      " 6   Claim Type       3791 non-null   object\n",
      " 7   Claim Site       3791 non-null   object\n",
      " 8   Product Insured  3791 non-null   object\n",
      "dtypes: object(9)\n",
      "memory usage: 266.7+ KB\n"
     ]
    }
   ],
   "source": [
    "test.info()"
   ]
  },
  {
   "cell_type": "code",
   "execution_count": 104,
   "id": "87929134",
   "metadata": {},
   "outputs": [],
   "source": [
    "test.drop(['Claim Number', 'Incident Date', 'Date Received', 'City Code'], axis=1, inplace=True)"
   ]
  },
  {
   "cell_type": "code",
   "execution_count": 105,
   "id": "720894e8",
   "metadata": {},
   "outputs": [
    {
     "data": {
      "text/html": [
       "<div>\n",
       "<style scoped>\n",
       "    .dataframe tbody tr th:only-of-type {\n",
       "        vertical-align: middle;\n",
       "    }\n",
       "\n",
       "    .dataframe tbody tr th {\n",
       "        vertical-align: top;\n",
       "    }\n",
       "\n",
       "    .dataframe thead th {\n",
       "        text-align: right;\n",
       "    }\n",
       "</style>\n",
       "<table border=\"1\" class=\"dataframe\">\n",
       "  <thead>\n",
       "    <tr style=\"text-align: right;\">\n",
       "      <th></th>\n",
       "      <th>City</th>\n",
       "      <th>Enterprise Type</th>\n",
       "      <th>Claim Type</th>\n",
       "      <th>Claim Site</th>\n",
       "      <th>Product Insured</th>\n",
       "    </tr>\n",
       "  </thead>\n",
       "  <tbody>\n",
       "    <tr>\n",
       "      <th>0</th>\n",
       "      <td>Pune</td>\n",
       "      <td>One Person Company</td>\n",
       "      <td>Property Loss</td>\n",
       "      <td>In Transit</td>\n",
       "      <td>Inventory - Finished Goods</td>\n",
       "    </tr>\n",
       "    <tr>\n",
       "      <th>1</th>\n",
       "      <td>Pune</td>\n",
       "      <td>Limited Liability Parterneship (LLP)</td>\n",
       "      <td>Property Loss</td>\n",
       "      <td>In Transit</td>\n",
       "      <td>Fixtures</td>\n",
       "    </tr>\n",
       "    <tr>\n",
       "      <th>2</th>\n",
       "      <td>Ahmedabad</td>\n",
       "      <td>Private Limited Company</td>\n",
       "      <td>Property Loss</td>\n",
       "      <td>Warehouse</td>\n",
       "      <td>Inventory - Raw Material</td>\n",
       "    </tr>\n",
       "    <tr>\n",
       "      <th>3</th>\n",
       "      <td>Delhi</td>\n",
       "      <td>One Person Company</td>\n",
       "      <td>Property Damage</td>\n",
       "      <td>In Transit</td>\n",
       "      <td>Inventory - Finished Goods</td>\n",
       "    </tr>\n",
       "    <tr>\n",
       "      <th>4</th>\n",
       "      <td>Pune</td>\n",
       "      <td>Private Limited Company</td>\n",
       "      <td>Property Damage</td>\n",
       "      <td>In Transit</td>\n",
       "      <td>Misc. Electronic Items</td>\n",
       "    </tr>\n",
       "    <tr>\n",
       "      <th>...</th>\n",
       "      <td>...</td>\n",
       "      <td>...</td>\n",
       "      <td>...</td>\n",
       "      <td>...</td>\n",
       "      <td>...</td>\n",
       "    </tr>\n",
       "    <tr>\n",
       "      <th>3786</th>\n",
       "      <td>Kolkata</td>\n",
       "      <td>Private Limited Company</td>\n",
       "      <td>Property Loss</td>\n",
       "      <td>Warehouse</td>\n",
       "      <td>Cameras and other Misc. Security Equipment</td>\n",
       "    </tr>\n",
       "    <tr>\n",
       "      <th>3787</th>\n",
       "      <td>Nagpur</td>\n",
       "      <td>Sole Proprietorship</td>\n",
       "      <td>Property Loss</td>\n",
       "      <td>In Transit</td>\n",
       "      <td>Property, Plant, and Equipment (PPE) Parts</td>\n",
       "    </tr>\n",
       "    <tr>\n",
       "      <th>3788</th>\n",
       "      <td>Lucknow</td>\n",
       "      <td>Joint-Venture Company</td>\n",
       "      <td>Property Loss</td>\n",
       "      <td>Warehouse</td>\n",
       "      <td>Heating, ventilation, and air conditioning (HV...</td>\n",
       "    </tr>\n",
       "    <tr>\n",
       "      <th>3789</th>\n",
       "      <td>Mumbai</td>\n",
       "      <td>One Person Company</td>\n",
       "      <td>Property Damage</td>\n",
       "      <td>In Transit</td>\n",
       "      <td>Misc. Electronic Items</td>\n",
       "    </tr>\n",
       "    <tr>\n",
       "      <th>3790</th>\n",
       "      <td>Bangalore</td>\n",
       "      <td>Public Limited Company</td>\n",
       "      <td>Property Loss</td>\n",
       "      <td>In Transit</td>\n",
       "      <td>Furniture</td>\n",
       "    </tr>\n",
       "  </tbody>\n",
       "</table>\n",
       "<p>3791 rows × 5 columns</p>\n",
       "</div>"
      ],
      "text/plain": [
       "           City                       Enterprise Type       Claim Type  \\\n",
       "0          Pune                    One Person Company    Property Loss   \n",
       "1          Pune  Limited Liability Parterneship (LLP)    Property Loss   \n",
       "2     Ahmedabad               Private Limited Company    Property Loss   \n",
       "3         Delhi                    One Person Company  Property Damage   \n",
       "4          Pune               Private Limited Company  Property Damage   \n",
       "...         ...                                   ...              ...   \n",
       "3786    Kolkata               Private Limited Company    Property Loss   \n",
       "3787     Nagpur                   Sole Proprietorship    Property Loss   \n",
       "3788    Lucknow                 Joint-Venture Company    Property Loss   \n",
       "3789     Mumbai                    One Person Company  Property Damage   \n",
       "3790  Bangalore                Public Limited Company    Property Loss   \n",
       "\n",
       "      Claim Site                                    Product Insured  \n",
       "0     In Transit                         Inventory - Finished Goods  \n",
       "1     In Transit                                           Fixtures  \n",
       "2      Warehouse                           Inventory - Raw Material  \n",
       "3     In Transit                         Inventory - Finished Goods  \n",
       "4     In Transit                             Misc. Electronic Items  \n",
       "...          ...                                                ...  \n",
       "3786   Warehouse         Cameras and other Misc. Security Equipment  \n",
       "3787  In Transit         Property, Plant, and Equipment (PPE) Parts  \n",
       "3788   Warehouse  Heating, ventilation, and air conditioning (HV...  \n",
       "3789  In Transit                             Misc. Electronic Items  \n",
       "3790  In Transit                                          Furniture  \n",
       "\n",
       "[3791 rows x 5 columns]"
      ]
     },
     "execution_count": 105,
     "metadata": {},
     "output_type": "execute_result"
    }
   ],
   "source": [
    "test"
   ]
  },
  {
   "cell_type": "code",
   "execution_count": 106,
   "id": "f51d8c90",
   "metadata": {},
   "outputs": [],
   "source": [
    "test_data = ohe.transform(test).toarray()"
   ]
  },
  {
   "cell_type": "code",
   "execution_count": 107,
   "id": "8ea1fb05",
   "metadata": {},
   "outputs": [
    {
     "data": {
      "text/plain": [
       "array([[0., 0., 0., ..., 0., 0., 0.],\n",
       "       [0., 0., 0., ..., 0., 0., 0.],\n",
       "       [0., 1., 0., ..., 0., 0., 0.],\n",
       "       ...,\n",
       "       [0., 0., 0., ..., 0., 0., 0.],\n",
       "       [0., 0., 0., ..., 0., 0., 0.],\n",
       "       [0., 0., 0., ..., 0., 0., 0.]])"
      ]
     },
     "execution_count": 107,
     "metadata": {},
     "output_type": "execute_result"
    }
   ],
   "source": [
    "test_data"
   ]
  },
  {
   "cell_type": "code",
   "execution_count": 108,
   "id": "d8037dde",
   "metadata": {},
   "outputs": [],
   "source": [
    "test_pred = Svc.predict(test_data)"
   ]
  },
  {
   "cell_type": "code",
   "execution_count": 109,
   "id": "8661eaa6",
   "metadata": {},
   "outputs": [
    {
     "data": {
      "text/plain": [
       "array([1, 1, 0, ..., 1, 1, 1])"
      ]
     },
     "execution_count": 109,
     "metadata": {},
     "output_type": "execute_result"
    }
   ],
   "source": [
    "test_pred"
   ]
  },
  {
   "cell_type": "code",
   "execution_count": null,
   "id": "de54cf88",
   "metadata": {},
   "outputs": [],
   "source": []
  },
  {
   "cell_type": "code",
   "execution_count": null,
   "id": "31232528",
   "metadata": {},
   "outputs": [],
   "source": []
  }
 ],
 "metadata": {
  "kernelspec": {
   "display_name": "Python 3",
   "language": "python",
   "name": "python3"
  },
  "language_info": {
   "codemirror_mode": {
    "name": "ipython",
    "version": 3
   },
   "file_extension": ".py",
   "mimetype": "text/x-python",
   "name": "python",
   "nbconvert_exporter": "python",
   "pygments_lexer": "ipython3",
   "version": "3.8.8"
  }
 },
 "nbformat": 4,
 "nbformat_minor": 5
}
