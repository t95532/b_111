{
 "cells": [
  {
   "cell_type": "code",
   "execution_count": 1,
   "id": "a47453c3",
   "metadata": {
    "_cell_guid": "b1076dfc-b9ad-4769-8c92-a6c4dae69d19",
    "_uuid": "8f2839f25d086af736a60e9eeb907d3b93b6e0e5",
    "execution": {
     "iopub.execute_input": "2023-12-25T14:48:29.396742Z",
     "iopub.status.busy": "2023-12-25T14:48:29.396370Z",
     "iopub.status.idle": "2023-12-25T14:48:30.060320Z",
     "shell.execute_reply": "2023-12-25T14:48:30.059344Z"
    },
    "papermill": {
     "duration": 0.685879,
     "end_time": "2023-12-25T14:48:30.062811",
     "exception": false,
     "start_time": "2023-12-25T14:48:29.376932",
     "status": "completed"
    },
    "tags": []
   },
   "outputs": [
    {
     "name": "stdout",
     "output_type": "stream",
     "text": [
      "/kaggle/input/loan-default/Loan_default.csv\n"
     ]
    }
   ],
   "source": [
    "# This Python 3 environment comes with many helpful analytics libraries installed\n",
    "# It is defined by the kaggle/python Docker image: https://github.com/kaggle/docker-python\n",
    "# For example, here's several helpful packages to load\n",
    "\n",
    "import numpy as np # linear algebra\n",
    "import pandas as pd # data processing, CSV file I/O (e.g. pd.read_csv)\n",
    "\n",
    "# Input data files are available in the read-only \"../input/\" directory\n",
    "# For example, running this (by clicking run or pressing Shift+Enter) will list all files under the input directory\n",
    "\n",
    "import os\n",
    "for dirname, _, filenames in os.walk('/kaggle/input'):\n",
    "    for filename in filenames:\n",
    "        print(os.path.join(dirname, filename))\n",
    "\n",
    "# You can write up to 20GB to the current directory (/kaggle/working/) that gets preserved as output when you create a version using \"Save & Run All\" \n",
    "# You can also write temporary files to /kaggle/temp/, but they won't be saved outside of the current session"
   ]
  },
  {
   "cell_type": "code",
   "execution_count": 2,
   "id": "f71efbdb",
   "metadata": {
    "execution": {
     "iopub.execute_input": "2023-12-25T14:48:30.099275Z",
     "iopub.status.busy": "2023-12-25T14:48:30.098847Z",
     "iopub.status.idle": "2023-12-25T14:48:31.098417Z",
     "shell.execute_reply": "2023-12-25T14:48:31.097445Z"
    },
    "papermill": {
     "duration": 1.020076,
     "end_time": "2023-12-25T14:48:31.100750",
     "exception": false,
     "start_time": "2023-12-25T14:48:30.080674",
     "status": "completed"
    },
    "tags": []
   },
   "outputs": [],
   "source": [
    "data = pd.read_csv('/kaggle/input/loan-default/Loan_default.csv')"
   ]
  },
  {
   "cell_type": "code",
   "execution_count": 3,
   "id": "3cba9c0b",
   "metadata": {
    "execution": {
     "iopub.execute_input": "2023-12-25T14:48:31.137896Z",
     "iopub.status.busy": "2023-12-25T14:48:31.137574Z",
     "iopub.status.idle": "2023-12-25T14:48:31.168619Z",
     "shell.execute_reply": "2023-12-25T14:48:31.167659Z"
    },
    "papermill": {
     "duration": 0.05201,
     "end_time": "2023-12-25T14:48:31.170720",
     "exception": false,
     "start_time": "2023-12-25T14:48:31.118710",
     "status": "completed"
    },
    "tags": []
   },
   "outputs": [
    {
     "data": {
      "text/html": [
       "<div>\n",
       "<style scoped>\n",
       "    .dataframe tbody tr th:only-of-type {\n",
       "        vertical-align: middle;\n",
       "    }\n",
       "\n",
       "    .dataframe tbody tr th {\n",
       "        vertical-align: top;\n",
       "    }\n",
       "\n",
       "    .dataframe thead th {\n",
       "        text-align: right;\n",
       "    }\n",
       "</style>\n",
       "<table border=\"1\" class=\"dataframe\">\n",
       "  <thead>\n",
       "    <tr style=\"text-align: right;\">\n",
       "      <th></th>\n",
       "      <th>LoanID</th>\n",
       "      <th>Age</th>\n",
       "      <th>Income</th>\n",
       "      <th>LoanAmount</th>\n",
       "      <th>CreditScore</th>\n",
       "      <th>MonthsEmployed</th>\n",
       "      <th>NumCreditLines</th>\n",
       "      <th>InterestRate</th>\n",
       "      <th>LoanTerm</th>\n",
       "      <th>DTIRatio</th>\n",
       "      <th>Education</th>\n",
       "      <th>EmploymentType</th>\n",
       "      <th>MaritalStatus</th>\n",
       "      <th>HasMortgage</th>\n",
       "      <th>HasDependents</th>\n",
       "      <th>LoanPurpose</th>\n",
       "      <th>HasCoSigner</th>\n",
       "      <th>Default</th>\n",
       "    </tr>\n",
       "  </thead>\n",
       "  <tbody>\n",
       "    <tr>\n",
       "      <th>0</th>\n",
       "      <td>I38PQUQS96</td>\n",
       "      <td>56</td>\n",
       "      <td>85994</td>\n",
       "      <td>50587</td>\n",
       "      <td>520</td>\n",
       "      <td>80</td>\n",
       "      <td>4</td>\n",
       "      <td>15.23</td>\n",
       "      <td>36</td>\n",
       "      <td>0.44</td>\n",
       "      <td>Bachelor's</td>\n",
       "      <td>Full-time</td>\n",
       "      <td>Divorced</td>\n",
       "      <td>Yes</td>\n",
       "      <td>Yes</td>\n",
       "      <td>Other</td>\n",
       "      <td>Yes</td>\n",
       "      <td>0</td>\n",
       "    </tr>\n",
       "    <tr>\n",
       "      <th>1</th>\n",
       "      <td>HPSK72WA7R</td>\n",
       "      <td>69</td>\n",
       "      <td>50432</td>\n",
       "      <td>124440</td>\n",
       "      <td>458</td>\n",
       "      <td>15</td>\n",
       "      <td>1</td>\n",
       "      <td>4.81</td>\n",
       "      <td>60</td>\n",
       "      <td>0.68</td>\n",
       "      <td>Master's</td>\n",
       "      <td>Full-time</td>\n",
       "      <td>Married</td>\n",
       "      <td>No</td>\n",
       "      <td>No</td>\n",
       "      <td>Other</td>\n",
       "      <td>Yes</td>\n",
       "      <td>0</td>\n",
       "    </tr>\n",
       "    <tr>\n",
       "      <th>2</th>\n",
       "      <td>C1OZ6DPJ8Y</td>\n",
       "      <td>46</td>\n",
       "      <td>84208</td>\n",
       "      <td>129188</td>\n",
       "      <td>451</td>\n",
       "      <td>26</td>\n",
       "      <td>3</td>\n",
       "      <td>21.17</td>\n",
       "      <td>24</td>\n",
       "      <td>0.31</td>\n",
       "      <td>Master's</td>\n",
       "      <td>Unemployed</td>\n",
       "      <td>Divorced</td>\n",
       "      <td>Yes</td>\n",
       "      <td>Yes</td>\n",
       "      <td>Auto</td>\n",
       "      <td>No</td>\n",
       "      <td>1</td>\n",
       "    </tr>\n",
       "    <tr>\n",
       "      <th>3</th>\n",
       "      <td>V2KKSFM3UN</td>\n",
       "      <td>32</td>\n",
       "      <td>31713</td>\n",
       "      <td>44799</td>\n",
       "      <td>743</td>\n",
       "      <td>0</td>\n",
       "      <td>3</td>\n",
       "      <td>7.07</td>\n",
       "      <td>24</td>\n",
       "      <td>0.23</td>\n",
       "      <td>High School</td>\n",
       "      <td>Full-time</td>\n",
       "      <td>Married</td>\n",
       "      <td>No</td>\n",
       "      <td>No</td>\n",
       "      <td>Business</td>\n",
       "      <td>No</td>\n",
       "      <td>0</td>\n",
       "    </tr>\n",
       "    <tr>\n",
       "      <th>4</th>\n",
       "      <td>EY08JDHTZP</td>\n",
       "      <td>60</td>\n",
       "      <td>20437</td>\n",
       "      <td>9139</td>\n",
       "      <td>633</td>\n",
       "      <td>8</td>\n",
       "      <td>4</td>\n",
       "      <td>6.51</td>\n",
       "      <td>48</td>\n",
       "      <td>0.73</td>\n",
       "      <td>Bachelor's</td>\n",
       "      <td>Unemployed</td>\n",
       "      <td>Divorced</td>\n",
       "      <td>No</td>\n",
       "      <td>Yes</td>\n",
       "      <td>Auto</td>\n",
       "      <td>No</td>\n",
       "      <td>0</td>\n",
       "    </tr>\n",
       "    <tr>\n",
       "      <th>...</th>\n",
       "      <td>...</td>\n",
       "      <td>...</td>\n",
       "      <td>...</td>\n",
       "      <td>...</td>\n",
       "      <td>...</td>\n",
       "      <td>...</td>\n",
       "      <td>...</td>\n",
       "      <td>...</td>\n",
       "      <td>...</td>\n",
       "      <td>...</td>\n",
       "      <td>...</td>\n",
       "      <td>...</td>\n",
       "      <td>...</td>\n",
       "      <td>...</td>\n",
       "      <td>...</td>\n",
       "      <td>...</td>\n",
       "      <td>...</td>\n",
       "      <td>...</td>\n",
       "    </tr>\n",
       "    <tr>\n",
       "      <th>255342</th>\n",
       "      <td>8C6S86ESGC</td>\n",
       "      <td>19</td>\n",
       "      <td>37979</td>\n",
       "      <td>210682</td>\n",
       "      <td>541</td>\n",
       "      <td>109</td>\n",
       "      <td>4</td>\n",
       "      <td>14.11</td>\n",
       "      <td>12</td>\n",
       "      <td>0.85</td>\n",
       "      <td>Bachelor's</td>\n",
       "      <td>Full-time</td>\n",
       "      <td>Married</td>\n",
       "      <td>No</td>\n",
       "      <td>No</td>\n",
       "      <td>Other</td>\n",
       "      <td>No</td>\n",
       "      <td>0</td>\n",
       "    </tr>\n",
       "    <tr>\n",
       "      <th>255343</th>\n",
       "      <td>98R4KDHNND</td>\n",
       "      <td>32</td>\n",
       "      <td>51953</td>\n",
       "      <td>189899</td>\n",
       "      <td>511</td>\n",
       "      <td>14</td>\n",
       "      <td>2</td>\n",
       "      <td>11.55</td>\n",
       "      <td>24</td>\n",
       "      <td>0.21</td>\n",
       "      <td>High School</td>\n",
       "      <td>Part-time</td>\n",
       "      <td>Divorced</td>\n",
       "      <td>No</td>\n",
       "      <td>No</td>\n",
       "      <td>Home</td>\n",
       "      <td>No</td>\n",
       "      <td>1</td>\n",
       "    </tr>\n",
       "    <tr>\n",
       "      <th>255344</th>\n",
       "      <td>XQK1UUUNGP</td>\n",
       "      <td>56</td>\n",
       "      <td>84820</td>\n",
       "      <td>208294</td>\n",
       "      <td>597</td>\n",
       "      <td>70</td>\n",
       "      <td>3</td>\n",
       "      <td>5.29</td>\n",
       "      <td>60</td>\n",
       "      <td>0.50</td>\n",
       "      <td>High School</td>\n",
       "      <td>Self-employed</td>\n",
       "      <td>Married</td>\n",
       "      <td>Yes</td>\n",
       "      <td>Yes</td>\n",
       "      <td>Auto</td>\n",
       "      <td>Yes</td>\n",
       "      <td>0</td>\n",
       "    </tr>\n",
       "    <tr>\n",
       "      <th>255345</th>\n",
       "      <td>JAO28CPL4H</td>\n",
       "      <td>42</td>\n",
       "      <td>85109</td>\n",
       "      <td>60575</td>\n",
       "      <td>809</td>\n",
       "      <td>40</td>\n",
       "      <td>1</td>\n",
       "      <td>20.90</td>\n",
       "      <td>48</td>\n",
       "      <td>0.44</td>\n",
       "      <td>High School</td>\n",
       "      <td>Part-time</td>\n",
       "      <td>Single</td>\n",
       "      <td>Yes</td>\n",
       "      <td>Yes</td>\n",
       "      <td>Other</td>\n",
       "      <td>No</td>\n",
       "      <td>0</td>\n",
       "    </tr>\n",
       "    <tr>\n",
       "      <th>255346</th>\n",
       "      <td>ZTH91CGL0B</td>\n",
       "      <td>62</td>\n",
       "      <td>22418</td>\n",
       "      <td>18481</td>\n",
       "      <td>636</td>\n",
       "      <td>113</td>\n",
       "      <td>2</td>\n",
       "      <td>6.73</td>\n",
       "      <td>12</td>\n",
       "      <td>0.48</td>\n",
       "      <td>Bachelor's</td>\n",
       "      <td>Unemployed</td>\n",
       "      <td>Divorced</td>\n",
       "      <td>Yes</td>\n",
       "      <td>No</td>\n",
       "      <td>Education</td>\n",
       "      <td>Yes</td>\n",
       "      <td>0</td>\n",
       "    </tr>\n",
       "  </tbody>\n",
       "</table>\n",
       "<p>255347 rows × 18 columns</p>\n",
       "</div>"
      ],
      "text/plain": [
       "            LoanID  Age  Income  LoanAmount  CreditScore  MonthsEmployed  \\\n",
       "0       I38PQUQS96   56   85994       50587          520              80   \n",
       "1       HPSK72WA7R   69   50432      124440          458              15   \n",
       "2       C1OZ6DPJ8Y   46   84208      129188          451              26   \n",
       "3       V2KKSFM3UN   32   31713       44799          743               0   \n",
       "4       EY08JDHTZP   60   20437        9139          633               8   \n",
       "...            ...  ...     ...         ...          ...             ...   \n",
       "255342  8C6S86ESGC   19   37979      210682          541             109   \n",
       "255343  98R4KDHNND   32   51953      189899          511              14   \n",
       "255344  XQK1UUUNGP   56   84820      208294          597              70   \n",
       "255345  JAO28CPL4H   42   85109       60575          809              40   \n",
       "255346  ZTH91CGL0B   62   22418       18481          636             113   \n",
       "\n",
       "        NumCreditLines  InterestRate  LoanTerm  DTIRatio    Education  \\\n",
       "0                    4         15.23        36      0.44   Bachelor's   \n",
       "1                    1          4.81        60      0.68     Master's   \n",
       "2                    3         21.17        24      0.31     Master's   \n",
       "3                    3          7.07        24      0.23  High School   \n",
       "4                    4          6.51        48      0.73   Bachelor's   \n",
       "...                ...           ...       ...       ...          ...   \n",
       "255342               4         14.11        12      0.85   Bachelor's   \n",
       "255343               2         11.55        24      0.21  High School   \n",
       "255344               3          5.29        60      0.50  High School   \n",
       "255345               1         20.90        48      0.44  High School   \n",
       "255346               2          6.73        12      0.48   Bachelor's   \n",
       "\n",
       "       EmploymentType MaritalStatus HasMortgage HasDependents LoanPurpose  \\\n",
       "0           Full-time      Divorced         Yes           Yes       Other   \n",
       "1           Full-time       Married          No            No       Other   \n",
       "2          Unemployed      Divorced         Yes           Yes        Auto   \n",
       "3           Full-time       Married          No            No    Business   \n",
       "4          Unemployed      Divorced          No           Yes        Auto   \n",
       "...               ...           ...         ...           ...         ...   \n",
       "255342      Full-time       Married          No            No       Other   \n",
       "255343      Part-time      Divorced          No            No        Home   \n",
       "255344  Self-employed       Married         Yes           Yes        Auto   \n",
       "255345      Part-time        Single         Yes           Yes       Other   \n",
       "255346     Unemployed      Divorced         Yes            No   Education   \n",
       "\n",
       "       HasCoSigner  Default  \n",
       "0              Yes        0  \n",
       "1              Yes        0  \n",
       "2               No        1  \n",
       "3               No        0  \n",
       "4               No        0  \n",
       "...            ...      ...  \n",
       "255342          No        0  \n",
       "255343          No        1  \n",
       "255344         Yes        0  \n",
       "255345          No        0  \n",
       "255346         Yes        0  \n",
       "\n",
       "[255347 rows x 18 columns]"
      ]
     },
     "execution_count": 3,
     "metadata": {},
     "output_type": "execute_result"
    }
   ],
   "source": [
    "data"
   ]
  },
  {
   "cell_type": "code",
   "execution_count": 4,
   "id": "8e63871e",
   "metadata": {
    "execution": {
     "iopub.execute_input": "2023-12-25T14:48:31.212542Z",
     "iopub.status.busy": "2023-12-25T14:48:31.211902Z",
     "iopub.status.idle": "2023-12-25T14:48:31.415989Z",
     "shell.execute_reply": "2023-12-25T14:48:31.414957Z"
    },
    "papermill": {
     "duration": 0.22584,
     "end_time": "2023-12-25T14:48:31.418365",
     "exception": false,
     "start_time": "2023-12-25T14:48:31.192525",
     "status": "completed"
    },
    "tags": []
   },
   "outputs": [
    {
     "name": "stdout",
     "output_type": "stream",
     "text": [
      "<class 'pandas.core.frame.DataFrame'>\n",
      "RangeIndex: 255347 entries, 0 to 255346\n",
      "Data columns (total 18 columns):\n",
      " #   Column          Non-Null Count   Dtype  \n",
      "---  ------          --------------   -----  \n",
      " 0   LoanID          255347 non-null  object \n",
      " 1   Age             255347 non-null  int64  \n",
      " 2   Income          255347 non-null  int64  \n",
      " 3   LoanAmount      255347 non-null  int64  \n",
      " 4   CreditScore     255347 non-null  int64  \n",
      " 5   MonthsEmployed  255347 non-null  int64  \n",
      " 6   NumCreditLines  255347 non-null  int64  \n",
      " 7   InterestRate    255347 non-null  float64\n",
      " 8   LoanTerm        255347 non-null  int64  \n",
      " 9   DTIRatio        255347 non-null  float64\n",
      " 10  Education       255347 non-null  object \n",
      " 11  EmploymentType  255347 non-null  object \n",
      " 12  MaritalStatus   255347 non-null  object \n",
      " 13  HasMortgage     255347 non-null  object \n",
      " 14  HasDependents   255347 non-null  object \n",
      " 15  LoanPurpose     255347 non-null  object \n",
      " 16  HasCoSigner     255347 non-null  object \n",
      " 17  Default         255347 non-null  int64  \n",
      "dtypes: float64(2), int64(8), object(8)\n",
      "memory usage: 35.1+ MB\n"
     ]
    }
   ],
   "source": [
    "data.info()"
   ]
  },
  {
   "cell_type": "code",
   "execution_count": 5,
   "id": "c94c4374",
   "metadata": {
    "execution": {
     "iopub.execute_input": "2023-12-25T14:48:31.456339Z",
     "iopub.status.busy": "2023-12-25T14:48:31.455536Z",
     "iopub.status.idle": "2023-12-25T14:48:31.699426Z",
     "shell.execute_reply": "2023-12-25T14:48:31.698523Z"
    },
    "papermill": {
     "duration": 0.26507,
     "end_time": "2023-12-25T14:48:31.701525",
     "exception": false,
     "start_time": "2023-12-25T14:48:31.436455",
     "status": "completed"
    },
    "tags": []
   },
   "outputs": [
    {
     "data": {
      "text/plain": [
       "0"
      ]
     },
     "execution_count": 5,
     "metadata": {},
     "output_type": "execute_result"
    }
   ],
   "source": [
    "#checking for duplicate columns\n",
    "data.duplicated().sum()"
   ]
  },
  {
   "cell_type": "code",
   "execution_count": 6,
   "id": "05891790",
   "metadata": {
    "execution": {
     "iopub.execute_input": "2023-12-25T14:48:31.739478Z",
     "iopub.status.busy": "2023-12-25T14:48:31.738887Z",
     "iopub.status.idle": "2023-12-25T14:48:31.921454Z",
     "shell.execute_reply": "2023-12-25T14:48:31.920458Z"
    },
    "papermill": {
     "duration": 0.203791,
     "end_time": "2023-12-25T14:48:31.923459",
     "exception": false,
     "start_time": "2023-12-25T14:48:31.719668",
     "status": "completed"
    },
    "tags": []
   },
   "outputs": [
    {
     "data": {
      "text/plain": [
       "LoanID            0\n",
       "Age               0\n",
       "Income            0\n",
       "LoanAmount        0\n",
       "CreditScore       0\n",
       "MonthsEmployed    0\n",
       "NumCreditLines    0\n",
       "InterestRate      0\n",
       "LoanTerm          0\n",
       "DTIRatio          0\n",
       "Education         0\n",
       "EmploymentType    0\n",
       "MaritalStatus     0\n",
       "HasMortgage       0\n",
       "HasDependents     0\n",
       "LoanPurpose       0\n",
       "HasCoSigner       0\n",
       "Default           0\n",
       "dtype: int64"
      ]
     },
     "execution_count": 6,
     "metadata": {},
     "output_type": "execute_result"
    }
   ],
   "source": [
    "#checking for the null values\n",
    "data.isnull().sum()"
   ]
  },
  {
   "cell_type": "code",
   "execution_count": 7,
   "id": "05bc24ce",
   "metadata": {
    "execution": {
     "iopub.execute_input": "2023-12-25T14:48:31.961651Z",
     "iopub.status.busy": "2023-12-25T14:48:31.961304Z",
     "iopub.status.idle": "2023-12-25T14:48:32.840621Z",
     "shell.execute_reply": "2023-12-25T14:48:32.839601Z"
    },
    "papermill": {
     "duration": 0.901361,
     "end_time": "2023-12-25T14:48:32.843041",
     "exception": false,
     "start_time": "2023-12-25T14:48:31.941680",
     "status": "completed"
    },
    "tags": []
   },
   "outputs": [
    {
     "name": "stderr",
     "output_type": "stream",
     "text": [
      "/opt/conda/lib/python3.10/site-packages/scipy/__init__.py:146: UserWarning: A NumPy version >=1.16.5 and <1.23.0 is required for this version of SciPy (detected version 1.24.3\n",
      "  warnings.warn(f\"A NumPy version >={np_minversion} and <{np_maxversion}\"\n"
     ]
    }
   ],
   "source": [
    "import seaborn as sns\n",
    "import matplotlib.pyplot as plt"
   ]
  },
  {
   "cell_type": "code",
   "execution_count": 8,
   "id": "c066f913",
   "metadata": {
    "execution": {
     "iopub.execute_input": "2023-12-25T14:48:32.881739Z",
     "iopub.status.busy": "2023-12-25T14:48:32.881307Z",
     "iopub.status.idle": "2023-12-25T14:48:33.989368Z",
     "shell.execute_reply": "2023-12-25T14:48:33.988513Z"
    },
    "papermill": {
     "duration": 1.130173,
     "end_time": "2023-12-25T14:48:33.991672",
     "exception": false,
     "start_time": "2023-12-25T14:48:32.861499",
     "status": "completed"
    },
    "tags": []
   },
   "outputs": [
    {
     "data": {
      "text/plain": [
       "<Axes: >"
      ]
     },
     "execution_count": 8,
     "metadata": {},
     "output_type": "execute_result"
    },
    {
     "data": {
      "image/png": "[encoded data removed]",
      "text/plain": [
       "<Figure size 1200x800 with 1 Axes>"
      ]
     },
     "metadata": {},
     "output_type": "display_data"
    }
   ],
   "source": [
    "#Addressing Outliers\n",
    "plt.figure(figsize=(12,8))\n",
    "sns.boxplot(data)"
   ]
  },
  {
   "cell_type": "code",
   "execution_count": 9,
   "id": "79c25787",
   "metadata": {
    "execution": {
     "iopub.execute_input": "2023-12-25T14:48:34.032322Z",
     "iopub.status.busy": "2023-12-25T14:48:34.031964Z",
     "iopub.status.idle": "2023-12-25T14:48:34.184746Z",
     "shell.execute_reply": "2023-12-25T14:48:34.183842Z"
    },
    "papermill": {
     "duration": 0.176601,
     "end_time": "2023-12-25T14:48:34.187966",
     "exception": false,
     "start_time": "2023-12-25T14:48:34.011365",
     "status": "completed"
    },
    "tags": []
   },
   "outputs": [
    {
     "data": {
      "text/plain": [
       "<Axes: xlabel='Default', ylabel='count'>"
      ]
     },
     "execution_count": 9,
     "metadata": {},
     "output_type": "execute_result"
    },
    {
     "data": {
      "image/png": "[encoded data removed]",
      "text/plain": [
       "<Figure size 640x480 with 1 Axes>"
      ]
     },
     "metadata": {},
     "output_type": "display_data"
    }
   ],
   "source": [
    "sns.countplot(data=data, x = 'Default')"
   ]
  },
  {
   "cell_type": "code",
   "execution_count": 10,
   "id": "9daaf515",
   "metadata": {
    "execution": {
     "iopub.execute_input": "2023-12-25T14:48:34.270935Z",
     "iopub.status.busy": "2023-12-25T14:48:34.270588Z",
     "iopub.status.idle": "2023-12-25T14:48:34.924521Z",
     "shell.execute_reply": "2023-12-25T14:48:34.923474Z"
    },
    "papermill": {
     "duration": 0.720301,
     "end_time": "2023-12-25T14:48:34.927486",
     "exception": false,
     "start_time": "2023-12-25T14:48:34.207185",
     "status": "completed"
    },
    "tags": []
   },
   "outputs": [
    {
     "name": "stderr",
     "output_type": "stream",
     "text": [
      "/opt/conda/lib/python3.10/site-packages/seaborn/_oldcore.py:1119: FutureWarning: use_inf_as_na option is deprecated and will be removed in a future version. Convert inf values to NaN before operating instead.\n",
      "  with pd.option_context('mode.use_inf_as_na', True):\n"
     ]
    },
    {
     "data": {
      "text/plain": [
       "<seaborn.axisgrid.FacetGrid at 0x7d48d313eb60>"
      ]
     },
     "execution_count": 10,
     "metadata": {},
     "output_type": "execute_result"
    },
    {
     "data": {
      "text/plain": [
       "<Figure size 1000x800 with 0 Axes>"
      ]
     },
     "metadata": {},
     "output_type": "display_data"
    },
    {
     "data": {
      "image/png": "[encoded data removed]",
      "text/plain": [
       "<Figure size 500x500 with 1 Axes>"
      ]
     },
     "metadata": {},
     "output_type": "display_data"
    }
   ],
   "source": [
    "plt.figure(figsize=(10,8))\n",
    "sns.displot(data['Age'])"
   ]
  },
  {
   "cell_type": "code",
   "execution_count": 11,
   "id": "07cd661c",
   "metadata": {
    "execution": {
     "iopub.execute_input": "2023-12-25T14:48:34.981468Z",
     "iopub.status.busy": "2023-12-25T14:48:34.981041Z",
     "iopub.status.idle": "2023-12-25T14:48:35.777331Z",
     "shell.execute_reply": "2023-12-25T14:48:35.776418Z"
    },
    "papermill": {
     "duration": 0.82476,
     "end_time": "2023-12-25T14:48:35.779721",
     "exception": false,
     "start_time": "2023-12-25T14:48:34.954961",
     "status": "completed"
    },
    "tags": []
   },
   "outputs": [
    {
     "name": "stderr",
     "output_type": "stream",
     "text": [
      "/opt/conda/lib/python3.10/site-packages/seaborn/_oldcore.py:1119: FutureWarning: use_inf_as_na option is deprecated and will be removed in a future version. Convert inf values to NaN before operating instead.\n",
      "  with pd.option_context('mode.use_inf_as_na', True):\n"
     ]
    },
    {
     "data": {
      "text/plain": [
       "<seaborn.axisgrid.FacetGrid at 0x7d48d3182260>"
      ]
     },
     "execution_count": 11,
     "metadata": {},
     "output_type": "execute_result"
    },
    {
     "data": {
      "text/plain": [
       "<Figure size 1000x800 with 0 Axes>"
      ]
     },
     "metadata": {},
     "output_type": "display_data"
    },
    {
     "data": {
      "image/png": "[encoded data removed]",
      "text/plain": [
       "<Figure size 500x500 with 1 Axes>"
      ]
     },
     "metadata": {},
     "output_type": "display_data"
    }
   ],
   "source": [
    "plt.figure(figsize=(10,8))\n",
    "sns.displot(data['Income'])"
   ]
  },
  {
   "cell_type": "code",
   "execution_count": 12,
   "id": "376b3b66",
   "metadata": {
    "execution": {
     "iopub.execute_input": "2023-12-25T14:48:35.828646Z",
     "iopub.status.busy": "2023-12-25T14:48:35.827951Z",
     "iopub.status.idle": "2023-12-25T14:48:36.617351Z",
     "shell.execute_reply": "2023-12-25T14:48:36.616514Z"
    },
    "papermill": {
     "duration": 0.815833,
     "end_time": "2023-12-25T14:48:36.619330",
     "exception": false,
     "start_time": "2023-12-25T14:48:35.803497",
     "status": "completed"
    },
    "tags": []
   },
   "outputs": [
    {
     "name": "stderr",
     "output_type": "stream",
     "text": [
      "/opt/conda/lib/python3.10/site-packages/seaborn/_oldcore.py:1119: FutureWarning: use_inf_as_na option is deprecated and will be removed in a future version. Convert inf values to NaN before operating instead.\n",
      "  with pd.option_context('mode.use_inf_as_na', True):\n"
     ]
    },
    {
     "data": {
      "text/plain": [
       "<seaborn.axisgrid.FacetGrid at 0x7d48d3152710>"
      ]
     },
     "execution_count": 12,
     "metadata": {},
     "output_type": "execute_result"
    },
    {
     "data": {
      "text/plain": [
       "<Figure size 1000x800 with 0 Axes>"
      ]
     },
     "metadata": {},
     "output_type": "display_data"
    },
    {
     "data": {
      "image/png": "[encoded data removed]",
      "text/plain": [
       "<Figure size 500x500 with 1 Axes>"
      ]
     },
     "metadata": {},
     "output_type": "display_data"
    }
   ],
   "source": [
    "plt.figure(figsize=(10,8))\n",
    "sns.displot(data['LoanAmount'])"
   ]
  },
  {
   "cell_type": "code",
   "execution_count": 13,
   "id": "a54c9f3e",
   "metadata": {
    "execution": {
     "iopub.execute_input": "2023-12-25T14:48:36.663345Z",
     "iopub.status.busy": "2023-12-25T14:48:36.662999Z",
     "iopub.status.idle": "2023-12-25T14:48:36.920729Z",
     "shell.execute_reply": "2023-12-25T14:48:36.919867Z"
    },
    "papermill": {
     "duration": 0.281724,
     "end_time": "2023-12-25T14:48:36.922689",
     "exception": false,
     "start_time": "2023-12-25T14:48:36.640965",
     "status": "completed"
    },
    "tags": []
   },
   "outputs": [
    {
     "data": {
      "text/plain": [
       "<Axes: xlabel='NumCreditLines', ylabel='count'>"
      ]
     },
     "execution_count": 13,
     "metadata": {},
     "output_type": "execute_result"
    },
    {
     "data": {
      "image/png": "[encoded data removed]",
      "text/plain": [
       "<Figure size 1000x800 with 1 Axes>"
      ]
     },
     "metadata": {},
     "output_type": "display_data"
    }
   ],
   "source": [
    "plt.figure(figsize=(10,8))\n",
    "sns.countplot(data=data, x='NumCreditLines', hue='Default')"
   ]
  },
  {
   "cell_type": "code",
   "execution_count": 14,
   "id": "610def66",
   "metadata": {
    "execution": {
     "iopub.execute_input": "2023-12-25T14:48:36.966698Z",
     "iopub.status.busy": "2023-12-25T14:48:36.966414Z",
     "iopub.status.idle": "2023-12-25T14:48:37.473867Z",
     "shell.execute_reply": "2023-12-25T14:48:37.472986Z"
    },
    "papermill": {
     "duration": 0.531739,
     "end_time": "2023-12-25T14:48:37.475996",
     "exception": false,
     "start_time": "2023-12-25T14:48:36.944257",
     "status": "completed"
    },
    "tags": []
   },
   "outputs": [
    {
     "data": {
      "text/plain": [
       "<Axes: xlabel='EmploymentType', ylabel='count'>"
      ]
     },
     "execution_count": 14,
     "metadata": {},
     "output_type": "execute_result"
    },
    {
     "data": {
      "image/png": "[encoded data removed]",
      "text/plain": [
       "<Figure size 1000x600 with 1 Axes>"
      ]
     },
     "metadata": {},
     "output_type": "display_data"
    }
   ],
   "source": [
    "plt.figure(figsize = (10,6))\n",
    "sns.countplot(data=data, x='EmploymentType', hue='Default')"
   ]
  },
  {
   "cell_type": "code",
   "execution_count": 15,
   "id": "ff259c03",
   "metadata": {
    "execution": {
     "iopub.execute_input": "2023-12-25T14:48:37.521431Z",
     "iopub.status.busy": "2023-12-25T14:48:37.520879Z",
     "iopub.status.idle": "2023-12-25T14:48:38.097584Z",
     "shell.execute_reply": "2023-12-25T14:48:38.096538Z"
    },
    "papermill": {
     "duration": 0.601459,
     "end_time": "2023-12-25T14:48:38.099686",
     "exception": false,
     "start_time": "2023-12-25T14:48:37.498227",
     "status": "completed"
    },
    "tags": []
   },
   "outputs": [
    {
     "data": {
      "text/plain": [
       "<Axes: xlabel='LoanPurpose', ylabel='count'>"
      ]
     },
     "execution_count": 15,
     "metadata": {},
     "output_type": "execute_result"
    },
    {
     "data": {
      "image/png": "[encoded data removed]",
      "text/plain": [
       "<Figure size 1000x600 with 1 Axes>"
      ]
     },
     "metadata": {},
     "output_type": "display_data"
    }
   ],
   "source": [
    "plt.figure(figsize = (10,6))\n",
    "sns.countplot(data=data, x='LoanPurpose', hue='Default')"
   ]
  },
  {
   "cell_type": "code",
   "execution_count": 16,
   "id": "047a7a14",
   "metadata": {
    "execution": {
     "iopub.execute_input": "2023-12-25T14:48:38.148790Z",
     "iopub.status.busy": "2023-12-25T14:48:38.148167Z",
     "iopub.status.idle": "2023-12-25T14:48:38.676767Z",
     "shell.execute_reply": "2023-12-25T14:48:38.675894Z"
    },
    "papermill": {
     "duration": 0.555296,
     "end_time": "2023-12-25T14:48:38.678955",
     "exception": false,
     "start_time": "2023-12-25T14:48:38.123659",
     "status": "completed"
    },
    "tags": []
   },
   "outputs": [
    {
     "data": {
      "text/plain": [
       "<Axes: xlabel='HasMortgage', ylabel='count'>"
      ]
     },
     "execution_count": 16,
     "metadata": {},
     "output_type": "execute_result"
    },
    {
     "data": {
      "image/png": "[encoded data removed]",
      "text/plain": [
       "<Figure size 1000x600 with 1 Axes>"
      ]
     },
     "metadata": {},
     "output_type": "display_data"
    }
   ],
   "source": [
    "plt.figure(figsize = (10,6))\n",
    "sns.countplot(data=data, x='HasMortgage', hue='Default')"
   ]
  },
  {
   "cell_type": "code",
   "execution_count": 17,
   "id": "a12b34b5",
   "metadata": {
    "execution": {
     "iopub.execute_input": "2023-12-25T14:48:38.727188Z",
     "iopub.status.busy": "2023-12-25T14:48:38.726443Z",
     "iopub.status.idle": "2023-12-25T14:48:38.817326Z",
     "shell.execute_reply": "2023-12-25T14:48:38.816306Z"
    },
    "papermill": {
     "duration": 0.117924,
     "end_time": "2023-12-25T14:48:38.819821",
     "exception": false,
     "start_time": "2023-12-25T14:48:38.701897",
     "status": "completed"
    },
    "tags": []
   },
   "outputs": [],
   "source": [
    "corr = data.select_dtypes(['int64','float64']).corr()"
   ]
  },
  {
   "cell_type": "code",
   "execution_count": 18,
   "id": "5ed4345f",
   "metadata": {
    "execution": {
     "iopub.execute_input": "2023-12-25T14:48:38.869649Z",
     "iopub.status.busy": "2023-12-25T14:48:38.868787Z",
     "iopub.status.idle": "2023-12-25T14:48:39.556806Z",
     "shell.execute_reply": "2023-12-25T14:48:39.555887Z"
    },
    "papermill": {
     "duration": 0.714782,
     "end_time": "2023-12-25T14:48:39.559206",
     "exception": false,
     "start_time": "2023-12-25T14:48:38.844424",
     "status": "completed"
    },
    "tags": []
   },
   "outputs": [
    {
     "data": {
      "text/plain": [
       "<Axes: >"
      ]
     },
     "execution_count": 18,
     "metadata": {},
     "output_type": "execute_result"
    },
    {
     "data": {
      "image/png": "[encoded data removed]",
      "text/plain": [
       "<Figure size 1000x800 with 2 Axes>"
      ]
     },
     "metadata": {},
     "output_type": "display_data"
    }
   ],
   "source": [
    "plt.figure(figsize=(10,8))\n",
    "sns.heatmap(data=corr, annot=True)"
   ]
  },
  {
   "cell_type": "code",
   "execution_count": 19,
   "id": "b57f1555",
   "metadata": {
    "execution": {
     "iopub.execute_input": "2023-12-25T14:48:39.609796Z",
     "iopub.status.busy": "2023-12-25T14:48:39.609479Z",
     "iopub.status.idle": "2023-12-25T14:48:39.627136Z",
     "shell.execute_reply": "2023-12-25T14:48:39.626303Z"
    },
    "papermill": {
     "duration": 0.044917,
     "end_time": "2023-12-25T14:48:39.629069",
     "exception": false,
     "start_time": "2023-12-25T14:48:39.584152",
     "status": "completed"
    },
    "tags": []
   },
   "outputs": [
    {
     "data": {
      "text/html": [
       "<div>\n",
       "<style scoped>\n",
       "    .dataframe tbody tr th:only-of-type {\n",
       "        vertical-align: middle;\n",
       "    }\n",
       "\n",
       "    .dataframe tbody tr th {\n",
       "        vertical-align: top;\n",
       "    }\n",
       "\n",
       "    .dataframe thead th {\n",
       "        text-align: right;\n",
       "    }\n",
       "</style>\n",
       "<table border=\"1\" class=\"dataframe\">\n",
       "  <thead>\n",
       "    <tr style=\"text-align: right;\">\n",
       "      <th></th>\n",
       "      <th>Age</th>\n",
       "      <th>Income</th>\n",
       "      <th>LoanAmount</th>\n",
       "      <th>CreditScore</th>\n",
       "      <th>MonthsEmployed</th>\n",
       "      <th>NumCreditLines</th>\n",
       "      <th>InterestRate</th>\n",
       "      <th>LoanTerm</th>\n",
       "      <th>DTIRatio</th>\n",
       "      <th>Default</th>\n",
       "    </tr>\n",
       "  </thead>\n",
       "  <tbody>\n",
       "    <tr>\n",
       "      <th>Age</th>\n",
       "      <td>1.000000</td>\n",
       "      <td>-0.001244</td>\n",
       "      <td>-0.002213</td>\n",
       "      <td>-0.000548</td>\n",
       "      <td>-0.000341</td>\n",
       "      <td>-0.000890</td>\n",
       "      <td>-0.001127</td>\n",
       "      <td>0.000263</td>\n",
       "      <td>-0.004689</td>\n",
       "      <td>-0.167783</td>\n",
       "    </tr>\n",
       "    <tr>\n",
       "      <th>Income</th>\n",
       "      <td>-0.001244</td>\n",
       "      <td>1.000000</td>\n",
       "      <td>-0.000865</td>\n",
       "      <td>-0.001430</td>\n",
       "      <td>0.002675</td>\n",
       "      <td>-0.002016</td>\n",
       "      <td>-0.002303</td>\n",
       "      <td>-0.000998</td>\n",
       "      <td>0.000205</td>\n",
       "      <td>-0.099119</td>\n",
       "    </tr>\n",
       "    <tr>\n",
       "      <th>LoanAmount</th>\n",
       "      <td>-0.002213</td>\n",
       "      <td>-0.000865</td>\n",
       "      <td>1.000000</td>\n",
       "      <td>0.001261</td>\n",
       "      <td>0.002817</td>\n",
       "      <td>0.000794</td>\n",
       "      <td>-0.002291</td>\n",
       "      <td>0.002538</td>\n",
       "      <td>0.001122</td>\n",
       "      <td>0.086659</td>\n",
       "    </tr>\n",
       "    <tr>\n",
       "      <th>CreditScore</th>\n",
       "      <td>-0.000548</td>\n",
       "      <td>-0.001430</td>\n",
       "      <td>0.001261</td>\n",
       "      <td>1.000000</td>\n",
       "      <td>0.000613</td>\n",
       "      <td>0.000016</td>\n",
       "      <td>0.000436</td>\n",
       "      <td>0.001130</td>\n",
       "      <td>-0.001039</td>\n",
       "      <td>-0.034166</td>\n",
       "    </tr>\n",
       "    <tr>\n",
       "      <th>MonthsEmployed</th>\n",
       "      <td>-0.000341</td>\n",
       "      <td>0.002675</td>\n",
       "      <td>0.002817</td>\n",
       "      <td>0.000613</td>\n",
       "      <td>1.000000</td>\n",
       "      <td>0.001267</td>\n",
       "      <td>0.000096</td>\n",
       "      <td>-0.001166</td>\n",
       "      <td>0.001765</td>\n",
       "      <td>-0.097374</td>\n",
       "    </tr>\n",
       "    <tr>\n",
       "      <th>NumCreditLines</th>\n",
       "      <td>-0.000890</td>\n",
       "      <td>-0.002016</td>\n",
       "      <td>0.000794</td>\n",
       "      <td>0.000016</td>\n",
       "      <td>0.001267</td>\n",
       "      <td>1.000000</td>\n",
       "      <td>-0.000297</td>\n",
       "      <td>-0.000226</td>\n",
       "      <td>-0.000586</td>\n",
       "      <td>0.028330</td>\n",
       "    </tr>\n",
       "    <tr>\n",
       "      <th>InterestRate</th>\n",
       "      <td>-0.001127</td>\n",
       "      <td>-0.002303</td>\n",
       "      <td>-0.002291</td>\n",
       "      <td>0.000436</td>\n",
       "      <td>0.000096</td>\n",
       "      <td>-0.000297</td>\n",
       "      <td>1.000000</td>\n",
       "      <td>0.000892</td>\n",
       "      <td>0.000575</td>\n",
       "      <td>0.131273</td>\n",
       "    </tr>\n",
       "    <tr>\n",
       "      <th>LoanTerm</th>\n",
       "      <td>0.000263</td>\n",
       "      <td>-0.000998</td>\n",
       "      <td>0.002538</td>\n",
       "      <td>0.001130</td>\n",
       "      <td>-0.001166</td>\n",
       "      <td>-0.000226</td>\n",
       "      <td>0.000892</td>\n",
       "      <td>1.000000</td>\n",
       "      <td>0.002273</td>\n",
       "      <td>0.000545</td>\n",
       "    </tr>\n",
       "    <tr>\n",
       "      <th>DTIRatio</th>\n",
       "      <td>-0.004689</td>\n",
       "      <td>0.000205</td>\n",
       "      <td>0.001122</td>\n",
       "      <td>-0.001039</td>\n",
       "      <td>0.001765</td>\n",
       "      <td>-0.000586</td>\n",
       "      <td>0.000575</td>\n",
       "      <td>0.002273</td>\n",
       "      <td>1.000000</td>\n",
       "      <td>0.019236</td>\n",
       "    </tr>\n",
       "    <tr>\n",
       "      <th>Default</th>\n",
       "      <td>-0.167783</td>\n",
       "      <td>-0.099119</td>\n",
       "      <td>0.086659</td>\n",
       "      <td>-0.034166</td>\n",
       "      <td>-0.097374</td>\n",
       "      <td>0.028330</td>\n",
       "      <td>0.131273</td>\n",
       "      <td>0.000545</td>\n",
       "      <td>0.019236</td>\n",
       "      <td>1.000000</td>\n",
       "    </tr>\n",
       "  </tbody>\n",
       "</table>\n",
       "</div>"
      ],
      "text/plain": [
       "                     Age    Income  LoanAmount  CreditScore  MonthsEmployed  \\\n",
       "Age             1.000000 -0.001244   -0.002213    -0.000548       -0.000341   \n",
       "Income         -0.001244  1.000000   -0.000865    -0.001430        0.002675   \n",
       "LoanAmount     -0.002213 -0.000865    1.000000     0.001261        0.002817   \n",
       "CreditScore    -0.000548 -0.001430    0.001261     1.000000        0.000613   \n",
       "MonthsEmployed -0.000341  0.002675    0.002817     0.000613        1.000000   \n",
       "NumCreditLines -0.000890 -0.002016    0.000794     0.000016        0.001267   \n",
       "InterestRate   -0.001127 -0.002303   -0.002291     0.000436        0.000096   \n",
       "LoanTerm        0.000263 -0.000998    0.002538     0.001130       -0.001166   \n",
       "DTIRatio       -0.004689  0.000205    0.001122    -0.001039        0.001765   \n",
       "Default        -0.167783 -0.099119    0.086659    -0.034166       -0.097374   \n",
       "\n",
       "                NumCreditLines  InterestRate  LoanTerm  DTIRatio   Default  \n",
       "Age                  -0.000890     -0.001127  0.000263 -0.004689 -0.167783  \n",
       "Income               -0.002016     -0.002303 -0.000998  0.000205 -0.099119  \n",
       "LoanAmount            0.000794     -0.002291  0.002538  0.001122  0.086659  \n",
       "CreditScore           0.000016      0.000436  0.001130 -0.001039 -0.034166  \n",
       "MonthsEmployed        0.001267      0.000096 -0.001166  0.001765 -0.097374  \n",
       "NumCreditLines        1.000000     -0.000297 -0.000226 -0.000586  0.028330  \n",
       "InterestRate         -0.000297      1.000000  0.000892  0.000575  0.131273  \n",
       "LoanTerm             -0.000226      0.000892  1.000000  0.002273  0.000545  \n",
       "DTIRatio             -0.000586      0.000575  0.002273  1.000000  0.019236  \n",
       "Default               0.028330      0.131273  0.000545  0.019236  1.000000  "
      ]
     },
     "execution_count": 19,
     "metadata": {},
     "output_type": "execute_result"
    }
   ],
   "source": [
    "corr"
   ]
  },
  {
   "cell_type": "code",
   "execution_count": 20,
   "id": "50f696d6",
   "metadata": {
    "execution": {
     "iopub.execute_input": "2023-12-25T14:48:39.680224Z",
     "iopub.status.busy": "2023-12-25T14:48:39.679478Z",
     "iopub.status.idle": "2023-12-25T14:48:39.715293Z",
     "shell.execute_reply": "2023-12-25T14:48:39.714203Z"
    },
    "papermill": {
     "duration": 0.064114,
     "end_time": "2023-12-25T14:48:39.717743",
     "exception": false,
     "start_time": "2023-12-25T14:48:39.653629",
     "status": "completed"
    },
    "tags": []
   },
   "outputs": [],
   "source": [
    "data.drop(['LoanID', 'Education', 'MaritalStatus','LoanTerm'],axis=1, inplace=True)"
   ]
  },
  {
   "cell_type": "code",
   "execution_count": 21,
   "id": "b600f650",
   "metadata": {
    "execution": {
     "iopub.execute_input": "2023-12-25T14:48:39.769571Z",
     "iopub.status.busy": "2023-12-25T14:48:39.769276Z",
     "iopub.status.idle": "2023-12-25T14:48:39.790588Z",
     "shell.execute_reply": "2023-12-25T14:48:39.789885Z"
    },
    "papermill": {
     "duration": 0.048977,
     "end_time": "2023-12-25T14:48:39.792532",
     "exception": false,
     "start_time": "2023-12-25T14:48:39.743555",
     "status": "completed"
    },
    "tags": []
   },
   "outputs": [],
   "source": [
    "X = data.drop(['Default'], axis=1)\n",
    "y = data['Default']"
   ]
  },
  {
   "cell_type": "code",
   "execution_count": 22,
   "id": "71b1cffb",
   "metadata": {
    "execution": {
     "iopub.execute_input": "2023-12-25T14:48:39.843124Z",
     "iopub.status.busy": "2023-12-25T14:48:39.842589Z",
     "iopub.status.idle": "2023-12-25T14:48:40.040411Z",
     "shell.execute_reply": "2023-12-25T14:48:40.039460Z"
    },
    "papermill": {
     "duration": 0.225755,
     "end_time": "2023-12-25T14:48:40.042829",
     "exception": false,
     "start_time": "2023-12-25T14:48:39.817074",
     "status": "completed"
    },
    "tags": []
   },
   "outputs": [],
   "source": [
    "from sklearn.model_selection import train_test_split"
   ]
  },
  {
   "cell_type": "code",
   "execution_count": 23,
   "id": "4dd094f9",
   "metadata": {
    "execution": {
     "iopub.execute_input": "2023-12-25T14:48:40.097560Z",
     "iopub.status.busy": "2023-12-25T14:48:40.097277Z",
     "iopub.status.idle": "2023-12-25T14:48:40.191537Z",
     "shell.execute_reply": "2023-12-25T14:48:40.190785Z"
    },
    "papermill": {
     "duration": 0.124678,
     "end_time": "2023-12-25T14:48:40.193957",
     "exception": false,
     "start_time": "2023-12-25T14:48:40.069279",
     "status": "completed"
    },
    "tags": []
   },
   "outputs": [],
   "source": [
    "X_train, X_test, y_train, y_test = train_test_split(X, y, random_state = 123, test_size=0.30)"
   ]
  },
  {
   "cell_type": "code",
   "execution_count": 24,
   "id": "860b6832",
   "metadata": {
    "execution": {
     "iopub.execute_input": "2023-12-25T14:48:40.245500Z",
     "iopub.status.busy": "2023-12-25T14:48:40.245199Z",
     "iopub.status.idle": "2023-12-25T14:48:40.264352Z",
     "shell.execute_reply": "2023-12-25T14:48:40.263462Z"
    },
    "papermill": {
     "duration": 0.046585,
     "end_time": "2023-12-25T14:48:40.266401",
     "exception": false,
     "start_time": "2023-12-25T14:48:40.219816",
     "status": "completed"
    },
    "tags": []
   },
   "outputs": [
    {
     "data": {
      "text/html": [
       "<div>\n",
       "<style scoped>\n",
       "    .dataframe tbody tr th:only-of-type {\n",
       "        vertical-align: middle;\n",
       "    }\n",
       "\n",
       "    .dataframe tbody tr th {\n",
       "        vertical-align: top;\n",
       "    }\n",
       "\n",
       "    .dataframe thead th {\n",
       "        text-align: right;\n",
       "    }\n",
       "</style>\n",
       "<table border=\"1\" class=\"dataframe\">\n",
       "  <thead>\n",
       "    <tr style=\"text-align: right;\">\n",
       "      <th></th>\n",
       "      <th>Age</th>\n",
       "      <th>Income</th>\n",
       "      <th>LoanAmount</th>\n",
       "      <th>CreditScore</th>\n",
       "      <th>MonthsEmployed</th>\n",
       "      <th>NumCreditLines</th>\n",
       "      <th>InterestRate</th>\n",
       "      <th>DTIRatio</th>\n",
       "      <th>EmploymentType</th>\n",
       "      <th>HasMortgage</th>\n",
       "      <th>HasDependents</th>\n",
       "      <th>LoanPurpose</th>\n",
       "      <th>HasCoSigner</th>\n",
       "    </tr>\n",
       "  </thead>\n",
       "  <tbody>\n",
       "    <tr>\n",
       "      <th>67000</th>\n",
       "      <td>30</td>\n",
       "      <td>98335</td>\n",
       "      <td>77792</td>\n",
       "      <td>608</td>\n",
       "      <td>36</td>\n",
       "      <td>3</td>\n",
       "      <td>18.95</td>\n",
       "      <td>0.21</td>\n",
       "      <td>Unemployed</td>\n",
       "      <td>No</td>\n",
       "      <td>No</td>\n",
       "      <td>Business</td>\n",
       "      <td>Yes</td>\n",
       "    </tr>\n",
       "    <tr>\n",
       "      <th>139945</th>\n",
       "      <td>46</td>\n",
       "      <td>69994</td>\n",
       "      <td>27119</td>\n",
       "      <td>373</td>\n",
       "      <td>38</td>\n",
       "      <td>3</td>\n",
       "      <td>2.18</td>\n",
       "      <td>0.12</td>\n",
       "      <td>Full-time</td>\n",
       "      <td>Yes</td>\n",
       "      <td>No</td>\n",
       "      <td>Education</td>\n",
       "      <td>No</td>\n",
       "    </tr>\n",
       "    <tr>\n",
       "      <th>54147</th>\n",
       "      <td>29</td>\n",
       "      <td>69456</td>\n",
       "      <td>154928</td>\n",
       "      <td>650</td>\n",
       "      <td>102</td>\n",
       "      <td>4</td>\n",
       "      <td>6.84</td>\n",
       "      <td>0.38</td>\n",
       "      <td>Part-time</td>\n",
       "      <td>No</td>\n",
       "      <td>No</td>\n",
       "      <td>Home</td>\n",
       "      <td>Yes</td>\n",
       "    </tr>\n",
       "    <tr>\n",
       "      <th>14329</th>\n",
       "      <td>38</td>\n",
       "      <td>134766</td>\n",
       "      <td>215183</td>\n",
       "      <td>468</td>\n",
       "      <td>104</td>\n",
       "      <td>4</td>\n",
       "      <td>17.03</td>\n",
       "      <td>0.41</td>\n",
       "      <td>Self-employed</td>\n",
       "      <td>No</td>\n",
       "      <td>No</td>\n",
       "      <td>Education</td>\n",
       "      <td>No</td>\n",
       "    </tr>\n",
       "    <tr>\n",
       "      <th>16219</th>\n",
       "      <td>44</td>\n",
       "      <td>67044</td>\n",
       "      <td>132672</td>\n",
       "      <td>711</td>\n",
       "      <td>56</td>\n",
       "      <td>4</td>\n",
       "      <td>4.02</td>\n",
       "      <td>0.87</td>\n",
       "      <td>Full-time</td>\n",
       "      <td>Yes</td>\n",
       "      <td>No</td>\n",
       "      <td>Home</td>\n",
       "      <td>No</td>\n",
       "    </tr>\n",
       "    <tr>\n",
       "      <th>...</th>\n",
       "      <td>...</td>\n",
       "      <td>...</td>\n",
       "      <td>...</td>\n",
       "      <td>...</td>\n",
       "      <td>...</td>\n",
       "      <td>...</td>\n",
       "      <td>...</td>\n",
       "      <td>...</td>\n",
       "      <td>...</td>\n",
       "      <td>...</td>\n",
       "      <td>...</td>\n",
       "      <td>...</td>\n",
       "      <td>...</td>\n",
       "    </tr>\n",
       "    <tr>\n",
       "      <th>192476</th>\n",
       "      <td>27</td>\n",
       "      <td>136956</td>\n",
       "      <td>24738</td>\n",
       "      <td>682</td>\n",
       "      <td>93</td>\n",
       "      <td>4</td>\n",
       "      <td>18.32</td>\n",
       "      <td>0.18</td>\n",
       "      <td>Self-employed</td>\n",
       "      <td>No</td>\n",
       "      <td>Yes</td>\n",
       "      <td>Auto</td>\n",
       "      <td>Yes</td>\n",
       "    </tr>\n",
       "    <tr>\n",
       "      <th>17730</th>\n",
       "      <td>28</td>\n",
       "      <td>42270</td>\n",
       "      <td>202156</td>\n",
       "      <td>360</td>\n",
       "      <td>5</td>\n",
       "      <td>2</td>\n",
       "      <td>2.10</td>\n",
       "      <td>0.56</td>\n",
       "      <td>Unemployed</td>\n",
       "      <td>Yes</td>\n",
       "      <td>No</td>\n",
       "      <td>Education</td>\n",
       "      <td>Yes</td>\n",
       "    </tr>\n",
       "    <tr>\n",
       "      <th>28030</th>\n",
       "      <td>67</td>\n",
       "      <td>28454</td>\n",
       "      <td>59858</td>\n",
       "      <td>336</td>\n",
       "      <td>20</td>\n",
       "      <td>1</td>\n",
       "      <td>5.32</td>\n",
       "      <td>0.40</td>\n",
       "      <td>Unemployed</td>\n",
       "      <td>Yes</td>\n",
       "      <td>No</td>\n",
       "      <td>Education</td>\n",
       "      <td>Yes</td>\n",
       "    </tr>\n",
       "    <tr>\n",
       "      <th>15725</th>\n",
       "      <td>38</td>\n",
       "      <td>114277</td>\n",
       "      <td>61440</td>\n",
       "      <td>644</td>\n",
       "      <td>42</td>\n",
       "      <td>3</td>\n",
       "      <td>18.87</td>\n",
       "      <td>0.20</td>\n",
       "      <td>Unemployed</td>\n",
       "      <td>No</td>\n",
       "      <td>Yes</td>\n",
       "      <td>Business</td>\n",
       "      <td>Yes</td>\n",
       "    </tr>\n",
       "    <tr>\n",
       "      <th>249342</th>\n",
       "      <td>49</td>\n",
       "      <td>73360</td>\n",
       "      <td>126114</td>\n",
       "      <td>481</td>\n",
       "      <td>4</td>\n",
       "      <td>4</td>\n",
       "      <td>12.99</td>\n",
       "      <td>0.43</td>\n",
       "      <td>Unemployed</td>\n",
       "      <td>Yes</td>\n",
       "      <td>No</td>\n",
       "      <td>Business</td>\n",
       "      <td>No</td>\n",
       "    </tr>\n",
       "  </tbody>\n",
       "</table>\n",
       "<p>178742 rows × 13 columns</p>\n",
       "</div>"
      ],
      "text/plain": [
       "        Age  Income  LoanAmount  CreditScore  MonthsEmployed  NumCreditLines  \\\n",
       "67000    30   98335       77792          608              36               3   \n",
       "139945   46   69994       27119          373              38               3   \n",
       "54147    29   69456      154928          650             102               4   \n",
       "14329    38  134766      215183          468             104               4   \n",
       "16219    44   67044      132672          711              56               4   \n",
       "...     ...     ...         ...          ...             ...             ...   \n",
       "192476   27  136956       24738          682              93               4   \n",
       "17730    28   42270      202156          360               5               2   \n",
       "28030    67   28454       59858          336              20               1   \n",
       "15725    38  114277       61440          644              42               3   \n",
       "249342   49   73360      126114          481               4               4   \n",
       "\n",
       "        InterestRate  DTIRatio EmploymentType HasMortgage HasDependents  \\\n",
       "67000          18.95      0.21     Unemployed          No            No   \n",
       "139945          2.18      0.12      Full-time         Yes            No   \n",
       "54147           6.84      0.38      Part-time          No            No   \n",
       "14329          17.03      0.41  Self-employed          No            No   \n",
       "16219           4.02      0.87      Full-time         Yes            No   \n",
       "...              ...       ...            ...         ...           ...   \n",
       "192476         18.32      0.18  Self-employed          No           Yes   \n",
       "17730           2.10      0.56     Unemployed         Yes            No   \n",
       "28030           5.32      0.40     Unemployed         Yes            No   \n",
       "15725          18.87      0.20     Unemployed          No           Yes   \n",
       "249342         12.99      0.43     Unemployed         Yes            No   \n",
       "\n",
       "       LoanPurpose HasCoSigner  \n",
       "67000     Business         Yes  \n",
       "139945   Education          No  \n",
       "54147         Home         Yes  \n",
       "14329    Education          No  \n",
       "16219         Home          No  \n",
       "...            ...         ...  \n",
       "192476        Auto         Yes  \n",
       "17730    Education         Yes  \n",
       "28030    Education         Yes  \n",
       "15725     Business         Yes  \n",
       "249342    Business          No  \n",
       "\n",
       "[178742 rows x 13 columns]"
      ]
     },
     "execution_count": 24,
     "metadata": {},
     "output_type": "execute_result"
    }
   ],
   "source": [
    "X_train"
   ]
  },
  {
   "cell_type": "code",
   "execution_count": 25,
   "id": "9e3c02df",
   "metadata": {
    "execution": {
     "iopub.execute_input": "2023-12-25T14:48:40.319811Z",
     "iopub.status.busy": "2023-12-25T14:48:40.319551Z",
     "iopub.status.idle": "2023-12-25T14:48:40.336200Z",
     "shell.execute_reply": "2023-12-25T14:48:40.335543Z"
    },
    "papermill": {
     "duration": 0.044428,
     "end_time": "2023-12-25T14:48:40.338119",
     "exception": false,
     "start_time": "2023-12-25T14:48:40.293691",
     "status": "completed"
    },
    "tags": []
   },
   "outputs": [],
   "source": [
    "num_cols = X_train.select_dtypes(['int64', 'float64']).columns\n",
    "cat_cols = X_train.select_dtypes(['object']).columns"
   ]
  },
  {
   "cell_type": "code",
   "execution_count": 26,
   "id": "43719313",
   "metadata": {
    "execution": {
     "iopub.execute_input": "2023-12-25T14:48:40.388702Z",
     "iopub.status.busy": "2023-12-25T14:48:40.388412Z",
     "iopub.status.idle": "2023-12-25T14:48:40.393977Z",
     "shell.execute_reply": "2023-12-25T14:48:40.393218Z"
    },
    "papermill": {
     "duration": 0.032848,
     "end_time": "2023-12-25T14:48:40.395792",
     "exception": false,
     "start_time": "2023-12-25T14:48:40.362944",
     "status": "completed"
    },
    "tags": []
   },
   "outputs": [
    {
     "data": {
      "text/plain": [
       "Index(['Age', 'Income', 'LoanAmount', 'CreditScore', 'MonthsEmployed',\n",
       "       'NumCreditLines', 'InterestRate', 'DTIRatio'],\n",
       "      dtype='object')"
      ]
     },
     "execution_count": 26,
     "metadata": {},
     "output_type": "execute_result"
    }
   ],
   "source": [
    "num_cols"
   ]
  },
  {
   "cell_type": "code",
   "execution_count": 27,
   "id": "50a7b981",
   "metadata": {
    "execution": {
     "iopub.execute_input": "2023-12-25T14:48:40.446785Z",
     "iopub.status.busy": "2023-12-25T14:48:40.446505Z",
     "iopub.status.idle": "2023-12-25T14:48:40.450789Z",
     "shell.execute_reply": "2023-12-25T14:48:40.450061Z"
    },
    "papermill": {
     "duration": 0.031919,
     "end_time": "2023-12-25T14:48:40.452674",
     "exception": false,
     "start_time": "2023-12-25T14:48:40.420755",
     "status": "completed"
    },
    "tags": []
   },
   "outputs": [],
   "source": [
    "# Data Transformation:\n",
    "#Normalization and standardization\n",
    "#Feature scaling\n",
    "#Encoding categorical variables"
   ]
  },
  {
   "cell_type": "code",
   "execution_count": 28,
   "id": "4fcdb2cc",
   "metadata": {
    "execution": {
     "iopub.execute_input": "2023-12-25T14:48:40.503244Z",
     "iopub.status.busy": "2023-12-25T14:48:40.502979Z",
     "iopub.status.idle": "2023-12-25T14:48:40.506907Z",
     "shell.execute_reply": "2023-12-25T14:48:40.506077Z"
    },
    "papermill": {
     "duration": 0.031249,
     "end_time": "2023-12-25T14:48:40.508771",
     "exception": false,
     "start_time": "2023-12-25T14:48:40.477522",
     "status": "completed"
    },
    "tags": []
   },
   "outputs": [],
   "source": [
    "from sklearn.preprocessing import StandardScaler, OneHotEncoder"
   ]
  },
  {
   "cell_type": "code",
   "execution_count": 29,
   "id": "4042454a",
   "metadata": {
    "execution": {
     "iopub.execute_input": "2023-12-25T14:48:40.560083Z",
     "iopub.status.busy": "2023-12-25T14:48:40.559826Z",
     "iopub.status.idle": "2023-12-25T14:48:40.563721Z",
     "shell.execute_reply": "2023-12-25T14:48:40.562926Z"
    },
    "papermill": {
     "duration": 0.031748,
     "end_time": "2023-12-25T14:48:40.565593",
     "exception": false,
     "start_time": "2023-12-25T14:48:40.533845",
     "status": "completed"
    },
    "tags": []
   },
   "outputs": [],
   "source": [
    "Scaler = StandardScaler()\n",
    "OHE = OneHotEncoder(handle_unknown = 'ignore')"
   ]
  },
  {
   "cell_type": "code",
   "execution_count": 30,
   "id": "06ea8bf4",
   "metadata": {
    "execution": {
     "iopub.execute_input": "2023-12-25T14:48:40.617462Z",
     "iopub.status.busy": "2023-12-25T14:48:40.617148Z",
     "iopub.status.idle": "2023-12-25T14:48:40.968589Z",
     "shell.execute_reply": "2023-12-25T14:48:40.967810Z"
    },
    "papermill": {
     "duration": 0.380377,
     "end_time": "2023-12-25T14:48:40.970859",
     "exception": false,
     "start_time": "2023-12-25T14:48:40.590482",
     "status": "completed"
    },
    "tags": []
   },
   "outputs": [],
   "source": [
    "X_train_std = Scaler.fit_transform(X_train[num_cols])\n",
    "X_train_ohe = OHE.fit_transform(X_train[cat_cols]).toarray()"
   ]
  },
  {
   "cell_type": "code",
   "execution_count": 31,
   "id": "03f5966f",
   "metadata": {
    "execution": {
     "iopub.execute_input": "2023-12-25T14:48:41.023092Z",
     "iopub.status.busy": "2023-12-25T14:48:41.022757Z",
     "iopub.status.idle": "2023-12-25T14:48:41.039351Z",
     "shell.execute_reply": "2023-12-25T14:48:41.038486Z"
    },
    "papermill": {
     "duration": 0.044573,
     "end_time": "2023-12-25T14:48:41.041466",
     "exception": false,
     "start_time": "2023-12-25T14:48:40.996893",
     "status": "completed"
    },
    "tags": []
   },
   "outputs": [],
   "source": [
    "train = np.concatenate((X_train_std, X_train_ohe), axis=1)"
   ]
  },
  {
   "cell_type": "code",
   "execution_count": 32,
   "id": "2df02ba3",
   "metadata": {
    "execution": {
     "iopub.execute_input": "2023-12-25T14:48:41.094545Z",
     "iopub.status.busy": "2023-12-25T14:48:41.094202Z",
     "iopub.status.idle": "2023-12-25T14:48:41.099886Z",
     "shell.execute_reply": "2023-12-25T14:48:41.099052Z"
    },
    "papermill": {
     "duration": 0.033868,
     "end_time": "2023-12-25T14:48:41.101839",
     "exception": false,
     "start_time": "2023-12-25T14:48:41.067971",
     "status": "completed"
    },
    "tags": []
   },
   "outputs": [
    {
     "data": {
      "text/plain": [
       "(178742, 23)"
      ]
     },
     "execution_count": 32,
     "metadata": {},
     "output_type": "execute_result"
    }
   ],
   "source": [
    "train.shape"
   ]
  },
  {
   "cell_type": "code",
   "execution_count": 33,
   "id": "b13aaf0d",
   "metadata": {
    "execution": {
     "iopub.execute_input": "2023-12-25T14:48:41.153423Z",
     "iopub.status.busy": "2023-12-25T14:48:41.153170Z",
     "iopub.status.idle": "2023-12-25T14:48:41.272173Z",
     "shell.execute_reply": "2023-12-25T14:48:41.271380Z"
    },
    "papermill": {
     "duration": 0.147123,
     "end_time": "2023-12-25T14:48:41.274449",
     "exception": false,
     "start_time": "2023-12-25T14:48:41.127326",
     "status": "completed"
    },
    "tags": []
   },
   "outputs": [],
   "source": [
    "X_test_std = Scaler.transform(X_test[num_cols])\n",
    "X_test_ohe = OHE.transform(X_test[cat_cols]).toarray()"
   ]
  },
  {
   "cell_type": "code",
   "execution_count": 34,
   "id": "2da16573",
   "metadata": {
    "execution": {
     "iopub.execute_input": "2023-12-25T14:48:41.328767Z",
     "iopub.status.busy": "2023-12-25T14:48:41.328461Z",
     "iopub.status.idle": "2023-12-25T14:48:41.337647Z",
     "shell.execute_reply": "2023-12-25T14:48:41.336928Z"
    },
    "papermill": {
     "duration": 0.039367,
     "end_time": "2023-12-25T14:48:41.340095",
     "exception": false,
     "start_time": "2023-12-25T14:48:41.300728",
     "status": "completed"
    },
    "tags": []
   },
   "outputs": [],
   "source": [
    "test = np.concatenate((X_test_std, X_test_ohe), axis=1)"
   ]
  },
  {
   "cell_type": "code",
   "execution_count": 35,
   "id": "87c52f10",
   "metadata": {
    "execution": {
     "iopub.execute_input": "2023-12-25T14:48:41.391734Z",
     "iopub.status.busy": "2023-12-25T14:48:41.391466Z",
     "iopub.status.idle": "2023-12-25T14:48:41.466465Z",
     "shell.execute_reply": "2023-12-25T14:48:41.465377Z"
    },
    "papermill": {
     "duration": 0.103194,
     "end_time": "2023-12-25T14:48:41.468684",
     "exception": false,
     "start_time": "2023-12-25T14:48:41.365490",
     "status": "completed"
    },
    "tags": []
   },
   "outputs": [],
   "source": [
    "from sklearn.linear_model import LogisticRegression"
   ]
  },
  {
   "cell_type": "code",
   "execution_count": 36,
   "id": "010fb652",
   "metadata": {
    "execution": {
     "iopub.execute_input": "2023-12-25T14:48:41.519957Z",
     "iopub.status.busy": "2023-12-25T14:48:41.519666Z",
     "iopub.status.idle": "2023-12-25T14:48:41.523621Z",
     "shell.execute_reply": "2023-12-25T14:48:41.522788Z"
    },
    "papermill": {
     "duration": 0.031777,
     "end_time": "2023-12-25T14:48:41.525625",
     "exception": false,
     "start_time": "2023-12-25T14:48:41.493848",
     "status": "completed"
    },
    "tags": []
   },
   "outputs": [],
   "source": [
    "LR = LogisticRegression()"
   ]
  },
  {
   "cell_type": "code",
   "execution_count": 37,
   "id": "1066179c",
   "metadata": {
    "execution": {
     "iopub.execute_input": "2023-12-25T14:48:41.576424Z",
     "iopub.status.busy": "2023-12-25T14:48:41.576151Z",
     "iopub.status.idle": "2023-12-25T14:48:41.846824Z",
     "shell.execute_reply": "2023-12-25T14:48:41.845563Z"
    },
    "papermill": {
     "duration": 0.300209,
     "end_time": "2023-12-25T14:48:41.850671",
     "exception": false,
     "start_time": "2023-12-25T14:48:41.550462",
     "status": "completed"
    },
    "tags": []
   },
   "outputs": [
    {
     "data": {
      "text/html": [
       "<style>#sk-container-id-1 {color: black;background-color: white;}#sk-container-id-1 pre{padding: 0;}#sk-container-id-1 div.sk-toggleable {background-color: white;}#sk-container-id-1 label.sk-toggleable__label {cursor: pointer;display: block;width: 100%;margin-bottom: 0;padding: 0.3em;box-sizing: border-box;text-align: center;}#sk-container-id-1 label.sk-toggleable__label-arrow:before {content: \"▸\";float: left;margin-right: 0.25em;color: #696969;}#sk-container-id-1 label.sk-toggleable__label-arrow:hover:before {color: black;}#sk-container-id-1 div.sk-estimator:hover label.sk-toggleable__label-arrow:before {color: black;}#sk-container-id-1 div.sk-toggleable__content {max-height: 0;max-width: 0;overflow: hidden;text-align: left;background-color: #f0f8ff;}#sk-container-id-1 div.sk-toggleable__content pre {margin: 0.2em;color: black;border-radius: 0.25em;background-color: #f0f8ff;}#sk-container-id-1 input.sk-toggleable__control:checked~div.sk-toggleable__content {max-height: 200px;max-width: 100%;overflow: auto;}#sk-container-id-1 input.sk-toggleable__control:checked~label.sk-toggleable__label-arrow:before {content: \"▾\";}#sk-container-id-1 div.sk-estimator input.sk-toggleable__control:checked~label.sk-toggleable__label {background-color: #d4ebff;}#sk-container-id-1 div.sk-label input.sk-toggleable__control:checked~label.sk-toggleable__label {background-color: #d4ebff;}#sk-container-id-1 input.sk-hidden--visually {border: 0;clip: rect(1px 1px 1px 1px);clip: rect(1px, 1px, 1px, 1px);height: 1px;margin: -1px;overflow: hidden;padding: 0;position: absolute;width: 1px;}#sk-container-id-1 div.sk-estimator {font-family: monospace;background-color: #f0f8ff;border: 1px dotted black;border-radius: 0.25em;box-sizing: border-box;margin-bottom: 0.5em;}#sk-container-id-1 div.sk-estimator:hover {background-color: #d4ebff;}#sk-container-id-1 div.sk-parallel-item::after {content: \"\";width: 100%;border-bottom: 1px solid gray;flex-grow: 1;}#sk-container-id-1 div.sk-label:hover label.sk-toggleable__label {background-color: #d4ebff;}#sk-container-id-1 div.sk-serial::before {content: \"\";position: absolute;border-left: 1px solid gray;box-sizing: border-box;top: 0;bottom: 0;left: 50%;z-index: 0;}#sk-container-id-1 div.sk-serial {display: flex;flex-direction: column;align-items: center;background-color: white;padding-right: 0.2em;padding-left: 0.2em;position: relative;}#sk-container-id-1 div.sk-item {position: relative;z-index: 1;}#sk-container-id-1 div.sk-parallel {display: flex;align-items: stretch;justify-content: center;background-color: white;position: relative;}#sk-container-id-1 div.sk-item::before, #sk-container-id-1 div.sk-parallel-item::before {content: \"\";position: absolute;border-left: 1px solid gray;box-sizing: border-box;top: 0;bottom: 0;left: 50%;z-index: -1;}#sk-container-id-1 div.sk-parallel-item {display: flex;flex-direction: column;z-index: 1;position: relative;background-color: white;}#sk-container-id-1 div.sk-parallel-item:first-child::after {align-self: flex-end;width: 50%;}#sk-container-id-1 div.sk-parallel-item:last-child::after {align-self: flex-start;width: 50%;}#sk-container-id-1 div.sk-parallel-item:only-child::after {width: 0;}#sk-container-id-1 div.sk-dashed-wrapped {border: 1px dashed gray;margin: 0 0.4em 0.5em 0.4em;box-sizing: border-box;padding-bottom: 0.4em;background-color: white;}#sk-container-id-1 div.sk-label label {font-family: monospace;font-weight: bold;display: inline-block;line-height: 1.2em;}#sk-container-id-1 div.sk-label-container {text-align: center;}#sk-container-id-1 div.sk-container {/* jupyter's `normalize.less` sets `[hidden] { display: none; }` but bootstrap.min.css set `[hidden] { display: none !important; }` so we also need the `!important` here to be able to override the default hidden behavior on the sphinx rendered scikit-learn.org. See: https://github.com/scikit-learn/scikit-learn/issues/21755 */display: inline-block !important;position: relative;}#sk-container-id-1 div.sk-text-repr-fallback {display: none;}</style><div id=\"sk-container-id-1\" class=\"sk-top-container\"><div class=\"sk-text-repr-fallback\"><pre>LogisticRegression()</pre><b>In a Jupyter environment, please rerun this cell to show the HTML representation or trust the notebook. <br />On GitHub, the HTML representation is unable to render, please try loading this page with nbviewer.org.</b></div><div class=\"sk-container\" hidden><div class=\"sk-item\"><div class=\"sk-estimator sk-toggleable\"><input class=\"sk-toggleable__control sk-hidden--visually\" id=\"sk-estimator-id-1\" type=\"checkbox\" checked><label for=\"sk-estimator-id-1\" class=\"sk-toggleable__label sk-toggleable__label-arrow\">LogisticRegression</label><div class=\"sk-toggleable__content\"><pre>LogisticRegression()</pre></div></div></div></div></div>"
      ],
      "text/plain": [
       "LogisticRegression()"
      ]
     },
     "execution_count": 37,
     "metadata": {},
     "output_type": "execute_result"
    }
   ],
   "source": [
    "LR.fit(train, y_train)"
   ]
  },
  {
   "cell_type": "code",
   "execution_count": 38,
   "id": "c8e98263",
   "metadata": {
    "execution": {
     "iopub.execute_input": "2023-12-25T14:48:41.971241Z",
     "iopub.status.busy": "2023-12-25T14:48:41.970913Z",
     "iopub.status.idle": "2023-12-25T14:48:41.983675Z",
     "shell.execute_reply": "2023-12-25T14:48:41.982468Z"
    },
    "papermill": {
     "duration": 0.076971,
     "end_time": "2023-12-25T14:48:41.987047",
     "exception": false,
     "start_time": "2023-12-25T14:48:41.910076",
     "status": "completed"
    },
    "tags": []
   },
   "outputs": [],
   "source": [
    "LRT_pred = LR.predict(train)"
   ]
  },
  {
   "cell_type": "code",
   "execution_count": 39,
   "id": "b247c602",
   "metadata": {
    "execution": {
     "iopub.execute_input": "2023-12-25T14:48:42.099696Z",
     "iopub.status.busy": "2023-12-25T14:48:42.099171Z",
     "iopub.status.idle": "2023-12-25T14:48:42.109645Z",
     "shell.execute_reply": "2023-12-25T14:48:42.108500Z"
    },
    "papermill": {
     "duration": 0.070385,
     "end_time": "2023-12-25T14:48:42.113342",
     "exception": false,
     "start_time": "2023-12-25T14:48:42.042957",
     "status": "completed"
    },
    "tags": []
   },
   "outputs": [],
   "source": [
    "LR_pred = LR.predict(test)"
   ]
  },
  {
   "cell_type": "code",
   "execution_count": 40,
   "id": "fe499e75",
   "metadata": {
    "execution": {
     "iopub.execute_input": "2023-12-25T14:48:42.225798Z",
     "iopub.status.busy": "2023-12-25T14:48:42.225275Z",
     "iopub.status.idle": "2023-12-25T14:48:42.231373Z",
     "shell.execute_reply": "2023-12-25T14:48:42.230134Z"
    },
    "papermill": {
     "duration": 0.067165,
     "end_time": "2023-12-25T14:48:42.235977",
     "exception": false,
     "start_time": "2023-12-25T14:48:42.168812",
     "status": "completed"
    },
    "tags": []
   },
   "outputs": [],
   "source": [
    "from sklearn.metrics import accuracy_score, precision_score, recall_score, confusion_matrix"
   ]
  },
  {
   "cell_type": "code",
   "execution_count": 41,
   "id": "7f6424db",
   "metadata": {
    "execution": {
     "iopub.execute_input": "2023-12-25T14:48:42.291361Z",
     "iopub.status.busy": "2023-12-25T14:48:42.291002Z",
     "iopub.status.idle": "2023-12-25T14:48:42.297681Z",
     "shell.execute_reply": "2023-12-25T14:48:42.296842Z"
    },
    "papermill": {
     "duration": 0.03631,
     "end_time": "2023-12-25T14:48:42.299555",
     "exception": false,
     "start_time": "2023-12-25T14:48:42.263245",
     "status": "completed"
    },
    "tags": []
   },
   "outputs": [],
   "source": [
    "def metrics_(yTr, yTp, yts, ytp):\n",
    "    print('<<<<<< Train >>>>>>')\n",
    "    print('confusion_matrix :\\n', confusion_matrix(yTr, yTp))\n",
    "    print('Accuracy :', accuracy_score(yTr, yTp))\n",
    "    print('precision_score :', precision_score(yTr, yTp))\n",
    "    print('recall_score :', recall_score(yTr, yTp))\n",
    "    print('\\n')\n",
    "    print('<<<<<< Test >>>>>>')\n",
    "    print('confusion_matrix :\\n', confusion_matrix(yts, ytp))\n",
    "    print('Accuracy :', accuracy_score(yts, ytp))\n",
    "    print('precision_score :', precision_score(yts, ytp))\n",
    "    print('recall_score :', recall_score(yts, ytp))"
   ]
  },
  {
   "cell_type": "code",
   "execution_count": 42,
   "id": "995b205d",
   "metadata": {
    "execution": {
     "iopub.execute_input": "2023-12-25T14:48:42.352413Z",
     "iopub.status.busy": "2023-12-25T14:48:42.351853Z",
     "iopub.status.idle": "2023-12-25T14:48:42.562126Z",
     "shell.execute_reply": "2023-12-25T14:48:42.561190Z"
    },
    "papermill": {
     "duration": 0.238445,
     "end_time": "2023-12-25T14:48:42.564070",
     "exception": false,
     "start_time": "2023-12-25T14:48:42.325625",
     "status": "completed"
    },
    "tags": []
   },
   "outputs": [
    {
     "name": "stdout",
     "output_type": "stream",
     "text": [
      "<<<<<< Lgistic Regression >>>>>>\n",
      "\n",
      "<<<<<< Train >>>>>>\n",
      "confusion_matrix :\n",
      " [[157614    435]\n",
      " [ 20055    638]]\n",
      "Accuracy : 0.8853654988754741\n",
      "precision_score : 0.5945945945945946\n",
      "recall_score : 0.03083168221137583\n",
      "\n",
      "\n",
      "<<<<<< Test >>>>>>\n",
      "confusion_matrix :\n",
      " [[67444   201]\n",
      " [ 8693   267]]\n",
      "Accuracy : 0.8838979178904771\n",
      "precision_score : 0.5705128205128205\n",
      "recall_score : 0.029799107142857145\n"
     ]
    }
   ],
   "source": [
    "print('<<<<<< Lgistic Regression >>>>>>\\n')\n",
    "metrics_(y_train, LRT_pred, y_test, LR_pred)"
   ]
  },
  {
   "cell_type": "code",
   "execution_count": 43,
   "id": "6c921261",
   "metadata": {
    "execution": {
     "iopub.execute_input": "2023-12-25T14:48:42.618375Z",
     "iopub.status.busy": "2023-12-25T14:48:42.618006Z",
     "iopub.status.idle": "2023-12-25T14:48:42.779578Z",
     "shell.execute_reply": "2023-12-25T14:48:42.778508Z"
    },
    "papermill": {
     "duration": 0.191615,
     "end_time": "2023-12-25T14:48:42.782035",
     "exception": false,
     "start_time": "2023-12-25T14:48:42.590420",
     "status": "completed"
    },
    "tags": []
   },
   "outputs": [],
   "source": [
    "from sklearn.tree import DecisionTreeClassifier\n",
    "dtc = DecisionTreeClassifier()"
   ]
  },
  {
   "cell_type": "code",
   "execution_count": 44,
   "id": "6bfd39c7",
   "metadata": {
    "execution": {
     "iopub.execute_input": "2023-12-25T14:48:42.835223Z",
     "iopub.status.busy": "2023-12-25T14:48:42.834902Z",
     "iopub.status.idle": "2023-12-25T14:48:45.627066Z",
     "shell.execute_reply": "2023-12-25T14:48:45.626278Z"
    },
    "papermill": {
     "duration": 2.82101,
     "end_time": "2023-12-25T14:48:45.629261",
     "exception": false,
     "start_time": "2023-12-25T14:48:42.808251",
     "status": "completed"
    },
    "tags": []
   },
   "outputs": [],
   "source": [
    "dtc.fit(train, y_train)\n",
    "dtc_TPred = dtc.predict(train)\n",
    "dtc_tpred = dtc.predict(test)"
   ]
  },
  {
   "cell_type": "code",
   "execution_count": 45,
   "id": "388703d9",
   "metadata": {
    "execution": {
     "iopub.execute_input": "2023-12-25T14:48:45.683070Z",
     "iopub.status.busy": "2023-12-25T14:48:45.682734Z",
     "iopub.status.idle": "2023-12-25T14:48:45.916241Z",
     "shell.execute_reply": "2023-12-25T14:48:45.915052Z"
    },
    "papermill": {
     "duration": 0.263026,
     "end_time": "2023-12-25T14:48:45.918552",
     "exception": false,
     "start_time": "2023-12-25T14:48:45.655526",
     "status": "completed"
    },
    "tags": []
   },
   "outputs": [
    {
     "name": "stdout",
     "output_type": "stream",
     "text": [
      "<<<<<< Decision Tree Classifier >>>>>>\n",
      "\n",
      "<<<<<< Train >>>>>>\n",
      "confusion_matrix :\n",
      " [[158049      0]\n",
      " [     0  20693]]\n",
      "Accuracy : 1.0\n",
      "precision_score : 1.0\n",
      "recall_score : 1.0\n",
      "\n",
      "\n",
      "<<<<<< Test >>>>>>\n",
      "confusion_matrix :\n",
      " [[59390  8255]\n",
      " [ 6897  2063]]\n",
      "Accuracy : 0.8022061223157757\n",
      "precision_score : 0.19994184919558053\n",
      "recall_score : 0.23024553571428572\n"
     ]
    }
   ],
   "source": [
    "print('<<<<<< Decision Tree Classifier >>>>>>\\n')\n",
    "metrics_(y_train, dtc_TPred, y_test, dtc_tpred)"
   ]
  },
  {
   "cell_type": "code",
   "execution_count": 46,
   "id": "5fdbed76",
   "metadata": {
    "execution": {
     "iopub.execute_input": "2023-12-25T14:48:45.983044Z",
     "iopub.status.busy": "2023-12-25T14:48:45.982356Z",
     "iopub.status.idle": "2023-12-25T14:48:45.988505Z",
     "shell.execute_reply": "2023-12-25T14:48:45.987658Z"
    },
    "papermill": {
     "duration": 0.038251,
     "end_time": "2023-12-25T14:48:45.990587",
     "exception": false,
     "start_time": "2023-12-25T14:48:45.952336",
     "status": "completed"
    },
    "tags": []
   },
   "outputs": [
    {
     "data": {
      "text/plain": [
       "38"
      ]
     },
     "execution_count": 46,
     "metadata": {},
     "output_type": "execute_result"
    }
   ],
   "source": [
    "dtc.get_depth()"
   ]
  },
  {
   "cell_type": "code",
   "execution_count": 47,
   "id": "c7e2faf3",
   "metadata": {
    "execution": {
     "iopub.execute_input": "2023-12-25T14:48:46.046773Z",
     "iopub.status.busy": "2023-12-25T14:48:46.046202Z",
     "iopub.status.idle": "2023-12-25T14:48:46.051905Z",
     "shell.execute_reply": "2023-12-25T14:48:46.051060Z"
    },
    "papermill": {
     "duration": 0.036121,
     "end_time": "2023-12-25T14:48:46.053868",
     "exception": false,
     "start_time": "2023-12-25T14:48:46.017747",
     "status": "completed"
    },
    "tags": []
   },
   "outputs": [
    {
     "data": {
      "text/plain": [
       "2"
      ]
     },
     "execution_count": 47,
     "metadata": {},
     "output_type": "execute_result"
    }
   ],
   "source": [
    "dtc.min_samples_split"
   ]
  },
  {
   "cell_type": "code",
   "execution_count": 48,
   "id": "384714cd",
   "metadata": {
    "execution": {
     "iopub.execute_input": "2023-12-25T14:48:46.107530Z",
     "iopub.status.busy": "2023-12-25T14:48:46.107221Z",
     "iopub.status.idle": "2023-12-25T14:48:46.112660Z",
     "shell.execute_reply": "2023-12-25T14:48:46.111755Z"
    },
    "papermill": {
     "duration": 0.034419,
     "end_time": "2023-12-25T14:48:46.114582",
     "exception": false,
     "start_time": "2023-12-25T14:48:46.080163",
     "status": "completed"
    },
    "tags": []
   },
   "outputs": [
    {
     "data": {
      "text/plain": [
       "1"
      ]
     },
     "execution_count": 48,
     "metadata": {},
     "output_type": "execute_result"
    }
   ],
   "source": [
    "dtc.min_samples_leaf"
   ]
  },
  {
   "cell_type": "code",
   "execution_count": 49,
   "id": "28fc6c6f",
   "metadata": {
    "execution": {
     "iopub.execute_input": "2023-12-25T14:48:46.168587Z",
     "iopub.status.busy": "2023-12-25T14:48:46.168302Z",
     "iopub.status.idle": "2023-12-25T14:48:46.177756Z",
     "shell.execute_reply": "2023-12-25T14:48:46.176910Z"
    },
    "papermill": {
     "duration": 0.038731,
     "end_time": "2023-12-25T14:48:46.179733",
     "exception": false,
     "start_time": "2023-12-25T14:48:46.141002",
     "status": "completed"
    },
    "tags": []
   },
   "outputs": [
    {
     "data": {
      "text/plain": [
       "Default\n",
       "0    158049\n",
       "1     20693\n",
       "Name: count, dtype: int64"
      ]
     },
     "execution_count": 49,
     "metadata": {},
     "output_type": "execute_result"
    }
   ],
   "source": [
    "y_train.value_counts()"
   ]
  },
  {
   "cell_type": "code",
   "execution_count": 50,
   "id": "5c76a0d8",
   "metadata": {
    "execution": {
     "iopub.execute_input": "2023-12-25T14:48:46.234490Z",
     "iopub.status.busy": "2023-12-25T14:48:46.234135Z",
     "iopub.status.idle": "2023-12-25T14:48:46.384340Z",
     "shell.execute_reply": "2023-12-25T14:48:46.383580Z"
    },
    "papermill": {
     "duration": 0.180321,
     "end_time": "2023-12-25T14:48:46.386515",
     "exception": false,
     "start_time": "2023-12-25T14:48:46.206194",
     "status": "completed"
    },
    "tags": []
   },
   "outputs": [],
   "source": [
    "from imblearn.over_sampling import SMOTE"
   ]
  },
  {
   "cell_type": "code",
   "execution_count": 51,
   "id": "2fc8a16e",
   "metadata": {
    "execution": {
     "iopub.execute_input": "2023-12-25T14:48:46.443142Z",
     "iopub.status.busy": "2023-12-25T14:48:46.442608Z",
     "iopub.status.idle": "2023-12-25T14:48:47.580140Z",
     "shell.execute_reply": "2023-12-25T14:48:47.579176Z"
    },
    "papermill": {
     "duration": 1.168588,
     "end_time": "2023-12-25T14:48:47.582414",
     "exception": false,
     "start_time": "2023-12-25T14:48:46.413826",
     "status": "completed"
    },
    "tags": []
   },
   "outputs": [
    {
     "name": "stdout",
     "output_type": "stream",
     "text": [
      "Class distribution after SMOTE:\n",
      "Default\n",
      "0    158049\n",
      "1    158049\n",
      "Name: count, dtype: int64\n"
     ]
    }
   ],
   "source": [
    "smote = SMOTE(sampling_strategy='auto', random_state=42)\n",
    "\n",
    "X_resampled, y_resampled = smote.fit_resample(train, y_train)\n",
    "\n",
    "# Check the balance of the target variable after SMOTE\n",
    "print(\"Class distribution after SMOTE:\")\n",
    "print(y_resampled.value_counts())"
   ]
  },
  {
   "cell_type": "code",
   "execution_count": 52,
   "id": "287bd944",
   "metadata": {
    "execution": {
     "iopub.execute_input": "2023-12-25T14:48:47.641681Z",
     "iopub.status.busy": "2023-12-25T14:48:47.641163Z",
     "iopub.status.idle": "2023-12-25T14:48:47.651742Z",
     "shell.execute_reply": "2023-12-25T14:48:47.650698Z"
    },
    "papermill": {
     "duration": 0.042702,
     "end_time": "2023-12-25T14:48:47.653902",
     "exception": false,
     "start_time": "2023-12-25T14:48:47.611200",
     "status": "completed"
    },
    "tags": []
   },
   "outputs": [
    {
     "data": {
      "text/plain": [
       "(316098, 23)"
      ]
     },
     "execution_count": 52,
     "metadata": {},
     "output_type": "execute_result"
    }
   ],
   "source": [
    "X_resampled.shape"
   ]
  },
  {
   "cell_type": "code",
   "execution_count": 53,
   "id": "f6394a65",
   "metadata": {
    "execution": {
     "iopub.execute_input": "2023-12-25T14:48:47.710876Z",
     "iopub.status.busy": "2023-12-25T14:48:47.710528Z",
     "iopub.status.idle": "2023-12-25T14:48:47.714870Z",
     "shell.execute_reply": "2023-12-25T14:48:47.713906Z"
    },
    "papermill": {
     "duration": 0.035477,
     "end_time": "2023-12-25T14:48:47.716986",
     "exception": false,
     "start_time": "2023-12-25T14:48:47.681509",
     "status": "completed"
    },
    "tags": []
   },
   "outputs": [],
   "source": [
    "dec = DecisionTreeClassifier()"
   ]
  },
  {
   "cell_type": "code",
   "execution_count": 54,
   "id": "8345e182",
   "metadata": {
    "execution": {
     "iopub.execute_input": "2023-12-25T14:48:47.777039Z",
     "iopub.status.busy": "2023-12-25T14:48:47.776098Z",
     "iopub.status.idle": "2023-12-25T14:48:54.574499Z",
     "shell.execute_reply": "2023-12-25T14:48:54.573386Z"
    },
    "papermill": {
     "duration": 6.832166,
     "end_time": "2023-12-25T14:48:54.576684",
     "exception": false,
     "start_time": "2023-12-25T14:48:47.744518",
     "status": "completed"
    },
    "tags": []
   },
   "outputs": [
    {
     "data": {
      "text/html": [
       "<style>#sk-container-id-2 {color: black;background-color: white;}#sk-container-id-2 pre{padding: 0;}#sk-container-id-2 div.sk-toggleable {background-color: white;}#sk-container-id-2 label.sk-toggleable__label {cursor: pointer;display: block;width: 100%;margin-bottom: 0;padding: 0.3em;box-sizing: border-box;text-align: center;}#sk-container-id-2 label.sk-toggleable__label-arrow:before {content: \"▸\";float: left;margin-right: 0.25em;color: #696969;}#sk-container-id-2 label.sk-toggleable__label-arrow:hover:before {color: black;}#sk-container-id-2 div.sk-estimator:hover label.sk-toggleable__label-arrow:before {color: black;}#sk-container-id-2 div.sk-toggleable__content {max-height: 0;max-width: 0;overflow: hidden;text-align: left;background-color: #f0f8ff;}#sk-container-id-2 div.sk-toggleable__content pre {margin: 0.2em;color: black;border-radius: 0.25em;background-color: #f0f8ff;}#sk-container-id-2 input.sk-toggleable__control:checked~div.sk-toggleable__content {max-height: 200px;max-width: 100%;overflow: auto;}#sk-container-id-2 input.sk-toggleable__control:checked~label.sk-toggleable__label-arrow:before {content: \"▾\";}#sk-container-id-2 div.sk-estimator input.sk-toggleable__control:checked~label.sk-toggleable__label {background-color: #d4ebff;}#sk-container-id-2 div.sk-label input.sk-toggleable__control:checked~label.sk-toggleable__label {background-color: #d4ebff;}#sk-container-id-2 input.sk-hidden--visually {border: 0;clip: rect(1px 1px 1px 1px);clip: rect(1px, 1px, 1px, 1px);height: 1px;margin: -1px;overflow: hidden;padding: 0;position: absolute;width: 1px;}#sk-container-id-2 div.sk-estimator {font-family: monospace;background-color: #f0f8ff;border: 1px dotted black;border-radius: 0.25em;box-sizing: border-box;margin-bottom: 0.5em;}#sk-container-id-2 div.sk-estimator:hover {background-color: #d4ebff;}#sk-container-id-2 div.sk-parallel-item::after {content: \"\";width: 100%;border-bottom: 1px solid gray;flex-grow: 1;}#sk-container-id-2 div.sk-label:hover label.sk-toggleable__label {background-color: #d4ebff;}#sk-container-id-2 div.sk-serial::before {content: \"\";position: absolute;border-left: 1px solid gray;box-sizing: border-box;top: 0;bottom: 0;left: 50%;z-index: 0;}#sk-container-id-2 div.sk-serial {display: flex;flex-direction: column;align-items: center;background-color: white;padding-right: 0.2em;padding-left: 0.2em;position: relative;}#sk-container-id-2 div.sk-item {position: relative;z-index: 1;}#sk-container-id-2 div.sk-parallel {display: flex;align-items: stretch;justify-content: center;background-color: white;position: relative;}#sk-container-id-2 div.sk-item::before, #sk-container-id-2 div.sk-parallel-item::before {content: \"\";position: absolute;border-left: 1px solid gray;box-sizing: border-box;top: 0;bottom: 0;left: 50%;z-index: -1;}#sk-container-id-2 div.sk-parallel-item {display: flex;flex-direction: column;z-index: 1;position: relative;background-color: white;}#sk-container-id-2 div.sk-parallel-item:first-child::after {align-self: flex-end;width: 50%;}#sk-container-id-2 div.sk-parallel-item:last-child::after {align-self: flex-start;width: 50%;}#sk-container-id-2 div.sk-parallel-item:only-child::after {width: 0;}#sk-container-id-2 div.sk-dashed-wrapped {border: 1px dashed gray;margin: 0 0.4em 0.5em 0.4em;box-sizing: border-box;padding-bottom: 0.4em;background-color: white;}#sk-container-id-2 div.sk-label label {font-family: monospace;font-weight: bold;display: inline-block;line-height: 1.2em;}#sk-container-id-2 div.sk-label-container {text-align: center;}#sk-container-id-2 div.sk-container {/* jupyter's `normalize.less` sets `[hidden] { display: none; }` but bootstrap.min.css set `[hidden] { display: none !important; }` so we also need the `!important` here to be able to override the default hidden behavior on the sphinx rendered scikit-learn.org. See: https://github.com/scikit-learn/scikit-learn/issues/21755 */display: inline-block !important;position: relative;}#sk-container-id-2 div.sk-text-repr-fallback {display: none;}</style><div id=\"sk-container-id-2\" class=\"sk-top-container\"><div class=\"sk-text-repr-fallback\"><pre>DecisionTreeClassifier()</pre><b>In a Jupyter environment, please rerun this cell to show the HTML representation or trust the notebook. <br />On GitHub, the HTML representation is unable to render, please try loading this page with nbviewer.org.</b></div><div class=\"sk-container\" hidden><div class=\"sk-item\"><div class=\"sk-estimator sk-toggleable\"><input class=\"sk-toggleable__control sk-hidden--visually\" id=\"sk-estimator-id-2\" type=\"checkbox\" checked><label for=\"sk-estimator-id-2\" class=\"sk-toggleable__label sk-toggleable__label-arrow\">DecisionTreeClassifier</label><div class=\"sk-toggleable__content\"><pre>DecisionTreeClassifier()</pre></div></div></div></div></div>"
      ],
      "text/plain": [
       "DecisionTreeClassifier()"
      ]
     },
     "execution_count": 54,
     "metadata": {},
     "output_type": "execute_result"
    }
   ],
   "source": [
    "dec.fit(X_resampled, y_resampled)"
   ]
  },
  {
   "cell_type": "code",
   "execution_count": 55,
   "id": "29f65c62",
   "metadata": {
    "execution": {
     "iopub.execute_input": "2023-12-25T14:48:54.633682Z",
     "iopub.status.busy": "2023-12-25T14:48:54.632873Z",
     "iopub.status.idle": "2023-12-25T14:48:55.102605Z",
     "shell.execute_reply": "2023-12-25T14:48:55.101586Z"
    },
    "papermill": {
     "duration": 0.500725,
     "end_time": "2023-12-25T14:48:55.104749",
     "exception": false,
     "start_time": "2023-12-25T14:48:54.604024",
     "status": "completed"
    },
    "tags": []
   },
   "outputs": [
    {
     "name": "stdout",
     "output_type": "stream",
     "text": [
      "<<<<<< Train >>>>>>\n",
      "confusion_matrix :\n",
      " [[158049      0]\n",
      " [     0 158049]]\n",
      "Accuracy : 1.0\n",
      "precision_score : 1.0\n",
      "recall_score : 1.0\n",
      "\n",
      "\n",
      "<<<<<< Test >>>>>>\n",
      "confusion_matrix :\n",
      " [[56286 11359]\n",
      " [ 6233  2727]]\n",
      "Accuracy : 0.7703544155081261\n",
      "precision_score : 0.19359647877325004\n",
      "recall_score : 0.30435267857142856\n"
     ]
    }
   ],
   "source": [
    "dec_train = dec.predict(X_resampled)\n",
    "dec_pred = dec.predict(test)\n",
    "metrics_(y_resampled, dec_train, y_test, dec_pred)"
   ]
  },
  {
   "cell_type": "code",
   "execution_count": 56,
   "id": "f4f92894",
   "metadata": {
    "execution": {
     "iopub.execute_input": "2023-12-25T14:48:55.161904Z",
     "iopub.status.busy": "2023-12-25T14:48:55.161601Z",
     "iopub.status.idle": "2023-12-25T14:48:55.165680Z",
     "shell.execute_reply": "2023-12-25T14:48:55.164965Z"
    },
    "papermill": {
     "duration": 0.034877,
     "end_time": "2023-12-25T14:48:55.167640",
     "exception": false,
     "start_time": "2023-12-25T14:48:55.132763",
     "status": "completed"
    },
    "tags": []
   },
   "outputs": [],
   "source": [
    "from sklearn.ensemble import RandomForestClassifier"
   ]
  },
  {
   "cell_type": "code",
   "execution_count": 57,
   "id": "e9357739",
   "metadata": {
    "execution": {
     "iopub.execute_input": "2023-12-25T14:48:55.223006Z",
     "iopub.status.busy": "2023-12-25T14:48:55.222698Z",
     "iopub.status.idle": "2023-12-25T14:48:55.226526Z",
     "shell.execute_reply": "2023-12-25T14:48:55.225776Z"
    },
    "papermill": {
     "duration": 0.033179,
     "end_time": "2023-12-25T14:48:55.228309",
     "exception": false,
     "start_time": "2023-12-25T14:48:55.195130",
     "status": "completed"
    },
    "tags": []
   },
   "outputs": [],
   "source": [
    "RFC = RandomForestClassifier()"
   ]
  },
  {
   "cell_type": "code",
   "execution_count": 58,
   "id": "c682c7ac",
   "metadata": {
    "execution": {
     "iopub.execute_input": "2023-12-25T14:48:55.283390Z",
     "iopub.status.busy": "2023-12-25T14:48:55.283128Z",
     "iopub.status.idle": "2023-12-25T14:50:20.647816Z",
     "shell.execute_reply": "2023-12-25T14:50:20.646917Z"
    },
    "papermill": {
     "duration": 85.424912,
     "end_time": "2023-12-25T14:50:20.680156",
     "exception": false,
     "start_time": "2023-12-25T14:48:55.255244",
     "status": "completed"
    },
    "tags": []
   },
   "outputs": [
    {
     "data": {
      "text/html": [
       "<style>#sk-container-id-3 {color: black;background-color: white;}#sk-container-id-3 pre{padding: 0;}#sk-container-id-3 div.sk-toggleable {background-color: white;}#sk-container-id-3 label.sk-toggleable__label {cursor: pointer;display: block;width: 100%;margin-bottom: 0;padding: 0.3em;box-sizing: border-box;text-align: center;}#sk-container-id-3 label.sk-toggleable__label-arrow:before {content: \"▸\";float: left;margin-right: 0.25em;color: #696969;}#sk-container-id-3 label.sk-toggleable__label-arrow:hover:before {color: black;}#sk-container-id-3 div.sk-estimator:hover label.sk-toggleable__label-arrow:before {color: black;}#sk-container-id-3 div.sk-toggleable__content {max-height: 0;max-width: 0;overflow: hidden;text-align: left;background-color: #f0f8ff;}#sk-container-id-3 div.sk-toggleable__content pre {margin: 0.2em;color: black;border-radius: 0.25em;background-color: #f0f8ff;}#sk-container-id-3 input.sk-toggleable__control:checked~div.sk-toggleable__content {max-height: 200px;max-width: 100%;overflow: auto;}#sk-container-id-3 input.sk-toggleable__control:checked~label.sk-toggleable__label-arrow:before {content: \"▾\";}#sk-container-id-3 div.sk-estimator input.sk-toggleable__control:checked~label.sk-toggleable__label {background-color: #d4ebff;}#sk-container-id-3 div.sk-label input.sk-toggleable__control:checked~label.sk-toggleable__label {background-color: #d4ebff;}#sk-container-id-3 input.sk-hidden--visually {border: 0;clip: rect(1px 1px 1px 1px);clip: rect(1px, 1px, 1px, 1px);height: 1px;margin: -1px;overflow: hidden;padding: 0;position: absolute;width: 1px;}#sk-container-id-3 div.sk-estimator {font-family: monospace;background-color: #f0f8ff;border: 1px dotted black;border-radius: 0.25em;box-sizing: border-box;margin-bottom: 0.5em;}#sk-container-id-3 div.sk-estimator:hover {background-color: #d4ebff;}#sk-container-id-3 div.sk-parallel-item::after {content: \"\";width: 100%;border-bottom: 1px solid gray;flex-grow: 1;}#sk-container-id-3 div.sk-label:hover label.sk-toggleable__label {background-color: #d4ebff;}#sk-container-id-3 div.sk-serial::before {content: \"\";position: absolute;border-left: 1px solid gray;box-sizing: border-box;top: 0;bottom: 0;left: 50%;z-index: 0;}#sk-container-id-3 div.sk-serial {display: flex;flex-direction: column;align-items: center;background-color: white;padding-right: 0.2em;padding-left: 0.2em;position: relative;}#sk-container-id-3 div.sk-item {position: relative;z-index: 1;}#sk-container-id-3 div.sk-parallel {display: flex;align-items: stretch;justify-content: center;background-color: white;position: relative;}#sk-container-id-3 div.sk-item::before, #sk-container-id-3 div.sk-parallel-item::before {content: \"\";position: absolute;border-left: 1px solid gray;box-sizing: border-box;top: 0;bottom: 0;left: 50%;z-index: -1;}#sk-container-id-3 div.sk-parallel-item {display: flex;flex-direction: column;z-index: 1;position: relative;background-color: white;}#sk-container-id-3 div.sk-parallel-item:first-child::after {align-self: flex-end;width: 50%;}#sk-container-id-3 div.sk-parallel-item:last-child::after {align-self: flex-start;width: 50%;}#sk-container-id-3 div.sk-parallel-item:only-child::after {width: 0;}#sk-container-id-3 div.sk-dashed-wrapped {border: 1px dashed gray;margin: 0 0.4em 0.5em 0.4em;box-sizing: border-box;padding-bottom: 0.4em;background-color: white;}#sk-container-id-3 div.sk-label label {font-family: monospace;font-weight: bold;display: inline-block;line-height: 1.2em;}#sk-container-id-3 div.sk-label-container {text-align: center;}#sk-container-id-3 div.sk-container {/* jupyter's `normalize.less` sets `[hidden] { display: none; }` but bootstrap.min.css set `[hidden] { display: none !important; }` so we also need the `!important` here to be able to override the default hidden behavior on the sphinx rendered scikit-learn.org. See: https://github.com/scikit-learn/scikit-learn/issues/21755 */display: inline-block !important;position: relative;}#sk-container-id-3 div.sk-text-repr-fallback {display: none;}</style><div id=\"sk-container-id-3\" class=\"sk-top-container\"><div class=\"sk-text-repr-fallback\"><pre>RandomForestClassifier()</pre><b>In a Jupyter environment, please rerun this cell to show the HTML representation or trust the notebook. <br />On GitHub, the HTML representation is unable to render, please try loading this page with nbviewer.org.</b></div><div class=\"sk-container\" hidden><div class=\"sk-item\"><div class=\"sk-estimator sk-toggleable\"><input class=\"sk-toggleable__control sk-hidden--visually\" id=\"sk-estimator-id-3\" type=\"checkbox\" checked><label for=\"sk-estimator-id-3\" class=\"sk-toggleable__label sk-toggleable__label-arrow\">RandomForestClassifier</label><div class=\"sk-toggleable__content\"><pre>RandomForestClassifier()</pre></div></div></div></div></div>"
      ],
      "text/plain": [
       "RandomForestClassifier()"
      ]
     },
     "execution_count": 58,
     "metadata": {},
     "output_type": "execute_result"
    }
   ],
   "source": [
    "RFC.fit(X_resampled, y_resampled)"
   ]
  },
  {
   "cell_type": "code",
   "execution_count": 59,
   "id": "6dd7660b",
   "metadata": {
    "execution": {
     "iopub.execute_input": "2023-12-25T14:50:20.738395Z",
     "iopub.status.busy": "2023-12-25T14:50:20.738055Z",
     "iopub.status.idle": "2023-12-25T14:50:32.241819Z",
     "shell.execute_reply": "2023-12-25T14:50:32.241064Z"
    },
    "papermill": {
     "duration": 11.53524,
     "end_time": "2023-12-25T14:50:32.244172",
     "exception": false,
     "start_time": "2023-12-25T14:50:20.708932",
     "status": "completed"
    },
    "tags": []
   },
   "outputs": [],
   "source": [
    "RFC_train = RFC.predict(X_resampled) \n",
    "RFC_test =  RFC.predict(test)"
   ]
  },
  {
   "cell_type": "code",
   "execution_count": 60,
   "id": "9bba3fa4",
   "metadata": {
    "execution": {
     "iopub.execute_input": "2023-12-25T14:50:32.300496Z",
     "iopub.status.busy": "2023-12-25T14:50:32.300155Z",
     "iopub.status.idle": "2023-12-25T14:50:32.635998Z",
     "shell.execute_reply": "2023-12-25T14:50:32.635086Z"
    },
    "papermill": {
     "duration": 0.366533,
     "end_time": "2023-12-25T14:50:32.638372",
     "exception": false,
     "start_time": "2023-12-25T14:50:32.271839",
     "status": "completed"
    },
    "tags": []
   },
   "outputs": [
    {
     "name": "stdout",
     "output_type": "stream",
     "text": [
      "<<<<<< Train >>>>>>\n",
      "confusion_matrix :\n",
      " [[158049      0]\n",
      " [     0 158049]]\n",
      "Accuracy : 1.0\n",
      "precision_score : 1.0\n",
      "recall_score : 1.0\n",
      "\n",
      "\n",
      "<<<<<< Test >>>>>>\n",
      "confusion_matrix :\n",
      " [[64069  3576]\n",
      " [ 7048  1912]]\n",
      "Accuracy : 0.8613145356047256\n",
      "precision_score : 0.34839650145772594\n",
      "recall_score : 0.21339285714285713\n"
     ]
    }
   ],
   "source": [
    "metrics_(y_resampled, RFC_train, y_test, RFC_test)"
   ]
  },
  {
   "cell_type": "code",
   "execution_count": 61,
   "id": "2e28f2e0",
   "metadata": {
    "execution": {
     "iopub.execute_input": "2023-12-25T14:50:32.694739Z",
     "iopub.status.busy": "2023-12-25T14:50:32.694444Z",
     "iopub.status.idle": "2023-12-25T14:50:32.700575Z",
     "shell.execute_reply": "2023-12-25T14:50:32.699743Z"
    },
    "papermill": {
     "duration": 0.036371,
     "end_time": "2023-12-25T14:50:32.702411",
     "exception": false,
     "start_time": "2023-12-25T14:50:32.666040",
     "status": "completed"
    },
    "tags": []
   },
   "outputs": [
    {
     "data": {
      "text/plain": [
       "{'bootstrap': True,\n",
       " 'ccp_alpha': 0.0,\n",
       " 'class_weight': None,\n",
       " 'criterion': 'gini',\n",
       " 'max_depth': None,\n",
       " 'max_features': 'sqrt',\n",
       " 'max_leaf_nodes': None,\n",
       " 'max_samples': None,\n",
       " 'min_impurity_decrease': 0.0,\n",
       " 'min_samples_leaf': 1,\n",
       " 'min_samples_split': 2,\n",
       " 'min_weight_fraction_leaf': 0.0,\n",
       " 'n_estimators': 100,\n",
       " 'n_jobs': None,\n",
       " 'oob_score': False,\n",
       " 'random_state': None,\n",
       " 'verbose': 0,\n",
       " 'warm_start': False}"
      ]
     },
     "execution_count": 61,
     "metadata": {},
     "output_type": "execute_result"
    }
   ],
   "source": [
    "RFC.get_params()"
   ]
  },
  {
   "cell_type": "code",
   "execution_count": 62,
   "id": "7ed7e84d",
   "metadata": {
    "execution": {
     "iopub.execute_input": "2023-12-25T14:50:32.758354Z",
     "iopub.status.busy": "2023-12-25T14:50:32.758088Z",
     "iopub.status.idle": "2023-12-25T14:50:32.773100Z",
     "shell.execute_reply": "2023-12-25T14:50:32.772428Z"
    },
    "papermill": {
     "duration": 0.045199,
     "end_time": "2023-12-25T14:50:32.775101",
     "exception": false,
     "start_time": "2023-12-25T14:50:32.729902",
     "status": "completed"
    },
    "tags": []
   },
   "outputs": [],
   "source": [
    "from sklearn.feature_selection import SelectKBest, f_classif"
   ]
  },
  {
   "cell_type": "code",
   "execution_count": 63,
   "id": "6cc992ac",
   "metadata": {
    "execution": {
     "iopub.execute_input": "2023-12-25T14:50:32.830501Z",
     "iopub.status.busy": "2023-12-25T14:50:32.830192Z",
     "iopub.status.idle": "2023-12-25T14:52:07.676007Z",
     "shell.execute_reply": "2023-12-25T14:52:07.675069Z"
    },
    "papermill": {
     "duration": 94.903043,
     "end_time": "2023-12-25T14:52:07.705324",
     "exception": false,
     "start_time": "2023-12-25T14:50:32.802281",
     "status": "completed"
    },
    "tags": []
   },
   "outputs": [
    {
     "name": "stdout",
     "output_type": "stream",
     "text": [
      "Accuracy on the selected features: 0.8058742901899354\n"
     ]
    }
   ],
   "source": [
    "# Feature selection using SelectKBest and f_classif (you can choose other methods)\n",
    "k_best = SelectKBest(score_func=f_classif, k=10)\n",
    "X_train_selected = k_best.fit_transform(X_resampled, y_resampled)\n",
    "X_test_selected = k_best.transform(test)\n",
    "\n",
    "# Train a classifier (Random Forest for example) on the selected features\n",
    "clf = RandomForestClassifier(random_state=42)\n",
    "clf.fit(X_train_selected, y_resampled)\n",
    "\n",
    "# Make predictions on the test set\n",
    "y_pred = clf.predict(X_test_selected)\n",
    "\n",
    "# Evaluate accuracy\n",
    "accuracy = accuracy_score(y_test, y_pred)\n",
    "print(\"Accuracy on the selected features:\", accuracy)"
   ]
  },
  {
   "cell_type": "code",
   "execution_count": 64,
   "id": "d88050f3",
   "metadata": {
    "execution": {
     "iopub.execute_input": "2023-12-25T14:52:07.761972Z",
     "iopub.status.busy": "2023-12-25T14:52:07.761669Z",
     "iopub.status.idle": "2023-12-25T14:52:07.767309Z",
     "shell.execute_reply": "2023-12-25T14:52:07.766603Z"
    },
    "papermill": {
     "duration": 0.037963,
     "end_time": "2023-12-25T14:52:07.770664",
     "exception": false,
     "start_time": "2023-12-25T14:52:07.732701",
     "status": "completed"
    },
    "tags": []
   },
   "outputs": [],
   "source": [
    "from sklearn.naive_bayes import MultinomialNB\n",
    "nb_classifier = MultinomialNB()"
   ]
  },
  {
   "cell_type": "code",
   "execution_count": 65,
   "id": "7ad797d7",
   "metadata": {
    "execution": {
     "iopub.execute_input": "2023-12-25T14:52:07.828288Z",
     "iopub.status.busy": "2023-12-25T14:52:07.827974Z",
     "iopub.status.idle": "2023-12-25T14:52:07.831941Z",
     "shell.execute_reply": "2023-12-25T14:52:07.831246Z"
    },
    "papermill": {
     "duration": 0.035019,
     "end_time": "2023-12-25T14:52:07.833824",
     "exception": false,
     "start_time": "2023-12-25T14:52:07.798805",
     "status": "completed"
    },
    "tags": []
   },
   "outputs": [],
   "source": [
    "from sklearn.neighbors import KNeighborsClassifier"
   ]
  },
  {
   "cell_type": "code",
   "execution_count": 66,
   "id": "f10d11f7",
   "metadata": {
    "execution": {
     "iopub.execute_input": "2023-12-25T14:52:07.891818Z",
     "iopub.status.busy": "2023-12-25T14:52:07.891541Z",
     "iopub.status.idle": "2023-12-25T14:52:07.895150Z",
     "shell.execute_reply": "2023-12-25T14:52:07.894347Z"
    },
    "papermill": {
     "duration": 0.034493,
     "end_time": "2023-12-25T14:52:07.896937",
     "exception": false,
     "start_time": "2023-12-25T14:52:07.862444",
     "status": "completed"
    },
    "tags": []
   },
   "outputs": [],
   "source": [
    "# Choose the value of k (number of neighbors)\n",
    "k = 23"
   ]
  },
  {
   "cell_type": "code",
   "execution_count": 67,
   "id": "427261fe",
   "metadata": {
    "execution": {
     "iopub.execute_input": "2023-12-25T14:52:07.952877Z",
     "iopub.status.busy": "2023-12-25T14:52:07.952613Z",
     "iopub.status.idle": "2023-12-25T14:53:54.891004Z",
     "shell.execute_reply": "2023-12-25T14:53:54.889939Z"
    },
    "papermill": {
     "duration": 106.997346,
     "end_time": "2023-12-25T14:53:54.921776",
     "exception": false,
     "start_time": "2023-12-25T14:52:07.924430",
     "status": "completed"
    },
    "tags": []
   },
   "outputs": [
    {
     "name": "stdout",
     "output_type": "stream",
     "text": [
      "Accuracy: 0.8836890542392795\n"
     ]
    }
   ],
   "source": [
    "knn_classifier = KNeighborsClassifier(n_neighbors=k)\n",
    "\n",
    "# Train the classifier\n",
    "knn_classifier.fit(train, y_train)\n",
    "y_tpred = knn_classifier.predict(train)\n",
    "# Make predictions on the test set\n",
    "y_pred = knn_classifier.predict(test)\n",
    "\n",
    "# Evaluate the classifier\n",
    "accuracy = accuracy_score(y_test, y_pred)\n",
    "print(\"Accuracy:\", accuracy)"
   ]
  },
  {
   "cell_type": "code",
   "execution_count": 68,
   "id": "527becd0",
   "metadata": {
    "execution": {
     "iopub.execute_input": "2023-12-25T14:53:54.997539Z",
     "iopub.status.busy": "2023-12-25T14:53:54.997166Z",
     "iopub.status.idle": "2023-12-25T14:53:55.226114Z",
     "shell.execute_reply": "2023-12-25T14:53:55.224963Z"
    },
    "papermill": {
     "duration": 0.26763,
     "end_time": "2023-12-25T14:53:55.228706",
     "exception": false,
     "start_time": "2023-12-25T14:53:54.961076",
     "status": "completed"
    },
    "tags": []
   },
   "outputs": [
    {
     "name": "stdout",
     "output_type": "stream",
     "text": [
      "<<<<<< Train >>>>>>\n",
      "confusion_matrix :\n",
      " [[157836    213]\n",
      " [ 20178    515]]\n",
      "Accuracy : 0.8859193698179499\n",
      "precision_score : 0.7074175824175825\n",
      "recall_score : 0.024887643164355096\n",
      "\n",
      "\n",
      "<<<<<< Test >>>>>>\n",
      "confusion_matrix :\n",
      " [[67527   118]\n",
      " [ 8792   168]]\n",
      "Accuracy : 0.8836890542392795\n",
      "precision_score : 0.5874125874125874\n",
      "recall_score : 0.01875\n"
     ]
    }
   ],
   "source": [
    "metrics_(y_train, y_tpred, y_test, y_pred)"
   ]
  },
  {
   "cell_type": "code",
   "execution_count": null,
   "id": "cb09bc10",
   "metadata": {
    "papermill": {
     "duration": 0.028762,
     "end_time": "2023-12-25T14:53:55.290988",
     "exception": false,
     "start_time": "2023-12-25T14:53:55.262226",
     "status": "completed"
    },
    "tags": []
   },
   "outputs": [],
   "source": []
  },
  {
   "cell_type": "code",
   "execution_count": null,
   "id": "fa2d945d",
   "metadata": {
    "papermill": {
     "duration": 0.027857,
     "end_time": "2023-12-25T14:53:55.347452",
     "exception": false,
     "start_time": "2023-12-25T14:53:55.319595",
     "status": "completed"
    },
    "tags": []
   },
   "outputs": [],
   "source": []
  }
 ],
 "metadata": {
  "kaggle": {
   "accelerator": "gpu",
   "dataSources": [
    {
     "datasetId": 3725579,
     "sourceId": 6453754,
     "sourceType": "datasetVersion"
    }
   ],
   "dockerImageVersionId": 30626,
   "isGpuEnabled": true,
   "isInternetEnabled": true,
   "language": "python",
   "sourceType": "notebook"
  },
  "kernelspec": {
   "display_name": "Python 3",
   "language": "python",
   "name": "python3"
  },
  "language_info": {
   "codemirror_mode": {
    "name": "ipython",
    "version": 3
   },
   "file_extension": ".py",
   "mimetype": "text/x-python",
   "name": "python",
   "nbconvert_exporter": "python",
   "pygments_lexer": "ipython3",
   "version": "3.10.12"
  },
  "papermill": {
   "default_parameters": {},
   "duration": 329.848288,
   "end_time": "2023-12-25T14:53:55.996725",
   "environment_variables": {},
   "exception": null,
   "input_path": "__notebook__.ipynb",
   "output_path": "__notebook__.ipynb",
   "parameters": {},
   "start_time": "2023-12-25T14:48:26.148437",
   "version": "2.4.0"
  }
 },
 "nbformat": 4,
 "nbformat_minor": 5
}
