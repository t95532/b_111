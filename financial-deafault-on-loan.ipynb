{
 "cells": [
  {
   "cell_type": "code",
   "execution_count": 1,
   "id": "10b8a4e3",
   "metadata": {
    "_cell_guid": "b1076dfc-b9ad-4769-8c92-a6c4dae69d19",
    "_uuid": "8f2839f25d086af736a60e9eeb907d3b93b6e0e5",
    "execution": {
     "iopub.execute_input": "2023-12-24T16:49:32.664231Z",
     "iopub.status.busy": "2023-12-24T16:49:32.663904Z",
     "iopub.status.idle": "2023-12-24T16:49:33.411613Z",
     "shell.execute_reply": "2023-12-24T16:49:33.410304Z"
    },
    "papermill": {
     "duration": 0.765864,
     "end_time": "2023-12-24T16:49:33.413997",
     "exception": false,
     "start_time": "2023-12-24T16:49:32.648133",
     "status": "completed"
    },
    "tags": []
   },
   "outputs": [
    {
     "name": "stdout",
     "output_type": "stream",
     "text": [
      "/kaggle/input/loan-default/Loan_default.csv\n"
     ]
    }
   ],
   "source": [
    "# This Python 3 environment comes with many helpful analytics libraries installed\n",
    "# It is defined by the kaggle/python Docker image: https://github.com/kaggle/docker-python\n",
    "# For example, here's several helpful packages to load\n",
    "\n",
    "import numpy as np # linear algebra\n",
    "import pandas as pd # data processing, CSV file I/O (e.g. pd.read_csv)\n",
    "\n",
    "# Input data files are available in the read-only \"../input/\" directory\n",
    "# For example, running this (by clicking run or pressing Shift+Enter) will list all files under the input directory\n",
    "\n",
    "import os\n",
    "for dirname, _, filenames in os.walk('/kaggle/input'):\n",
    "    for filename in filenames:\n",
    "        print(os.path.join(dirname, filename))\n",
    "\n",
    "# You can write up to 20GB to the current directory (/kaggle/working/) that gets preserved as output when you create a version using \"Save & Run All\" \n",
    "# You can also write temporary files to /kaggle/temp/, but they won't be saved outside of the current session"
   ]
  },
  {
   "cell_type": "code",
   "execution_count": 2,
   "id": "5ab336d6",
   "metadata": {
    "execution": {
     "iopub.execute_input": "2023-12-24T16:49:33.446505Z",
     "iopub.status.busy": "2023-12-24T16:49:33.445639Z",
     "iopub.status.idle": "2023-12-24T16:49:34.534622Z",
     "shell.execute_reply": "2023-12-24T16:49:34.533629Z"
    },
    "papermill": {
     "duration": 1.108043,
     "end_time": "2023-12-24T16:49:34.537104",
     "exception": false,
     "start_time": "2023-12-24T16:49:33.429061",
     "status": "completed"
    },
    "tags": []
   },
   "outputs": [],
   "source": [
    "data = pd.read_csv('/kaggle/input/loan-default/Loan_default.csv')"
   ]
  },
  {
   "cell_type": "code",
   "execution_count": 3,
   "id": "ad9d549d",
   "metadata": {
    "execution": {
     "iopub.execute_input": "2023-12-24T16:49:34.567715Z",
     "iopub.status.busy": "2023-12-24T16:49:34.567312Z",
     "iopub.status.idle": "2023-12-24T16:49:34.602496Z",
     "shell.execute_reply": "2023-12-24T16:49:34.601441Z"
    },
    "papermill": {
     "duration": 0.053022,
     "end_time": "2023-12-24T16:49:34.604857",
     "exception": false,
     "start_time": "2023-12-24T16:49:34.551835",
     "status": "completed"
    },
    "tags": []
   },
   "outputs": [
    {
     "data": {
      "text/html": [
       "<div>\n",
       "<style scoped>\n",
       "    .dataframe tbody tr th:only-of-type {\n",
       "        vertical-align: middle;\n",
       "    }\n",
       "\n",
       "    .dataframe tbody tr th {\n",
       "        vertical-align: top;\n",
       "    }\n",
       "\n",
       "    .dataframe thead th {\n",
       "        text-align: right;\n",
       "    }\n",
       "</style>\n",
       "<table border=\"1\" class=\"dataframe\">\n",
       "  <thead>\n",
       "    <tr style=\"text-align: right;\">\n",
       "      <th></th>\n",
       "      <th>LoanID</th>\n",
       "      <th>Age</th>\n",
       "      <th>Income</th>\n",
       "      <th>LoanAmount</th>\n",
       "      <th>CreditScore</th>\n",
       "      <th>MonthsEmployed</th>\n",
       "      <th>NumCreditLines</th>\n",
       "      <th>InterestRate</th>\n",
       "      <th>LoanTerm</th>\n",
       "      <th>DTIRatio</th>\n",
       "      <th>Education</th>\n",
       "      <th>EmploymentType</th>\n",
       "      <th>MaritalStatus</th>\n",
       "      <th>HasMortgage</th>\n",
       "      <th>HasDependents</th>\n",
       "      <th>LoanPurpose</th>\n",
       "      <th>HasCoSigner</th>\n",
       "      <th>Default</th>\n",
       "    </tr>\n",
       "  </thead>\n",
       "  <tbody>\n",
       "    <tr>\n",
       "      <th>0</th>\n",
       "      <td>I38PQUQS96</td>\n",
       "      <td>56</td>\n",
       "      <td>85994</td>\n",
       "      <td>50587</td>\n",
       "      <td>520</td>\n",
       "      <td>80</td>\n",
       "      <td>4</td>\n",
       "      <td>15.23</td>\n",
       "      <td>36</td>\n",
       "      <td>0.44</td>\n",
       "      <td>Bachelor's</td>\n",
       "      <td>Full-time</td>\n",
       "      <td>Divorced</td>\n",
       "      <td>Yes</td>\n",
       "      <td>Yes</td>\n",
       "      <td>Other</td>\n",
       "      <td>Yes</td>\n",
       "      <td>0</td>\n",
       "    </tr>\n",
       "    <tr>\n",
       "      <th>1</th>\n",
       "      <td>HPSK72WA7R</td>\n",
       "      <td>69</td>\n",
       "      <td>50432</td>\n",
       "      <td>124440</td>\n",
       "      <td>458</td>\n",
       "      <td>15</td>\n",
       "      <td>1</td>\n",
       "      <td>4.81</td>\n",
       "      <td>60</td>\n",
       "      <td>0.68</td>\n",
       "      <td>Master's</td>\n",
       "      <td>Full-time</td>\n",
       "      <td>Married</td>\n",
       "      <td>No</td>\n",
       "      <td>No</td>\n",
       "      <td>Other</td>\n",
       "      <td>Yes</td>\n",
       "      <td>0</td>\n",
       "    </tr>\n",
       "    <tr>\n",
       "      <th>2</th>\n",
       "      <td>C1OZ6DPJ8Y</td>\n",
       "      <td>46</td>\n",
       "      <td>84208</td>\n",
       "      <td>129188</td>\n",
       "      <td>451</td>\n",
       "      <td>26</td>\n",
       "      <td>3</td>\n",
       "      <td>21.17</td>\n",
       "      <td>24</td>\n",
       "      <td>0.31</td>\n",
       "      <td>Master's</td>\n",
       "      <td>Unemployed</td>\n",
       "      <td>Divorced</td>\n",
       "      <td>Yes</td>\n",
       "      <td>Yes</td>\n",
       "      <td>Auto</td>\n",
       "      <td>No</td>\n",
       "      <td>1</td>\n",
       "    </tr>\n",
       "    <tr>\n",
       "      <th>3</th>\n",
       "      <td>V2KKSFM3UN</td>\n",
       "      <td>32</td>\n",
       "      <td>31713</td>\n",
       "      <td>44799</td>\n",
       "      <td>743</td>\n",
       "      <td>0</td>\n",
       "      <td>3</td>\n",
       "      <td>7.07</td>\n",
       "      <td>24</td>\n",
       "      <td>0.23</td>\n",
       "      <td>High School</td>\n",
       "      <td>Full-time</td>\n",
       "      <td>Married</td>\n",
       "      <td>No</td>\n",
       "      <td>No</td>\n",
       "      <td>Business</td>\n",
       "      <td>No</td>\n",
       "      <td>0</td>\n",
       "    </tr>\n",
       "    <tr>\n",
       "      <th>4</th>\n",
       "      <td>EY08JDHTZP</td>\n",
       "      <td>60</td>\n",
       "      <td>20437</td>\n",
       "      <td>9139</td>\n",
       "      <td>633</td>\n",
       "      <td>8</td>\n",
       "      <td>4</td>\n",
       "      <td>6.51</td>\n",
       "      <td>48</td>\n",
       "      <td>0.73</td>\n",
       "      <td>Bachelor's</td>\n",
       "      <td>Unemployed</td>\n",
       "      <td>Divorced</td>\n",
       "      <td>No</td>\n",
       "      <td>Yes</td>\n",
       "      <td>Auto</td>\n",
       "      <td>No</td>\n",
       "      <td>0</td>\n",
       "    </tr>\n",
       "    <tr>\n",
       "      <th>...</th>\n",
       "      <td>...</td>\n",
       "      <td>...</td>\n",
       "      <td>...</td>\n",
       "      <td>...</td>\n",
       "      <td>...</td>\n",
       "      <td>...</td>\n",
       "      <td>...</td>\n",
       "      <td>...</td>\n",
       "      <td>...</td>\n",
       "      <td>...</td>\n",
       "      <td>...</td>\n",
       "      <td>...</td>\n",
       "      <td>...</td>\n",
       "      <td>...</td>\n",
       "      <td>...</td>\n",
       "      <td>...</td>\n",
       "      <td>...</td>\n",
       "      <td>...</td>\n",
       "    </tr>\n",
       "    <tr>\n",
       "      <th>255342</th>\n",
       "      <td>8C6S86ESGC</td>\n",
       "      <td>19</td>\n",
       "      <td>37979</td>\n",
       "      <td>210682</td>\n",
       "      <td>541</td>\n",
       "      <td>109</td>\n",
       "      <td>4</td>\n",
       "      <td>14.11</td>\n",
       "      <td>12</td>\n",
       "      <td>0.85</td>\n",
       "      <td>Bachelor's</td>\n",
       "      <td>Full-time</td>\n",
       "      <td>Married</td>\n",
       "      <td>No</td>\n",
       "      <td>No</td>\n",
       "      <td>Other</td>\n",
       "      <td>No</td>\n",
       "      <td>0</td>\n",
       "    </tr>\n",
       "    <tr>\n",
       "      <th>255343</th>\n",
       "      <td>98R4KDHNND</td>\n",
       "      <td>32</td>\n",
       "      <td>51953</td>\n",
       "      <td>189899</td>\n",
       "      <td>511</td>\n",
       "      <td>14</td>\n",
       "      <td>2</td>\n",
       "      <td>11.55</td>\n",
       "      <td>24</td>\n",
       "      <td>0.21</td>\n",
       "      <td>High School</td>\n",
       "      <td>Part-time</td>\n",
       "      <td>Divorced</td>\n",
       "      <td>No</td>\n",
       "      <td>No</td>\n",
       "      <td>Home</td>\n",
       "      <td>No</td>\n",
       "      <td>1</td>\n",
       "    </tr>\n",
       "    <tr>\n",
       "      <th>255344</th>\n",
       "      <td>XQK1UUUNGP</td>\n",
       "      <td>56</td>\n",
       "      <td>84820</td>\n",
       "      <td>208294</td>\n",
       "      <td>597</td>\n",
       "      <td>70</td>\n",
       "      <td>3</td>\n",
       "      <td>5.29</td>\n",
       "      <td>60</td>\n",
       "      <td>0.50</td>\n",
       "      <td>High School</td>\n",
       "      <td>Self-employed</td>\n",
       "      <td>Married</td>\n",
       "      <td>Yes</td>\n",
       "      <td>Yes</td>\n",
       "      <td>Auto</td>\n",
       "      <td>Yes</td>\n",
       "      <td>0</td>\n",
       "    </tr>\n",
       "    <tr>\n",
       "      <th>255345</th>\n",
       "      <td>JAO28CPL4H</td>\n",
       "      <td>42</td>\n",
       "      <td>85109</td>\n",
       "      <td>60575</td>\n",
       "      <td>809</td>\n",
       "      <td>40</td>\n",
       "      <td>1</td>\n",
       "      <td>20.90</td>\n",
       "      <td>48</td>\n",
       "      <td>0.44</td>\n",
       "      <td>High School</td>\n",
       "      <td>Part-time</td>\n",
       "      <td>Single</td>\n",
       "      <td>Yes</td>\n",
       "      <td>Yes</td>\n",
       "      <td>Other</td>\n",
       "      <td>No</td>\n",
       "      <td>0</td>\n",
       "    </tr>\n",
       "    <tr>\n",
       "      <th>255346</th>\n",
       "      <td>ZTH91CGL0B</td>\n",
       "      <td>62</td>\n",
       "      <td>22418</td>\n",
       "      <td>18481</td>\n",
       "      <td>636</td>\n",
       "      <td>113</td>\n",
       "      <td>2</td>\n",
       "      <td>6.73</td>\n",
       "      <td>12</td>\n",
       "      <td>0.48</td>\n",
       "      <td>Bachelor's</td>\n",
       "      <td>Unemployed</td>\n",
       "      <td>Divorced</td>\n",
       "      <td>Yes</td>\n",
       "      <td>No</td>\n",
       "      <td>Education</td>\n",
       "      <td>Yes</td>\n",
       "      <td>0</td>\n",
       "    </tr>\n",
       "  </tbody>\n",
       "</table>\n",
       "<p>255347 rows × 18 columns</p>\n",
       "</div>"
      ],
      "text/plain": [
       "            LoanID  Age  Income  LoanAmount  CreditScore  MonthsEmployed  \\\n",
       "0       I38PQUQS96   56   85994       50587          520              80   \n",
       "1       HPSK72WA7R   69   50432      124440          458              15   \n",
       "2       C1OZ6DPJ8Y   46   84208      129188          451              26   \n",
       "3       V2KKSFM3UN   32   31713       44799          743               0   \n",
       "4       EY08JDHTZP   60   20437        9139          633               8   \n",
       "...            ...  ...     ...         ...          ...             ...   \n",
       "255342  8C6S86ESGC   19   37979      210682          541             109   \n",
       "255343  98R4KDHNND   32   51953      189899          511              14   \n",
       "255344  XQK1UUUNGP   56   84820      208294          597              70   \n",
       "255345  JAO28CPL4H   42   85109       60575          809              40   \n",
       "255346  ZTH91CGL0B   62   22418       18481          636             113   \n",
       "\n",
       "        NumCreditLines  InterestRate  LoanTerm  DTIRatio    Education  \\\n",
       "0                    4         15.23        36      0.44   Bachelor's   \n",
       "1                    1          4.81        60      0.68     Master's   \n",
       "2                    3         21.17        24      0.31     Master's   \n",
       "3                    3          7.07        24      0.23  High School   \n",
       "4                    4          6.51        48      0.73   Bachelor's   \n",
       "...                ...           ...       ...       ...          ...   \n",
       "255342               4         14.11        12      0.85   Bachelor's   \n",
       "255343               2         11.55        24      0.21  High School   \n",
       "255344               3          5.29        60      0.50  High School   \n",
       "255345               1         20.90        48      0.44  High School   \n",
       "255346               2          6.73        12      0.48   Bachelor's   \n",
       "\n",
       "       EmploymentType MaritalStatus HasMortgage HasDependents LoanPurpose  \\\n",
       "0           Full-time      Divorced         Yes           Yes       Other   \n",
       "1           Full-time       Married          No            No       Other   \n",
       "2          Unemployed      Divorced         Yes           Yes        Auto   \n",
       "3           Full-time       Married          No            No    Business   \n",
       "4          Unemployed      Divorced          No           Yes        Auto   \n",
       "...               ...           ...         ...           ...         ...   \n",
       "255342      Full-time       Married          No            No       Other   \n",
       "255343      Part-time      Divorced          No            No        Home   \n",
       "255344  Self-employed       Married         Yes           Yes        Auto   \n",
       "255345      Part-time        Single         Yes           Yes       Other   \n",
       "255346     Unemployed      Divorced         Yes            No   Education   \n",
       "\n",
       "       HasCoSigner  Default  \n",
       "0              Yes        0  \n",
       "1              Yes        0  \n",
       "2               No        1  \n",
       "3               No        0  \n",
       "4               No        0  \n",
       "...            ...      ...  \n",
       "255342          No        0  \n",
       "255343          No        1  \n",
       "255344         Yes        0  \n",
       "255345          No        0  \n",
       "255346         Yes        0  \n",
       "\n",
       "[255347 rows x 18 columns]"
      ]
     },
     "execution_count": 3,
     "metadata": {},
     "output_type": "execute_result"
    }
   ],
   "source": [
    "data"
   ]
  },
  {
   "cell_type": "code",
   "execution_count": 4,
   "id": "e527a843",
   "metadata": {
    "execution": {
     "iopub.execute_input": "2023-12-24T16:49:34.636973Z",
     "iopub.status.busy": "2023-12-24T16:49:34.636549Z",
     "iopub.status.idle": "2023-12-24T16:49:34.845248Z",
     "shell.execute_reply": "2023-12-24T16:49:34.844102Z"
    },
    "papermill": {
     "duration": 0.227611,
     "end_time": "2023-12-24T16:49:34.847666",
     "exception": false,
     "start_time": "2023-12-24T16:49:34.620055",
     "status": "completed"
    },
    "tags": []
   },
   "outputs": [
    {
     "name": "stdout",
     "output_type": "stream",
     "text": [
      "<class 'pandas.core.frame.DataFrame'>\n",
      "RangeIndex: 255347 entries, 0 to 255346\n",
      "Data columns (total 18 columns):\n",
      " #   Column          Non-Null Count   Dtype  \n",
      "---  ------          --------------   -----  \n",
      " 0   LoanID          255347 non-null  object \n",
      " 1   Age             255347 non-null  int64  \n",
      " 2   Income          255347 non-null  int64  \n",
      " 3   LoanAmount      255347 non-null  int64  \n",
      " 4   CreditScore     255347 non-null  int64  \n",
      " 5   MonthsEmployed  255347 non-null  int64  \n",
      " 6   NumCreditLines  255347 non-null  int64  \n",
      " 7   InterestRate    255347 non-null  float64\n",
      " 8   LoanTerm        255347 non-null  int64  \n",
      " 9   DTIRatio        255347 non-null  float64\n",
      " 10  Education       255347 non-null  object \n",
      " 11  EmploymentType  255347 non-null  object \n",
      " 12  MaritalStatus   255347 non-null  object \n",
      " 13  HasMortgage     255347 non-null  object \n",
      " 14  HasDependents   255347 non-null  object \n",
      " 15  LoanPurpose     255347 non-null  object \n",
      " 16  HasCoSigner     255347 non-null  object \n",
      " 17  Default         255347 non-null  int64  \n",
      "dtypes: float64(2), int64(8), object(8)\n",
      "memory usage: 35.1+ MB\n"
     ]
    }
   ],
   "source": [
    "data.info()"
   ]
  },
  {
   "cell_type": "code",
   "execution_count": 5,
   "id": "3e8303b6",
   "metadata": {
    "execution": {
     "iopub.execute_input": "2023-12-24T16:49:34.878608Z",
     "iopub.status.busy": "2023-12-24T16:49:34.878294Z",
     "iopub.status.idle": "2023-12-24T16:49:35.124915Z",
     "shell.execute_reply": "2023-12-24T16:49:35.124026Z"
    },
    "papermill": {
     "duration": 0.264395,
     "end_time": "2023-12-24T16:49:35.127263",
     "exception": false,
     "start_time": "2023-12-24T16:49:34.862868",
     "status": "completed"
    },
    "tags": []
   },
   "outputs": [
    {
     "data": {
      "text/plain": [
       "0"
      ]
     },
     "execution_count": 5,
     "metadata": {},
     "output_type": "execute_result"
    }
   ],
   "source": [
    "#checking for duplicate columns\n",
    "data.duplicated().sum()"
   ]
  },
  {
   "cell_type": "code",
   "execution_count": 6,
   "id": "31dd2c5d",
   "metadata": {
    "execution": {
     "iopub.execute_input": "2023-12-24T16:49:35.158288Z",
     "iopub.status.busy": "2023-12-24T16:49:35.157978Z",
     "iopub.status.idle": "2023-12-24T16:49:35.341672Z",
     "shell.execute_reply": "2023-12-24T16:49:35.340791Z"
    },
    "papermill": {
     "duration": 0.201645,
     "end_time": "2023-12-24T16:49:35.343816",
     "exception": false,
     "start_time": "2023-12-24T16:49:35.142171",
     "status": "completed"
    },
    "tags": []
   },
   "outputs": [
    {
     "data": {
      "text/plain": [
       "LoanID            0\n",
       "Age               0\n",
       "Income            0\n",
       "LoanAmount        0\n",
       "CreditScore       0\n",
       "MonthsEmployed    0\n",
       "NumCreditLines    0\n",
       "InterestRate      0\n",
       "LoanTerm          0\n",
       "DTIRatio          0\n",
       "Education         0\n",
       "EmploymentType    0\n",
       "MaritalStatus     0\n",
       "HasMortgage       0\n",
       "HasDependents     0\n",
       "LoanPurpose       0\n",
       "HasCoSigner       0\n",
       "Default           0\n",
       "dtype: int64"
      ]
     },
     "execution_count": 6,
     "metadata": {},
     "output_type": "execute_result"
    }
   ],
   "source": [
    "#checking for the null values\n",
    "data.isnull().sum()"
   ]
  },
  {
   "cell_type": "code",
   "execution_count": 7,
   "id": "4e6de89b",
   "metadata": {
    "execution": {
     "iopub.execute_input": "2023-12-24T16:49:35.374768Z",
     "iopub.status.busy": "2023-12-24T16:49:35.374442Z",
     "iopub.status.idle": "2023-12-24T16:49:36.322383Z",
     "shell.execute_reply": "2023-12-24T16:49:36.321363Z"
    },
    "papermill": {
     "duration": 0.965894,
     "end_time": "2023-12-24T16:49:36.324794",
     "exception": false,
     "start_time": "2023-12-24T16:49:35.358900",
     "status": "completed"
    },
    "tags": []
   },
   "outputs": [
    {
     "name": "stderr",
     "output_type": "stream",
     "text": [
      "/opt/conda/lib/python3.10/site-packages/scipy/__init__.py:146: UserWarning: A NumPy version >=1.16.5 and <1.23.0 is required for this version of SciPy (detected version 1.24.3\n",
      "  warnings.warn(f\"A NumPy version >={np_minversion} and <{np_maxversion}\"\n"
     ]
    }
   ],
   "source": [
    "import seaborn as sns\n",
    "import matplotlib.pyplot as plt"
   ]
  },
  {
   "cell_type": "code",
   "execution_count": 8,
   "id": "62057fee",
   "metadata": {
    "execution": {
     "iopub.execute_input": "2023-12-24T16:49:36.357214Z",
     "iopub.status.busy": "2023-12-24T16:49:36.356920Z",
     "iopub.status.idle": "2023-12-24T16:49:37.613818Z",
     "shell.execute_reply": "2023-12-24T16:49:37.612910Z"
    },
    "papermill": {
     "duration": 1.275117,
     "end_time": "2023-12-24T16:49:37.616148",
     "exception": false,
     "start_time": "2023-12-24T16:49:36.341031",
     "status": "completed"
    },
    "tags": []
   },
   "outputs": [
    {
     "data": {
      "text/plain": [
       "<Axes: >"
      ]
     },
     "execution_count": 8,
     "metadata": {},
     "output_type": "execute_result"
    },
    {
     "data": {
      "image/png": "[encoded data removed]",
      "text/plain": [
       "<Figure size 1200x800 with 1 Axes>"
      ]
     },
     "metadata": {},
     "output_type": "display_data"
    }
   ],
   "source": [
    "#Addressing Outliers\n",
    "plt.figure(figsize=(12,8))\n",
    "sns.boxplot(data)"
   ]
  },
  {
   "cell_type": "code",
   "execution_count": 9,
   "id": "659d397b",
   "metadata": {
    "execution": {
     "iopub.execute_input": "2023-12-24T16:49:37.650537Z",
     "iopub.status.busy": "2023-12-24T16:49:37.650213Z",
     "iopub.status.idle": "2023-12-24T16:49:37.872578Z",
     "shell.execute_reply": "2023-12-24T16:49:37.871604Z"
    },
    "papermill": {
     "duration": 0.241369,
     "end_time": "2023-12-24T16:49:37.874704",
     "exception": false,
     "start_time": "2023-12-24T16:49:37.633335",
     "status": "completed"
    },
    "tags": []
   },
   "outputs": [
    {
     "data": {
      "text/plain": [
       "<Axes: xlabel='Default', ylabel='count'>"
      ]
     },
     "execution_count": 9,
     "metadata": {},
     "output_type": "execute_result"
    },
    {
     "data": {
      "image/png": "[encoded data removed]",
      "text/plain": [
       "<Figure size 640x480 with 1 Axes>"
      ]
     },
     "metadata": {},
     "output_type": "display_data"
    }
   ],
   "source": [
    "sns.countplot(data=data, x = 'Default')"
   ]
  },
  {
   "cell_type": "code",
   "execution_count": 10,
   "id": "c38c3a52",
   "metadata": {
    "execution": {
     "iopub.execute_input": "2023-12-24T16:49:37.910176Z",
     "iopub.status.busy": "2023-12-24T16:49:37.909312Z",
     "iopub.status.idle": "2023-12-24T16:49:37.991315Z",
     "shell.execute_reply": "2023-12-24T16:49:37.990519Z"
    },
    "papermill": {
     "duration": 0.102474,
     "end_time": "2023-12-24T16:49:37.993777",
     "exception": false,
     "start_time": "2023-12-24T16:49:37.891303",
     "status": "completed"
    },
    "tags": []
   },
   "outputs": [],
   "source": [
    "corr = data.select_dtypes(['int64','float64']).corr()"
   ]
  },
  {
   "cell_type": "code",
   "execution_count": 11,
   "id": "73695b1a",
   "metadata": {
    "execution": {
     "iopub.execute_input": "2023-12-24T16:49:38.071849Z",
     "iopub.status.busy": "2023-12-24T16:49:38.071149Z",
     "iopub.status.idle": "2023-12-24T16:49:38.783430Z",
     "shell.execute_reply": "2023-12-24T16:49:38.782548Z"
    },
    "papermill": {
     "duration": 0.776119,
     "end_time": "2023-12-24T16:49:38.786322",
     "exception": false,
     "start_time": "2023-12-24T16:49:38.010203",
     "status": "completed"
    },
    "tags": []
   },
   "outputs": [
    {
     "data": {
      "text/plain": [
       "<Axes: >"
      ]
     },
     "execution_count": 11,
     "metadata": {},
     "output_type": "execute_result"
    },
    {
     "data": {
      "image/png": "[encoded data removed]",
      "text/plain": [
       "<Figure size 1000x800 with 2 Axes>"
      ]
     },
     "metadata": {},
     "output_type": "display_data"
    }
   ],
   "source": [
    "plt.figure(figsize=(10,8))\n",
    "sns.heatmap(data=corr, annot=True)"
   ]
  },
  {
   "cell_type": "code",
   "execution_count": 12,
   "id": "58ddbda0",
   "metadata": {
    "execution": {
     "iopub.execute_input": "2023-12-24T16:49:38.822781Z",
     "iopub.status.busy": "2023-12-24T16:49:38.822152Z",
     "iopub.status.idle": "2023-12-24T16:49:38.839059Z",
     "shell.execute_reply": "2023-12-24T16:49:38.838201Z"
    },
    "papermill": {
     "duration": 0.037643,
     "end_time": "2023-12-24T16:49:38.841491",
     "exception": false,
     "start_time": "2023-12-24T16:49:38.803848",
     "status": "completed"
    },
    "tags": []
   },
   "outputs": [
    {
     "data": {
      "text/html": [
       "<div>\n",
       "<style scoped>\n",
       "    .dataframe tbody tr th:only-of-type {\n",
       "        vertical-align: middle;\n",
       "    }\n",
       "\n",
       "    .dataframe tbody tr th {\n",
       "        vertical-align: top;\n",
       "    }\n",
       "\n",
       "    .dataframe thead th {\n",
       "        text-align: right;\n",
       "    }\n",
       "</style>\n",
       "<table border=\"1\" class=\"dataframe\">\n",
       "  <thead>\n",
       "    <tr style=\"text-align: right;\">\n",
       "      <th></th>\n",
       "      <th>Age</th>\n",
       "      <th>Income</th>\n",
       "      <th>LoanAmount</th>\n",
       "      <th>CreditScore</th>\n",
       "      <th>MonthsEmployed</th>\n",
       "      <th>NumCreditLines</th>\n",
       "      <th>InterestRate</th>\n",
       "      <th>LoanTerm</th>\n",
       "      <th>DTIRatio</th>\n",
       "      <th>Default</th>\n",
       "    </tr>\n",
       "  </thead>\n",
       "  <tbody>\n",
       "    <tr>\n",
       "      <th>Age</th>\n",
       "      <td>1.000000</td>\n",
       "      <td>-0.001244</td>\n",
       "      <td>-0.002213</td>\n",
       "      <td>-0.000548</td>\n",
       "      <td>-0.000341</td>\n",
       "      <td>-0.000890</td>\n",
       "      <td>-0.001127</td>\n",
       "      <td>0.000263</td>\n",
       "      <td>-0.004689</td>\n",
       "      <td>-0.167783</td>\n",
       "    </tr>\n",
       "    <tr>\n",
       "      <th>Income</th>\n",
       "      <td>-0.001244</td>\n",
       "      <td>1.000000</td>\n",
       "      <td>-0.000865</td>\n",
       "      <td>-0.001430</td>\n",
       "      <td>0.002675</td>\n",
       "      <td>-0.002016</td>\n",
       "      <td>-0.002303</td>\n",
       "      <td>-0.000998</td>\n",
       "      <td>0.000205</td>\n",
       "      <td>-0.099119</td>\n",
       "    </tr>\n",
       "    <tr>\n",
       "      <th>LoanAmount</th>\n",
       "      <td>-0.002213</td>\n",
       "      <td>-0.000865</td>\n",
       "      <td>1.000000</td>\n",
       "      <td>0.001261</td>\n",
       "      <td>0.002817</td>\n",
       "      <td>0.000794</td>\n",
       "      <td>-0.002291</td>\n",
       "      <td>0.002538</td>\n",
       "      <td>0.001122</td>\n",
       "      <td>0.086659</td>\n",
       "    </tr>\n",
       "    <tr>\n",
       "      <th>CreditScore</th>\n",
       "      <td>-0.000548</td>\n",
       "      <td>-0.001430</td>\n",
       "      <td>0.001261</td>\n",
       "      <td>1.000000</td>\n",
       "      <td>0.000613</td>\n",
       "      <td>0.000016</td>\n",
       "      <td>0.000436</td>\n",
       "      <td>0.001130</td>\n",
       "      <td>-0.001039</td>\n",
       "      <td>-0.034166</td>\n",
       "    </tr>\n",
       "    <tr>\n",
       "      <th>MonthsEmployed</th>\n",
       "      <td>-0.000341</td>\n",
       "      <td>0.002675</td>\n",
       "      <td>0.002817</td>\n",
       "      <td>0.000613</td>\n",
       "      <td>1.000000</td>\n",
       "      <td>0.001267</td>\n",
       "      <td>0.000096</td>\n",
       "      <td>-0.001166</td>\n",
       "      <td>0.001765</td>\n",
       "      <td>-0.097374</td>\n",
       "    </tr>\n",
       "    <tr>\n",
       "      <th>NumCreditLines</th>\n",
       "      <td>-0.000890</td>\n",
       "      <td>-0.002016</td>\n",
       "      <td>0.000794</td>\n",
       "      <td>0.000016</td>\n",
       "      <td>0.001267</td>\n",
       "      <td>1.000000</td>\n",
       "      <td>-0.000297</td>\n",
       "      <td>-0.000226</td>\n",
       "      <td>-0.000586</td>\n",
       "      <td>0.028330</td>\n",
       "    </tr>\n",
       "    <tr>\n",
       "      <th>InterestRate</th>\n",
       "      <td>-0.001127</td>\n",
       "      <td>-0.002303</td>\n",
       "      <td>-0.002291</td>\n",
       "      <td>0.000436</td>\n",
       "      <td>0.000096</td>\n",
       "      <td>-0.000297</td>\n",
       "      <td>1.000000</td>\n",
       "      <td>0.000892</td>\n",
       "      <td>0.000575</td>\n",
       "      <td>0.131273</td>\n",
       "    </tr>\n",
       "    <tr>\n",
       "      <th>LoanTerm</th>\n",
       "      <td>0.000263</td>\n",
       "      <td>-0.000998</td>\n",
       "      <td>0.002538</td>\n",
       "      <td>0.001130</td>\n",
       "      <td>-0.001166</td>\n",
       "      <td>-0.000226</td>\n",
       "      <td>0.000892</td>\n",
       "      <td>1.000000</td>\n",
       "      <td>0.002273</td>\n",
       "      <td>0.000545</td>\n",
       "    </tr>\n",
       "    <tr>\n",
       "      <th>DTIRatio</th>\n",
       "      <td>-0.004689</td>\n",
       "      <td>0.000205</td>\n",
       "      <td>0.001122</td>\n",
       "      <td>-0.001039</td>\n",
       "      <td>0.001765</td>\n",
       "      <td>-0.000586</td>\n",
       "      <td>0.000575</td>\n",
       "      <td>0.002273</td>\n",
       "      <td>1.000000</td>\n",
       "      <td>0.019236</td>\n",
       "    </tr>\n",
       "    <tr>\n",
       "      <th>Default</th>\n",
       "      <td>-0.167783</td>\n",
       "      <td>-0.099119</td>\n",
       "      <td>0.086659</td>\n",
       "      <td>-0.034166</td>\n",
       "      <td>-0.097374</td>\n",
       "      <td>0.028330</td>\n",
       "      <td>0.131273</td>\n",
       "      <td>0.000545</td>\n",
       "      <td>0.019236</td>\n",
       "      <td>1.000000</td>\n",
       "    </tr>\n",
       "  </tbody>\n",
       "</table>\n",
       "</div>"
      ],
      "text/plain": [
       "                     Age    Income  LoanAmount  CreditScore  MonthsEmployed  \\\n",
       "Age             1.000000 -0.001244   -0.002213    -0.000548       -0.000341   \n",
       "Income         -0.001244  1.000000   -0.000865    -0.001430        0.002675   \n",
       "LoanAmount     -0.002213 -0.000865    1.000000     0.001261        0.002817   \n",
       "CreditScore    -0.000548 -0.001430    0.001261     1.000000        0.000613   \n",
       "MonthsEmployed -0.000341  0.002675    0.002817     0.000613        1.000000   \n",
       "NumCreditLines -0.000890 -0.002016    0.000794     0.000016        0.001267   \n",
       "InterestRate   -0.001127 -0.002303   -0.002291     0.000436        0.000096   \n",
       "LoanTerm        0.000263 -0.000998    0.002538     0.001130       -0.001166   \n",
       "DTIRatio       -0.004689  0.000205    0.001122    -0.001039        0.001765   \n",
       "Default        -0.167783 -0.099119    0.086659    -0.034166       -0.097374   \n",
       "\n",
       "                NumCreditLines  InterestRate  LoanTerm  DTIRatio   Default  \n",
       "Age                  -0.000890     -0.001127  0.000263 -0.004689 -0.167783  \n",
       "Income               -0.002016     -0.002303 -0.000998  0.000205 -0.099119  \n",
       "LoanAmount            0.000794     -0.002291  0.002538  0.001122  0.086659  \n",
       "CreditScore           0.000016      0.000436  0.001130 -0.001039 -0.034166  \n",
       "MonthsEmployed        0.001267      0.000096 -0.001166  0.001765 -0.097374  \n",
       "NumCreditLines        1.000000     -0.000297 -0.000226 -0.000586  0.028330  \n",
       "InterestRate         -0.000297      1.000000  0.000892  0.000575  0.131273  \n",
       "LoanTerm             -0.000226      0.000892  1.000000  0.002273  0.000545  \n",
       "DTIRatio             -0.000586      0.000575  0.002273  1.000000  0.019236  \n",
       "Default               0.028330      0.131273  0.000545  0.019236  1.000000  "
      ]
     },
     "execution_count": 12,
     "metadata": {},
     "output_type": "execute_result"
    }
   ],
   "source": [
    "corr"
   ]
  },
  {
   "cell_type": "code",
   "execution_count": 13,
   "id": "f87dfbfe",
   "metadata": {
    "execution": {
     "iopub.execute_input": "2023-12-24T16:49:38.878866Z",
     "iopub.status.busy": "2023-12-24T16:49:38.878241Z",
     "iopub.status.idle": "2023-12-24T16:49:38.907330Z",
     "shell.execute_reply": "2023-12-24T16:49:38.906427Z"
    },
    "papermill": {
     "duration": 0.049583,
     "end_time": "2023-12-24T16:49:38.909456",
     "exception": false,
     "start_time": "2023-12-24T16:49:38.859873",
     "status": "completed"
    },
    "tags": []
   },
   "outputs": [],
   "source": [
    "data.drop(['LoanID', 'Education', 'MaritalStatus','LoanTerm'],axis=1, inplace=True)"
   ]
  },
  {
   "cell_type": "code",
   "execution_count": 14,
   "id": "b53fc39a",
   "metadata": {
    "execution": {
     "iopub.execute_input": "2023-12-24T16:49:38.946597Z",
     "iopub.status.busy": "2023-12-24T16:49:38.946292Z",
     "iopub.status.idle": "2023-12-24T16:49:38.963418Z",
     "shell.execute_reply": "2023-12-24T16:49:38.962587Z"
    },
    "papermill": {
     "duration": 0.037834,
     "end_time": "2023-12-24T16:49:38.965485",
     "exception": false,
     "start_time": "2023-12-24T16:49:38.927651",
     "status": "completed"
    },
    "tags": []
   },
   "outputs": [],
   "source": [
    "X = data.drop(['Default'], axis=1)\n",
    "y = data['Default']"
   ]
  },
  {
   "cell_type": "code",
   "execution_count": 15,
   "id": "cf68e7ac",
   "metadata": {
    "execution": {
     "iopub.execute_input": "2023-12-24T16:49:39.003525Z",
     "iopub.status.busy": "2023-12-24T16:49:39.002863Z",
     "iopub.status.idle": "2023-12-24T16:49:39.227479Z",
     "shell.execute_reply": "2023-12-24T16:49:39.226477Z"
    },
    "papermill": {
     "duration": 0.246331,
     "end_time": "2023-12-24T16:49:39.230093",
     "exception": false,
     "start_time": "2023-12-24T16:49:38.983762",
     "status": "completed"
    },
    "tags": []
   },
   "outputs": [],
   "source": [
    "from sklearn.model_selection import train_test_split"
   ]
  },
  {
   "cell_type": "code",
   "execution_count": 16,
   "id": "d0c8fd91",
   "metadata": {
    "execution": {
     "iopub.execute_input": "2023-12-24T16:49:39.269481Z",
     "iopub.status.busy": "2023-12-24T16:49:39.268749Z",
     "iopub.status.idle": "2023-12-24T16:49:39.372425Z",
     "shell.execute_reply": "2023-12-24T16:49:39.371478Z"
    },
    "papermill": {
     "duration": 0.125392,
     "end_time": "2023-12-24T16:49:39.375187",
     "exception": false,
     "start_time": "2023-12-24T16:49:39.249795",
     "status": "completed"
    },
    "tags": []
   },
   "outputs": [],
   "source": [
    "X_train, X_test, y_train, y_test = train_test_split(X, y, random_state = 123, test_size=0.30)"
   ]
  },
  {
   "cell_type": "code",
   "execution_count": 17,
   "id": "427c64c6",
   "metadata": {
    "execution": {
     "iopub.execute_input": "2023-12-24T16:49:39.417111Z",
     "iopub.status.busy": "2023-12-24T16:49:39.416333Z",
     "iopub.status.idle": "2023-12-24T16:49:39.436247Z",
     "shell.execute_reply": "2023-12-24T16:49:39.435431Z"
    },
    "papermill": {
     "duration": 0.042082,
     "end_time": "2023-12-24T16:49:39.438296",
     "exception": false,
     "start_time": "2023-12-24T16:49:39.396214",
     "status": "completed"
    },
    "tags": []
   },
   "outputs": [
    {
     "data": {
      "text/html": [
       "<div>\n",
       "<style scoped>\n",
       "    .dataframe tbody tr th:only-of-type {\n",
       "        vertical-align: middle;\n",
       "    }\n",
       "\n",
       "    .dataframe tbody tr th {\n",
       "        vertical-align: top;\n",
       "    }\n",
       "\n",
       "    .dataframe thead th {\n",
       "        text-align: right;\n",
       "    }\n",
       "</style>\n",
       "<table border=\"1\" class=\"dataframe\">\n",
       "  <thead>\n",
       "    <tr style=\"text-align: right;\">\n",
       "      <th></th>\n",
       "      <th>Age</th>\n",
       "      <th>Income</th>\n",
       "      <th>LoanAmount</th>\n",
       "      <th>CreditScore</th>\n",
       "      <th>MonthsEmployed</th>\n",
       "      <th>NumCreditLines</th>\n",
       "      <th>InterestRate</th>\n",
       "      <th>DTIRatio</th>\n",
       "      <th>EmploymentType</th>\n",
       "      <th>HasMortgage</th>\n",
       "      <th>HasDependents</th>\n",
       "      <th>LoanPurpose</th>\n",
       "      <th>HasCoSigner</th>\n",
       "    </tr>\n",
       "  </thead>\n",
       "  <tbody>\n",
       "    <tr>\n",
       "      <th>67000</th>\n",
       "      <td>30</td>\n",
       "      <td>98335</td>\n",
       "      <td>77792</td>\n",
       "      <td>608</td>\n",
       "      <td>36</td>\n",
       "      <td>3</td>\n",
       "      <td>18.95</td>\n",
       "      <td>0.21</td>\n",
       "      <td>Unemployed</td>\n",
       "      <td>No</td>\n",
       "      <td>No</td>\n",
       "      <td>Business</td>\n",
       "      <td>Yes</td>\n",
       "    </tr>\n",
       "    <tr>\n",
       "      <th>139945</th>\n",
       "      <td>46</td>\n",
       "      <td>69994</td>\n",
       "      <td>27119</td>\n",
       "      <td>373</td>\n",
       "      <td>38</td>\n",
       "      <td>3</td>\n",
       "      <td>2.18</td>\n",
       "      <td>0.12</td>\n",
       "      <td>Full-time</td>\n",
       "      <td>Yes</td>\n",
       "      <td>No</td>\n",
       "      <td>Education</td>\n",
       "      <td>No</td>\n",
       "    </tr>\n",
       "    <tr>\n",
       "      <th>54147</th>\n",
       "      <td>29</td>\n",
       "      <td>69456</td>\n",
       "      <td>154928</td>\n",
       "      <td>650</td>\n",
       "      <td>102</td>\n",
       "      <td>4</td>\n",
       "      <td>6.84</td>\n",
       "      <td>0.38</td>\n",
       "      <td>Part-time</td>\n",
       "      <td>No</td>\n",
       "      <td>No</td>\n",
       "      <td>Home</td>\n",
       "      <td>Yes</td>\n",
       "    </tr>\n",
       "    <tr>\n",
       "      <th>14329</th>\n",
       "      <td>38</td>\n",
       "      <td>134766</td>\n",
       "      <td>215183</td>\n",
       "      <td>468</td>\n",
       "      <td>104</td>\n",
       "      <td>4</td>\n",
       "      <td>17.03</td>\n",
       "      <td>0.41</td>\n",
       "      <td>Self-employed</td>\n",
       "      <td>No</td>\n",
       "      <td>No</td>\n",
       "      <td>Education</td>\n",
       "      <td>No</td>\n",
       "    </tr>\n",
       "    <tr>\n",
       "      <th>16219</th>\n",
       "      <td>44</td>\n",
       "      <td>67044</td>\n",
       "      <td>132672</td>\n",
       "      <td>711</td>\n",
       "      <td>56</td>\n",
       "      <td>4</td>\n",
       "      <td>4.02</td>\n",
       "      <td>0.87</td>\n",
       "      <td>Full-time</td>\n",
       "      <td>Yes</td>\n",
       "      <td>No</td>\n",
       "      <td>Home</td>\n",
       "      <td>No</td>\n",
       "    </tr>\n",
       "    <tr>\n",
       "      <th>...</th>\n",
       "      <td>...</td>\n",
       "      <td>...</td>\n",
       "      <td>...</td>\n",
       "      <td>...</td>\n",
       "      <td>...</td>\n",
       "      <td>...</td>\n",
       "      <td>...</td>\n",
       "      <td>...</td>\n",
       "      <td>...</td>\n",
       "      <td>...</td>\n",
       "      <td>...</td>\n",
       "      <td>...</td>\n",
       "      <td>...</td>\n",
       "    </tr>\n",
       "    <tr>\n",
       "      <th>192476</th>\n",
       "      <td>27</td>\n",
       "      <td>136956</td>\n",
       "      <td>24738</td>\n",
       "      <td>682</td>\n",
       "      <td>93</td>\n",
       "      <td>4</td>\n",
       "      <td>18.32</td>\n",
       "      <td>0.18</td>\n",
       "      <td>Self-employed</td>\n",
       "      <td>No</td>\n",
       "      <td>Yes</td>\n",
       "      <td>Auto</td>\n",
       "      <td>Yes</td>\n",
       "    </tr>\n",
       "    <tr>\n",
       "      <th>17730</th>\n",
       "      <td>28</td>\n",
       "      <td>42270</td>\n",
       "      <td>202156</td>\n",
       "      <td>360</td>\n",
       "      <td>5</td>\n",
       "      <td>2</td>\n",
       "      <td>2.10</td>\n",
       "      <td>0.56</td>\n",
       "      <td>Unemployed</td>\n",
       "      <td>Yes</td>\n",
       "      <td>No</td>\n",
       "      <td>Education</td>\n",
       "      <td>Yes</td>\n",
       "    </tr>\n",
       "    <tr>\n",
       "      <th>28030</th>\n",
       "      <td>67</td>\n",
       "      <td>28454</td>\n",
       "      <td>59858</td>\n",
       "      <td>336</td>\n",
       "      <td>20</td>\n",
       "      <td>1</td>\n",
       "      <td>5.32</td>\n",
       "      <td>0.40</td>\n",
       "      <td>Unemployed</td>\n",
       "      <td>Yes</td>\n",
       "      <td>No</td>\n",
       "      <td>Education</td>\n",
       "      <td>Yes</td>\n",
       "    </tr>\n",
       "    <tr>\n",
       "      <th>15725</th>\n",
       "      <td>38</td>\n",
       "      <td>114277</td>\n",
       "      <td>61440</td>\n",
       "      <td>644</td>\n",
       "      <td>42</td>\n",
       "      <td>3</td>\n",
       "      <td>18.87</td>\n",
       "      <td>0.20</td>\n",
       "      <td>Unemployed</td>\n",
       "      <td>No</td>\n",
       "      <td>Yes</td>\n",
       "      <td>Business</td>\n",
       "      <td>Yes</td>\n",
       "    </tr>\n",
       "    <tr>\n",
       "      <th>249342</th>\n",
       "      <td>49</td>\n",
       "      <td>73360</td>\n",
       "      <td>126114</td>\n",
       "      <td>481</td>\n",
       "      <td>4</td>\n",
       "      <td>4</td>\n",
       "      <td>12.99</td>\n",
       "      <td>0.43</td>\n",
       "      <td>Unemployed</td>\n",
       "      <td>Yes</td>\n",
       "      <td>No</td>\n",
       "      <td>Business</td>\n",
       "      <td>No</td>\n",
       "    </tr>\n",
       "  </tbody>\n",
       "</table>\n",
       "<p>178742 rows × 13 columns</p>\n",
       "</div>"
      ],
      "text/plain": [
       "        Age  Income  LoanAmount  CreditScore  MonthsEmployed  NumCreditLines  \\\n",
       "67000    30   98335       77792          608              36               3   \n",
       "139945   46   69994       27119          373              38               3   \n",
       "54147    29   69456      154928          650             102               4   \n",
       "14329    38  134766      215183          468             104               4   \n",
       "16219    44   67044      132672          711              56               4   \n",
       "...     ...     ...         ...          ...             ...             ...   \n",
       "192476   27  136956       24738          682              93               4   \n",
       "17730    28   42270      202156          360               5               2   \n",
       "28030    67   28454       59858          336              20               1   \n",
       "15725    38  114277       61440          644              42               3   \n",
       "249342   49   73360      126114          481               4               4   \n",
       "\n",
       "        InterestRate  DTIRatio EmploymentType HasMortgage HasDependents  \\\n",
       "67000          18.95      0.21     Unemployed          No            No   \n",
       "139945          2.18      0.12      Full-time         Yes            No   \n",
       "54147           6.84      0.38      Part-time          No            No   \n",
       "14329          17.03      0.41  Self-employed          No            No   \n",
       "16219           4.02      0.87      Full-time         Yes            No   \n",
       "...              ...       ...            ...         ...           ...   \n",
       "192476         18.32      0.18  Self-employed          No           Yes   \n",
       "17730           2.10      0.56     Unemployed         Yes            No   \n",
       "28030           5.32      0.40     Unemployed         Yes            No   \n",
       "15725          18.87      0.20     Unemployed          No           Yes   \n",
       "249342         12.99      0.43     Unemployed         Yes            No   \n",
       "\n",
       "       LoanPurpose HasCoSigner  \n",
       "67000     Business         Yes  \n",
       "139945   Education          No  \n",
       "54147         Home         Yes  \n",
       "14329    Education          No  \n",
       "16219         Home          No  \n",
       "...            ...         ...  \n",
       "192476        Auto         Yes  \n",
       "17730    Education         Yes  \n",
       "28030    Education         Yes  \n",
       "15725     Business         Yes  \n",
       "249342    Business          No  \n",
       "\n",
       "[178742 rows x 13 columns]"
      ]
     },
     "execution_count": 17,
     "metadata": {},
     "output_type": "execute_result"
    }
   ],
   "source": [
    "X_train"
   ]
  },
  {
   "cell_type": "code",
   "execution_count": 18,
   "id": "db3a9b9d",
   "metadata": {
    "execution": {
     "iopub.execute_input": "2023-12-24T16:49:39.479161Z",
     "iopub.status.busy": "2023-12-24T16:49:39.478863Z",
     "iopub.status.idle": "2023-12-24T16:49:39.496399Z",
     "shell.execute_reply": "2023-12-24T16:49:39.495691Z"
    },
    "papermill": {
     "duration": 0.038822,
     "end_time": "2023-12-24T16:49:39.498484",
     "exception": false,
     "start_time": "2023-12-24T16:49:39.459662",
     "status": "completed"
    },
    "tags": []
   },
   "outputs": [],
   "source": [
    "num_cols = X_train.select_dtypes(['int64', 'float64']).columns\n",
    "cat_cols = X_train.select_dtypes(['object']).columns"
   ]
  },
  {
   "cell_type": "code",
   "execution_count": 19,
   "id": "fe588b1b",
   "metadata": {
    "execution": {
     "iopub.execute_input": "2023-12-24T16:49:39.537584Z",
     "iopub.status.busy": "2023-12-24T16:49:39.537296Z",
     "iopub.status.idle": "2023-12-24T16:49:39.543120Z",
     "shell.execute_reply": "2023-12-24T16:49:39.542281Z"
    },
    "papermill": {
     "duration": 0.027666,
     "end_time": "2023-12-24T16:49:39.545099",
     "exception": false,
     "start_time": "2023-12-24T16:49:39.517433",
     "status": "completed"
    },
    "tags": []
   },
   "outputs": [
    {
     "data": {
      "text/plain": [
       "Index(['Age', 'Income', 'LoanAmount', 'CreditScore', 'MonthsEmployed',\n",
       "       'NumCreditLines', 'InterestRate', 'DTIRatio'],\n",
       "      dtype='object')"
      ]
     },
     "execution_count": 19,
     "metadata": {},
     "output_type": "execute_result"
    }
   ],
   "source": [
    "num_cols"
   ]
  },
  {
   "cell_type": "code",
   "execution_count": 20,
   "id": "87f57c38",
   "metadata": {
    "execution": {
     "iopub.execute_input": "2023-12-24T16:49:39.583879Z",
     "iopub.status.busy": "2023-12-24T16:49:39.583544Z",
     "iopub.status.idle": "2023-12-24T16:49:39.587292Z",
     "shell.execute_reply": "2023-12-24T16:49:39.586496Z"
    },
    "papermill": {
     "duration": 0.025676,
     "end_time": "2023-12-24T16:49:39.589177",
     "exception": false,
     "start_time": "2023-12-24T16:49:39.563501",
     "status": "completed"
    },
    "tags": []
   },
   "outputs": [],
   "source": [
    "# Data Transformation:\n",
    "#Normalization and standardization\n",
    "#Feature scaling\n",
    "#Encoding categorical variables"
   ]
  },
  {
   "cell_type": "code",
   "execution_count": 21,
   "id": "1fc3a7e6",
   "metadata": {
    "execution": {
     "iopub.execute_input": "2023-12-24T16:49:39.627314Z",
     "iopub.status.busy": "2023-12-24T16:49:39.627035Z",
     "iopub.status.idle": "2023-12-24T16:49:39.631056Z",
     "shell.execute_reply": "2023-12-24T16:49:39.630216Z"
    },
    "papermill": {
     "duration": 0.025511,
     "end_time": "2023-12-24T16:49:39.633179",
     "exception": false,
     "start_time": "2023-12-24T16:49:39.607668",
     "status": "completed"
    },
    "tags": []
   },
   "outputs": [],
   "source": [
    "from sklearn.preprocessing import StandardScaler, OneHotEncoder"
   ]
  },
  {
   "cell_type": "code",
   "execution_count": 22,
   "id": "67130fd7",
   "metadata": {
    "execution": {
     "iopub.execute_input": "2023-12-24T16:49:39.671311Z",
     "iopub.status.busy": "2023-12-24T16:49:39.670636Z",
     "iopub.status.idle": "2023-12-24T16:49:39.675006Z",
     "shell.execute_reply": "2023-12-24T16:49:39.674162Z"
    },
    "papermill": {
     "duration": 0.025669,
     "end_time": "2023-12-24T16:49:39.676931",
     "exception": false,
     "start_time": "2023-12-24T16:49:39.651262",
     "status": "completed"
    },
    "tags": []
   },
   "outputs": [],
   "source": [
    "Scaler = StandardScaler()\n",
    "OHE = OneHotEncoder(handle_unknown = 'ignore')"
   ]
  },
  {
   "cell_type": "code",
   "execution_count": 23,
   "id": "22f1654e",
   "metadata": {
    "execution": {
     "iopub.execute_input": "2023-12-24T16:49:39.716202Z",
     "iopub.status.busy": "2023-12-24T16:49:39.715925Z",
     "iopub.status.idle": "2023-12-24T16:49:40.069848Z",
     "shell.execute_reply": "2023-12-24T16:49:40.068872Z"
    },
    "papermill": {
     "duration": 0.376601,
     "end_time": "2023-12-24T16:49:40.072319",
     "exception": false,
     "start_time": "2023-12-24T16:49:39.695718",
     "status": "completed"
    },
    "tags": []
   },
   "outputs": [],
   "source": [
    "X_train_std = Scaler.fit_transform(X_train[num_cols])\n",
    "X_train_ohe = OHE.fit_transform(X_train[cat_cols]).toarray()"
   ]
  },
  {
   "cell_type": "code",
   "execution_count": 24,
   "id": "9f0f7e8c",
   "metadata": {
    "execution": {
     "iopub.execute_input": "2023-12-24T16:49:40.112338Z",
     "iopub.status.busy": "2023-12-24T16:49:40.112000Z",
     "iopub.status.idle": "2023-12-24T16:49:40.129488Z",
     "shell.execute_reply": "2023-12-24T16:49:40.128682Z"
    },
    "papermill": {
     "duration": 0.039949,
     "end_time": "2023-12-24T16:49:40.131699",
     "exception": false,
     "start_time": "2023-12-24T16:49:40.091750",
     "status": "completed"
    },
    "tags": []
   },
   "outputs": [],
   "source": [
    "train = np.concatenate((X_train_std, X_train_ohe), axis=1)"
   ]
  },
  {
   "cell_type": "code",
   "execution_count": 25,
   "id": "6a858c54",
   "metadata": {
    "execution": {
     "iopub.execute_input": "2023-12-24T16:49:40.171149Z",
     "iopub.status.busy": "2023-12-24T16:49:40.170567Z",
     "iopub.status.idle": "2023-12-24T16:49:40.176464Z",
     "shell.execute_reply": "2023-12-24T16:49:40.175655Z"
    },
    "papermill": {
     "duration": 0.027441,
     "end_time": "2023-12-24T16:49:40.178363",
     "exception": false,
     "start_time": "2023-12-24T16:49:40.150922",
     "status": "completed"
    },
    "tags": []
   },
   "outputs": [
    {
     "data": {
      "text/plain": [
       "(178742, 23)"
      ]
     },
     "execution_count": 25,
     "metadata": {},
     "output_type": "execute_result"
    }
   ],
   "source": [
    "train.shape"
   ]
  },
  {
   "cell_type": "code",
   "execution_count": 26,
   "id": "8c1ddba3",
   "metadata": {
    "execution": {
     "iopub.execute_input": "2023-12-24T16:49:40.216709Z",
     "iopub.status.busy": "2023-12-24T16:49:40.216406Z",
     "iopub.status.idle": "2023-12-24T16:49:40.339270Z",
     "shell.execute_reply": "2023-12-24T16:49:40.338493Z"
    },
    "papermill": {
     "duration": 0.144813,
     "end_time": "2023-12-24T16:49:40.341530",
     "exception": false,
     "start_time": "2023-12-24T16:49:40.196717",
     "status": "completed"
    },
    "tags": []
   },
   "outputs": [],
   "source": [
    "X_test_std = Scaler.transform(X_test[num_cols])\n",
    "X_test_ohe = OHE.transform(X_test[cat_cols]).toarray()"
   ]
  },
  {
   "cell_type": "code",
   "execution_count": 27,
   "id": "f60660f4",
   "metadata": {
    "execution": {
     "iopub.execute_input": "2023-12-24T16:49:40.380313Z",
     "iopub.status.busy": "2023-12-24T16:49:40.380003Z",
     "iopub.status.idle": "2023-12-24T16:49:40.389241Z",
     "shell.execute_reply": "2023-12-24T16:49:40.388185Z"
    },
    "papermill": {
     "duration": 0.030897,
     "end_time": "2023-12-24T16:49:40.391386",
     "exception": false,
     "start_time": "2023-12-24T16:49:40.360489",
     "status": "completed"
    },
    "tags": []
   },
   "outputs": [],
   "source": [
    "test = np.concatenate((X_test_std, X_test_ohe), axis=1)"
   ]
  },
  {
   "cell_type": "code",
   "execution_count": 28,
   "id": "1068ec44",
   "metadata": {
    "execution": {
     "iopub.execute_input": "2023-12-24T16:49:40.430184Z",
     "iopub.status.busy": "2023-12-24T16:49:40.429479Z",
     "iopub.status.idle": "2023-12-24T16:49:40.513241Z",
     "shell.execute_reply": "2023-12-24T16:49:40.512210Z"
    },
    "papermill": {
     "duration": 0.105707,
     "end_time": "2023-12-24T16:49:40.515535",
     "exception": false,
     "start_time": "2023-12-24T16:49:40.409828",
     "status": "completed"
    },
    "tags": []
   },
   "outputs": [],
   "source": [
    "from sklearn.linear_model import LogisticRegression"
   ]
  },
  {
   "cell_type": "code",
   "execution_count": 29,
   "id": "50cb4e4f",
   "metadata": {
    "execution": {
     "iopub.execute_input": "2023-12-24T16:49:40.553849Z",
     "iopub.status.busy": "2023-12-24T16:49:40.553480Z",
     "iopub.status.idle": "2023-12-24T16:49:40.557513Z",
     "shell.execute_reply": "2023-12-24T16:49:40.556699Z"
    },
    "papermill": {
     "duration": 0.025216,
     "end_time": "2023-12-24T16:49:40.559455",
     "exception": false,
     "start_time": "2023-12-24T16:49:40.534239",
     "status": "completed"
    },
    "tags": []
   },
   "outputs": [],
   "source": [
    "LR = LogisticRegression()"
   ]
  },
  {
   "cell_type": "code",
   "execution_count": 30,
   "id": "1dd3950a",
   "metadata": {
    "execution": {
     "iopub.execute_input": "2023-12-24T16:49:40.598002Z",
     "iopub.status.busy": "2023-12-24T16:49:40.597400Z",
     "iopub.status.idle": "2023-12-24T16:49:40.867003Z",
     "shell.execute_reply": "2023-12-24T16:49:40.865685Z"
    },
    "papermill": {
     "duration": 0.29255,
     "end_time": "2023-12-24T16:49:40.870829",
     "exception": false,
     "start_time": "2023-12-24T16:49:40.578279",
     "status": "completed"
    },
    "tags": []
   },
   "outputs": [
    {
     "data": {
      "text/html": [
       "<style>#sk-container-id-1 {color: black;background-color: white;}#sk-container-id-1 pre{padding: 0;}#sk-container-id-1 div.sk-toggleable {background-color: white;}#sk-container-id-1 label.sk-toggleable__label {cursor: pointer;display: block;width: 100%;margin-bottom: 0;padding: 0.3em;box-sizing: border-box;text-align: center;}#sk-container-id-1 label.sk-toggleable__label-arrow:before {content: \"▸\";float: left;margin-right: 0.25em;color: #696969;}#sk-container-id-1 label.sk-toggleable__label-arrow:hover:before {color: black;}#sk-container-id-1 div.sk-estimator:hover label.sk-toggleable__label-arrow:before {color: black;}#sk-container-id-1 div.sk-toggleable__content {max-height: 0;max-width: 0;overflow: hidden;text-align: left;background-color: #f0f8ff;}#sk-container-id-1 div.sk-toggleable__content pre {margin: 0.2em;color: black;border-radius: 0.25em;background-color: #f0f8ff;}#sk-container-id-1 input.sk-toggleable__control:checked~div.sk-toggleable__content {max-height: 200px;max-width: 100%;overflow: auto;}#sk-container-id-1 input.sk-toggleable__control:checked~label.sk-toggleable__label-arrow:before {content: \"▾\";}#sk-container-id-1 div.sk-estimator input.sk-toggleable__control:checked~label.sk-toggleable__label {background-color: #d4ebff;}#sk-container-id-1 div.sk-label input.sk-toggleable__control:checked~label.sk-toggleable__label {background-color: #d4ebff;}#sk-container-id-1 input.sk-hidden--visually {border: 0;clip: rect(1px 1px 1px 1px);clip: rect(1px, 1px, 1px, 1px);height: 1px;margin: -1px;overflow: hidden;padding: 0;position: absolute;width: 1px;}#sk-container-id-1 div.sk-estimator {font-family: monospace;background-color: #f0f8ff;border: 1px dotted black;border-radius: 0.25em;box-sizing: border-box;margin-bottom: 0.5em;}#sk-container-id-1 div.sk-estimator:hover {background-color: #d4ebff;}#sk-container-id-1 div.sk-parallel-item::after {content: \"\";width: 100%;border-bottom: 1px solid gray;flex-grow: 1;}#sk-container-id-1 div.sk-label:hover label.sk-toggleable__label {background-color: #d4ebff;}#sk-container-id-1 div.sk-serial::before {content: \"\";position: absolute;border-left: 1px solid gray;box-sizing: border-box;top: 0;bottom: 0;left: 50%;z-index: 0;}#sk-container-id-1 div.sk-serial {display: flex;flex-direction: column;align-items: center;background-color: white;padding-right: 0.2em;padding-left: 0.2em;position: relative;}#sk-container-id-1 div.sk-item {position: relative;z-index: 1;}#sk-container-id-1 div.sk-parallel {display: flex;align-items: stretch;justify-content: center;background-color: white;position: relative;}#sk-container-id-1 div.sk-item::before, #sk-container-id-1 div.sk-parallel-item::before {content: \"\";position: absolute;border-left: 1px solid gray;box-sizing: border-box;top: 0;bottom: 0;left: 50%;z-index: -1;}#sk-container-id-1 div.sk-parallel-item {display: flex;flex-direction: column;z-index: 1;position: relative;background-color: white;}#sk-container-id-1 div.sk-parallel-item:first-child::after {align-self: flex-end;width: 50%;}#sk-container-id-1 div.sk-parallel-item:last-child::after {align-self: flex-start;width: 50%;}#sk-container-id-1 div.sk-parallel-item:only-child::after {width: 0;}#sk-container-id-1 div.sk-dashed-wrapped {border: 1px dashed gray;margin: 0 0.4em 0.5em 0.4em;box-sizing: border-box;padding-bottom: 0.4em;background-color: white;}#sk-container-id-1 div.sk-label label {font-family: monospace;font-weight: bold;display: inline-block;line-height: 1.2em;}#sk-container-id-1 div.sk-label-container {text-align: center;}#sk-container-id-1 div.sk-container {/* jupyter's `normalize.less` sets `[hidden] { display: none; }` but bootstrap.min.css set `[hidden] { display: none !important; }` so we also need the `!important` here to be able to override the default hidden behavior on the sphinx rendered scikit-learn.org. See: https://github.com/scikit-learn/scikit-learn/issues/21755 */display: inline-block !important;position: relative;}#sk-container-id-1 div.sk-text-repr-fallback {display: none;}</style><div id=\"sk-container-id-1\" class=\"sk-top-container\"><div class=\"sk-text-repr-fallback\"><pre>LogisticRegression()</pre><b>In a Jupyter environment, please rerun this cell to show the HTML representation or trust the notebook. <br />On GitHub, the HTML representation is unable to render, please try loading this page with nbviewer.org.</b></div><div class=\"sk-container\" hidden><div class=\"sk-item\"><div class=\"sk-estimator sk-toggleable\"><input class=\"sk-toggleable__control sk-hidden--visually\" id=\"sk-estimator-id-1\" type=\"checkbox\" checked><label for=\"sk-estimator-id-1\" class=\"sk-toggleable__label sk-toggleable__label-arrow\">LogisticRegression</label><div class=\"sk-toggleable__content\"><pre>LogisticRegression()</pre></div></div></div></div></div>"
      ],
      "text/plain": [
       "LogisticRegression()"
      ]
     },
     "execution_count": 30,
     "metadata": {},
     "output_type": "execute_result"
    }
   ],
   "source": [
    "LR.fit(train, y_train)"
   ]
  },
  {
   "cell_type": "code",
   "execution_count": 31,
   "id": "cfcc4a22",
   "metadata": {
    "execution": {
     "iopub.execute_input": "2023-12-24T16:49:40.958777Z",
     "iopub.status.busy": "2023-12-24T16:49:40.958208Z",
     "iopub.status.idle": "2023-12-24T16:49:40.976963Z",
     "shell.execute_reply": "2023-12-24T16:49:40.975578Z"
    },
    "papermill": {
     "duration": 0.065236,
     "end_time": "2023-12-24T16:49:40.981080",
     "exception": false,
     "start_time": "2023-12-24T16:49:40.915844",
     "status": "completed"
    },
    "tags": []
   },
   "outputs": [],
   "source": [
    "LRT_pred = LR.predict(train)"
   ]
  },
  {
   "cell_type": "code",
   "execution_count": 32,
   "id": "294a66dd",
   "metadata": {
    "execution": {
     "iopub.execute_input": "2023-12-24T16:49:41.065070Z",
     "iopub.status.busy": "2023-12-24T16:49:41.064523Z",
     "iopub.status.idle": "2023-12-24T16:49:41.078979Z",
     "shell.execute_reply": "2023-12-24T16:49:41.077653Z"
    },
    "papermill": {
     "duration": 0.060215,
     "end_time": "2023-12-24T16:49:41.083085",
     "exception": false,
     "start_time": "2023-12-24T16:49:41.022870",
     "status": "completed"
    },
    "tags": []
   },
   "outputs": [],
   "source": [
    "LR_pred = LR.predict(test)"
   ]
  },
  {
   "cell_type": "code",
   "execution_count": 33,
   "id": "966dfc8d",
   "metadata": {
    "execution": {
     "iopub.execute_input": "2023-12-24T16:49:41.172914Z",
     "iopub.status.busy": "2023-12-24T16:49:41.172226Z",
     "iopub.status.idle": "2023-12-24T16:49:41.178991Z",
     "shell.execute_reply": "2023-12-24T16:49:41.177741Z"
    },
    "papermill": {
     "duration": 0.059543,
     "end_time": "2023-12-24T16:49:41.185634",
     "exception": false,
     "start_time": "2023-12-24T16:49:41.126091",
     "status": "completed"
    },
    "tags": []
   },
   "outputs": [],
   "source": [
    "from sklearn.metrics import accuracy_score, precision_score, recall_score, confusion_matrix"
   ]
  },
  {
   "cell_type": "code",
   "execution_count": 34,
   "id": "83e45e62",
   "metadata": {
    "execution": {
     "iopub.execute_input": "2023-12-24T16:49:41.235945Z",
     "iopub.status.busy": "2023-12-24T16:49:41.235346Z",
     "iopub.status.idle": "2023-12-24T16:49:41.241441Z",
     "shell.execute_reply": "2023-12-24T16:49:41.240606Z"
    },
    "papermill": {
     "duration": 0.02741,
     "end_time": "2023-12-24T16:49:41.243327",
     "exception": false,
     "start_time": "2023-12-24T16:49:41.215917",
     "status": "completed"
    },
    "tags": []
   },
   "outputs": [],
   "source": [
    "def metrics_(yTr, yTp, yts, ytp):\n",
    "    print('<<<<<< Train >>>>>>')\n",
    "    print('confusion_matrix :\\n', confusion_matrix(yTr, yTp))\n",
    "    print('Accuracy :', accuracy_score(yTr, yTp))\n",
    "    print('precision_score :', precision_score(yTr, yTp))\n",
    "    print('recall_score :', recall_score(yTr, yTp))\n",
    "    print('\\n')\n",
    "    print('<<<<<< Test >>>>>>')\n",
    "    print('confusion_matrix :\\n', confusion_matrix(yts, ytp))\n",
    "    print('Accuracy :', accuracy_score(yts, ytp))\n",
    "    print('precision_score :', precision_score(yts, ytp))\n",
    "    print('recall_score :', recall_score(yts, ytp))"
   ]
  },
  {
   "cell_type": "code",
   "execution_count": 35,
   "id": "a08eef33",
   "metadata": {
    "execution": {
     "iopub.execute_input": "2023-12-24T16:49:41.281956Z",
     "iopub.status.busy": "2023-12-24T16:49:41.281375Z",
     "iopub.status.idle": "2023-12-24T16:49:41.498454Z",
     "shell.execute_reply": "2023-12-24T16:49:41.497368Z"
    },
    "papermill": {
     "duration": 0.23858,
     "end_time": "2023-12-24T16:49:41.500579",
     "exception": false,
     "start_time": "2023-12-24T16:49:41.261999",
     "status": "completed"
    },
    "tags": []
   },
   "outputs": [
    {
     "name": "stdout",
     "output_type": "stream",
     "text": [
      "<<<<<< Lgistic Regression >>>>>>\n",
      "\n",
      "<<<<<< Train >>>>>>\n",
      "confusion_matrix :\n",
      " [[157614    435]\n",
      " [ 20055    638]]\n",
      "Accuracy : 0.8853654988754741\n",
      "precision_score : 0.5945945945945946\n",
      "recall_score : 0.03083168221137583\n",
      "\n",
      "\n",
      "<<<<<< Test >>>>>>\n",
      "confusion_matrix :\n",
      " [[67444   201]\n",
      " [ 8693   267]]\n",
      "Accuracy : 0.8838979178904771\n",
      "precision_score : 0.5705128205128205\n",
      "recall_score : 0.029799107142857145\n"
     ]
    }
   ],
   "source": [
    "print('<<<<<< Lgistic Regression >>>>>>\\n')\n",
    "metrics_(y_train, LRT_pred, y_test, LR_pred)"
   ]
  },
  {
   "cell_type": "code",
   "execution_count": 36,
   "id": "337b2246",
   "metadata": {
    "execution": {
     "iopub.execute_input": "2023-12-24T16:49:41.540818Z",
     "iopub.status.busy": "2023-12-24T16:49:41.540486Z",
     "iopub.status.idle": "2023-12-24T16:49:41.627026Z",
     "shell.execute_reply": "2023-12-24T16:49:41.626273Z"
    },
    "papermill": {
     "duration": 0.108427,
     "end_time": "2023-12-24T16:49:41.629135",
     "exception": false,
     "start_time": "2023-12-24T16:49:41.520708",
     "status": "completed"
    },
    "tags": []
   },
   "outputs": [],
   "source": [
    "from sklearn.tree import DecisionTreeClassifier\n",
    "dtc = DecisionTreeClassifier()"
   ]
  },
  {
   "cell_type": "code",
   "execution_count": 37,
   "id": "b1e0b6a8",
   "metadata": {
    "execution": {
     "iopub.execute_input": "2023-12-24T16:49:41.668298Z",
     "iopub.status.busy": "2023-12-24T16:49:41.668002Z",
     "iopub.status.idle": "2023-12-24T16:49:44.454428Z",
     "shell.execute_reply": "2023-12-24T16:49:44.453439Z"
    },
    "papermill": {
     "duration": 2.808506,
     "end_time": "2023-12-24T16:49:44.456912",
     "exception": false,
     "start_time": "2023-12-24T16:49:41.648406",
     "status": "completed"
    },
    "tags": []
   },
   "outputs": [],
   "source": [
    "dtc.fit(train, y_train)\n",
    "dtc_TPred = dtc.predict(train)\n",
    "dtc_tpred = dtc.predict(test)"
   ]
  },
  {
   "cell_type": "code",
   "execution_count": 38,
   "id": "dfda80a8",
   "metadata": {
    "execution": {
     "iopub.execute_input": "2023-12-24T16:49:44.499214Z",
     "iopub.status.busy": "2023-12-24T16:49:44.498901Z",
     "iopub.status.idle": "2023-12-24T16:49:44.725636Z",
     "shell.execute_reply": "2023-12-24T16:49:44.724632Z"
    },
    "papermill": {
     "duration": 0.249961,
     "end_time": "2023-12-24T16:49:44.727724",
     "exception": false,
     "start_time": "2023-12-24T16:49:44.477763",
     "status": "completed"
    },
    "tags": []
   },
   "outputs": [
    {
     "name": "stdout",
     "output_type": "stream",
     "text": [
      "<<<<<< Decision Tree Classifier >>>>>>\n",
      "\n",
      "<<<<<< Train >>>>>>\n",
      "confusion_matrix :\n",
      " [[158049      0]\n",
      " [     0  20693]]\n",
      "Accuracy : 1.0\n",
      "precision_score : 1.0\n",
      "recall_score : 1.0\n",
      "\n",
      "\n",
      "<<<<<< Test >>>>>>\n",
      "confusion_matrix :\n",
      " [[59290  8355]\n",
      " [ 6910  2050]]\n",
      "Accuracy : 0.800731022779192\n",
      "precision_score : 0.19702066314271985\n",
      "recall_score : 0.22879464285714285\n"
     ]
    }
   ],
   "source": [
    "print('<<<<<< Decision Tree Classifier >>>>>>\\n')\n",
    "metrics_(y_train, dtc_TPred, y_test, dtc_tpred)"
   ]
  },
  {
   "cell_type": "code",
   "execution_count": 39,
   "id": "6c5aef88",
   "metadata": {
    "execution": {
     "iopub.execute_input": "2023-12-24T16:49:44.768779Z",
     "iopub.status.busy": "2023-12-24T16:49:44.768446Z",
     "iopub.status.idle": "2023-12-24T16:49:44.774199Z",
     "shell.execute_reply": "2023-12-24T16:49:44.773269Z"
    },
    "papermill": {
     "duration": 0.028916,
     "end_time": "2023-12-24T16:49:44.776118",
     "exception": false,
     "start_time": "2023-12-24T16:49:44.747202",
     "status": "completed"
    },
    "tags": []
   },
   "outputs": [
    {
     "data": {
      "text/plain": [
       "38"
      ]
     },
     "execution_count": 39,
     "metadata": {},
     "output_type": "execute_result"
    }
   ],
   "source": [
    "dtc.get_depth()"
   ]
  },
  {
   "cell_type": "code",
   "execution_count": 40,
   "id": "a4f0dbf5",
   "metadata": {
    "execution": {
     "iopub.execute_input": "2023-12-24T16:49:44.815562Z",
     "iopub.status.busy": "2023-12-24T16:49:44.814980Z",
     "iopub.status.idle": "2023-12-24T16:49:44.820343Z",
     "shell.execute_reply": "2023-12-24T16:49:44.819479Z"
    },
    "papermill": {
     "duration": 0.027011,
     "end_time": "2023-12-24T16:49:44.822197",
     "exception": false,
     "start_time": "2023-12-24T16:49:44.795186",
     "status": "completed"
    },
    "tags": []
   },
   "outputs": [
    {
     "data": {
      "text/plain": [
       "2"
      ]
     },
     "execution_count": 40,
     "metadata": {},
     "output_type": "execute_result"
    }
   ],
   "source": [
    "dtc.min_samples_split"
   ]
  },
  {
   "cell_type": "code",
   "execution_count": 41,
   "id": "e5e65639",
   "metadata": {
    "execution": {
     "iopub.execute_input": "2023-12-24T16:49:44.861457Z",
     "iopub.status.busy": "2023-12-24T16:49:44.861155Z",
     "iopub.status.idle": "2023-12-24T16:49:44.866626Z",
     "shell.execute_reply": "2023-12-24T16:49:44.865852Z"
    },
    "papermill": {
     "duration": 0.027264,
     "end_time": "2023-12-24T16:49:44.868455",
     "exception": false,
     "start_time": "2023-12-24T16:49:44.841191",
     "status": "completed"
    },
    "tags": []
   },
   "outputs": [
    {
     "data": {
      "text/plain": [
       "1"
      ]
     },
     "execution_count": 41,
     "metadata": {},
     "output_type": "execute_result"
    }
   ],
   "source": [
    "dtc.min_samples_leaf"
   ]
  },
  {
   "cell_type": "code",
   "execution_count": 42,
   "id": "2ab36ba0",
   "metadata": {
    "execution": {
     "iopub.execute_input": "2023-12-24T16:49:44.908883Z",
     "iopub.status.busy": "2023-12-24T16:49:44.908196Z",
     "iopub.status.idle": "2023-12-24T16:49:44.918153Z",
     "shell.execute_reply": "2023-12-24T16:49:44.917352Z"
    },
    "papermill": {
     "duration": 0.032019,
     "end_time": "2023-12-24T16:49:44.920073",
     "exception": false,
     "start_time": "2023-12-24T16:49:44.888054",
     "status": "completed"
    },
    "tags": []
   },
   "outputs": [
    {
     "data": {
      "text/plain": [
       "Default\n",
       "0    158049\n",
       "1     20693\n",
       "Name: count, dtype: int64"
      ]
     },
     "execution_count": 42,
     "metadata": {},
     "output_type": "execute_result"
    }
   ],
   "source": [
    "y_train.value_counts()"
   ]
  },
  {
   "cell_type": "code",
   "execution_count": 43,
   "id": "d1e1d517",
   "metadata": {
    "execution": {
     "iopub.execute_input": "2023-12-24T16:49:44.961244Z",
     "iopub.status.busy": "2023-12-24T16:49:44.960585Z",
     "iopub.status.idle": "2023-12-24T16:49:45.128575Z",
     "shell.execute_reply": "2023-12-24T16:49:45.127745Z"
    },
    "papermill": {
     "duration": 0.19136,
     "end_time": "2023-12-24T16:49:45.130862",
     "exception": false,
     "start_time": "2023-12-24T16:49:44.939502",
     "status": "completed"
    },
    "tags": []
   },
   "outputs": [],
   "source": [
    "from imblearn.over_sampling import SMOTE"
   ]
  },
  {
   "cell_type": "code",
   "execution_count": 44,
   "id": "5787a639",
   "metadata": {
    "execution": {
     "iopub.execute_input": "2023-12-24T16:49:45.171847Z",
     "iopub.status.busy": "2023-12-24T16:49:45.171380Z",
     "iopub.status.idle": "2023-12-24T16:49:46.248548Z",
     "shell.execute_reply": "2023-12-24T16:49:46.247505Z"
    },
    "papermill": {
     "duration": 1.099986,
     "end_time": "2023-12-24T16:49:46.250633",
     "exception": false,
     "start_time": "2023-12-24T16:49:45.150647",
     "status": "completed"
    },
    "tags": []
   },
   "outputs": [
    {
     "name": "stdout",
     "output_type": "stream",
     "text": [
      "Class distribution after SMOTE:\n",
      "Default\n",
      "0    158049\n",
      "1    158049\n",
      "Name: count, dtype: int64\n"
     ]
    }
   ],
   "source": [
    "smote = SMOTE(sampling_strategy='auto', random_state=42)\n",
    "\n",
    "# Apply SMOTE to the entire dataset\n",
    "X_resampled, y_resampled = smote.fit_resample(train, y_train)\n",
    "\n",
    "# Check the balance of the target variable after SMOTE\n",
    "print(\"Class distribution after SMOTE:\")\n",
    "print(y_resampled.value_counts())\n",
    "\n",
    "# Concatenate the resampled features with the original target variable\n",
    "#resampled_df = pd.concat([X_resampled, y_resampled], axis=1)"
   ]
  },
  {
   "cell_type": "code",
   "execution_count": 45,
   "id": "e749c1b9",
   "metadata": {
    "execution": {
     "iopub.execute_input": "2023-12-24T16:49:46.293900Z",
     "iopub.status.busy": "2023-12-24T16:49:46.293525Z",
     "iopub.status.idle": "2023-12-24T16:49:46.299203Z",
     "shell.execute_reply": "2023-12-24T16:49:46.298422Z"
    },
    "papermill": {
     "duration": 0.028865,
     "end_time": "2023-12-24T16:49:46.301060",
     "exception": false,
     "start_time": "2023-12-24T16:49:46.272195",
     "status": "completed"
    },
    "tags": []
   },
   "outputs": [
    {
     "data": {
      "text/plain": [
       "(316098, 23)"
      ]
     },
     "execution_count": 45,
     "metadata": {},
     "output_type": "execute_result"
    }
   ],
   "source": [
    "X_resampled.shape"
   ]
  },
  {
   "cell_type": "code",
   "execution_count": 46,
   "id": "f942fc70",
   "metadata": {
    "execution": {
     "iopub.execute_input": "2023-12-24T16:49:46.341864Z",
     "iopub.status.busy": "2023-12-24T16:49:46.341554Z",
     "iopub.status.idle": "2023-12-24T16:49:46.345390Z",
     "shell.execute_reply": "2023-12-24T16:49:46.344542Z"
    },
    "papermill": {
     "duration": 0.026313,
     "end_time": "2023-12-24T16:49:46.347220",
     "exception": false,
     "start_time": "2023-12-24T16:49:46.320907",
     "status": "completed"
    },
    "tags": []
   },
   "outputs": [],
   "source": [
    "dec = DecisionTreeClassifier()"
   ]
  },
  {
   "cell_type": "code",
   "execution_count": 47,
   "id": "169289b5",
   "metadata": {
    "execution": {
     "iopub.execute_input": "2023-12-24T16:49:46.387373Z",
     "iopub.status.busy": "2023-12-24T16:49:46.387096Z",
     "iopub.status.idle": "2023-12-24T16:49:53.046050Z",
     "shell.execute_reply": "2023-12-24T16:49:53.045119Z"
    },
    "papermill": {
     "duration": 6.681536,
     "end_time": "2023-12-24T16:49:53.048344",
     "exception": false,
     "start_time": "2023-12-24T16:49:46.366808",
     "status": "completed"
    },
    "tags": []
   },
   "outputs": [
    {
     "data": {
      "text/html": [
       "<style>#sk-container-id-2 {color: black;background-color: white;}#sk-container-id-2 pre{padding: 0;}#sk-container-id-2 div.sk-toggleable {background-color: white;}#sk-container-id-2 label.sk-toggleable__label {cursor: pointer;display: block;width: 100%;margin-bottom: 0;padding: 0.3em;box-sizing: border-box;text-align: center;}#sk-container-id-2 label.sk-toggleable__label-arrow:before {content: \"▸\";float: left;margin-right: 0.25em;color: #696969;}#sk-container-id-2 label.sk-toggleable__label-arrow:hover:before {color: black;}#sk-container-id-2 div.sk-estimator:hover label.sk-toggleable__label-arrow:before {color: black;}#sk-container-id-2 div.sk-toggleable__content {max-height: 0;max-width: 0;overflow: hidden;text-align: left;background-color: #f0f8ff;}#sk-container-id-2 div.sk-toggleable__content pre {margin: 0.2em;color: black;border-radius: 0.25em;background-color: #f0f8ff;}#sk-container-id-2 input.sk-toggleable__control:checked~div.sk-toggleable__content {max-height: 200px;max-width: 100%;overflow: auto;}#sk-container-id-2 input.sk-toggleable__control:checked~label.sk-toggleable__label-arrow:before {content: \"▾\";}#sk-container-id-2 div.sk-estimator input.sk-toggleable__control:checked~label.sk-toggleable__label {background-color: #d4ebff;}#sk-container-id-2 div.sk-label input.sk-toggleable__control:checked~label.sk-toggleable__label {background-color: #d4ebff;}#sk-container-id-2 input.sk-hidden--visually {border: 0;clip: rect(1px 1px 1px 1px);clip: rect(1px, 1px, 1px, 1px);height: 1px;margin: -1px;overflow: hidden;padding: 0;position: absolute;width: 1px;}#sk-container-id-2 div.sk-estimator {font-family: monospace;background-color: #f0f8ff;border: 1px dotted black;border-radius: 0.25em;box-sizing: border-box;margin-bottom: 0.5em;}#sk-container-id-2 div.sk-estimator:hover {background-color: #d4ebff;}#sk-container-id-2 div.sk-parallel-item::after {content: \"\";width: 100%;border-bottom: 1px solid gray;flex-grow: 1;}#sk-container-id-2 div.sk-label:hover label.sk-toggleable__label {background-color: #d4ebff;}#sk-container-id-2 div.sk-serial::before {content: \"\";position: absolute;border-left: 1px solid gray;box-sizing: border-box;top: 0;bottom: 0;left: 50%;z-index: 0;}#sk-container-id-2 div.sk-serial {display: flex;flex-direction: column;align-items: center;background-color: white;padding-right: 0.2em;padding-left: 0.2em;position: relative;}#sk-container-id-2 div.sk-item {position: relative;z-index: 1;}#sk-container-id-2 div.sk-parallel {display: flex;align-items: stretch;justify-content: center;background-color: white;position: relative;}#sk-container-id-2 div.sk-item::before, #sk-container-id-2 div.sk-parallel-item::before {content: \"\";position: absolute;border-left: 1px solid gray;box-sizing: border-box;top: 0;bottom: 0;left: 50%;z-index: -1;}#sk-container-id-2 div.sk-parallel-item {display: flex;flex-direction: column;z-index: 1;position: relative;background-color: white;}#sk-container-id-2 div.sk-parallel-item:first-child::after {align-self: flex-end;width: 50%;}#sk-container-id-2 div.sk-parallel-item:last-child::after {align-self: flex-start;width: 50%;}#sk-container-id-2 div.sk-parallel-item:only-child::after {width: 0;}#sk-container-id-2 div.sk-dashed-wrapped {border: 1px dashed gray;margin: 0 0.4em 0.5em 0.4em;box-sizing: border-box;padding-bottom: 0.4em;background-color: white;}#sk-container-id-2 div.sk-label label {font-family: monospace;font-weight: bold;display: inline-block;line-height: 1.2em;}#sk-container-id-2 div.sk-label-container {text-align: center;}#sk-container-id-2 div.sk-container {/* jupyter's `normalize.less` sets `[hidden] { display: none; }` but bootstrap.min.css set `[hidden] { display: none !important; }` so we also need the `!important` here to be able to override the default hidden behavior on the sphinx rendered scikit-learn.org. See: https://github.com/scikit-learn/scikit-learn/issues/21755 */display: inline-block !important;position: relative;}#sk-container-id-2 div.sk-text-repr-fallback {display: none;}</style><div id=\"sk-container-id-2\" class=\"sk-top-container\"><div class=\"sk-text-repr-fallback\"><pre>DecisionTreeClassifier()</pre><b>In a Jupyter environment, please rerun this cell to show the HTML representation or trust the notebook. <br />On GitHub, the HTML representation is unable to render, please try loading this page with nbviewer.org.</b></div><div class=\"sk-container\" hidden><div class=\"sk-item\"><div class=\"sk-estimator sk-toggleable\"><input class=\"sk-toggleable__control sk-hidden--visually\" id=\"sk-estimator-id-2\" type=\"checkbox\" checked><label for=\"sk-estimator-id-2\" class=\"sk-toggleable__label sk-toggleable__label-arrow\">DecisionTreeClassifier</label><div class=\"sk-toggleable__content\"><pre>DecisionTreeClassifier()</pre></div></div></div></div></div>"
      ],
      "text/plain": [
       "DecisionTreeClassifier()"
      ]
     },
     "execution_count": 47,
     "metadata": {},
     "output_type": "execute_result"
    }
   ],
   "source": [
    "dec.fit(X_resampled, y_resampled)"
   ]
  },
  {
   "cell_type": "code",
   "execution_count": 48,
   "id": "c2e6bac3",
   "metadata": {
    "execution": {
     "iopub.execute_input": "2023-12-24T16:49:53.089739Z",
     "iopub.status.busy": "2023-12-24T16:49:53.089410Z",
     "iopub.status.idle": "2023-12-24T16:49:53.546574Z",
     "shell.execute_reply": "2023-12-24T16:49:53.545480Z"
    },
    "papermill": {
     "duration": 0.479989,
     "end_time": "2023-12-24T16:49:53.549004",
     "exception": false,
     "start_time": "2023-12-24T16:49:53.069015",
     "status": "completed"
    },
    "tags": []
   },
   "outputs": [
    {
     "name": "stdout",
     "output_type": "stream",
     "text": [
      "<<<<<< Train >>>>>>\n",
      "confusion_matrix :\n",
      " [[158049      0]\n",
      " [     0 158049]]\n",
      "Accuracy : 1.0\n",
      "precision_score : 1.0\n",
      "recall_score : 1.0\n",
      "\n",
      "\n",
      "<<<<<< Test >>>>>>\n",
      "confusion_matrix :\n",
      " [[56240 11405]\n",
      " [ 6217  2743]]\n",
      "Accuracy : 0.7699627961621304\n",
      "precision_score : 0.1938789934973141\n",
      "recall_score : 0.30613839285714284\n"
     ]
    }
   ],
   "source": [
    "dec_train = dec.predict(X_resampled)\n",
    "dec_pred = dec.predict(test)\n",
    "metrics_(y_resampled, dec_train, y_test, dec_pred)"
   ]
  },
  {
   "cell_type": "code",
   "execution_count": 49,
   "id": "8902f308",
   "metadata": {
    "execution": {
     "iopub.execute_input": "2023-12-24T16:49:53.590846Z",
     "iopub.status.busy": "2023-12-24T16:49:53.590493Z",
     "iopub.status.idle": "2023-12-24T16:49:53.594650Z",
     "shell.execute_reply": "2023-12-24T16:49:53.593913Z"
    },
    "papermill": {
     "duration": 0.027149,
     "end_time": "2023-12-24T16:49:53.596498",
     "exception": false,
     "start_time": "2023-12-24T16:49:53.569349",
     "status": "completed"
    },
    "tags": []
   },
   "outputs": [],
   "source": [
    "from sklearn.ensemble import RandomForestClassifier"
   ]
  },
  {
   "cell_type": "code",
   "execution_count": 50,
   "id": "459e43df",
   "metadata": {
    "execution": {
     "iopub.execute_input": "2023-12-24T16:49:53.638572Z",
     "iopub.status.busy": "2023-12-24T16:49:53.638266Z",
     "iopub.status.idle": "2023-12-24T16:49:53.642261Z",
     "shell.execute_reply": "2023-12-24T16:49:53.641437Z"
    },
    "papermill": {
     "duration": 0.027658,
     "end_time": "2023-12-24T16:49:53.644120",
     "exception": false,
     "start_time": "2023-12-24T16:49:53.616462",
     "status": "completed"
    },
    "tags": []
   },
   "outputs": [],
   "source": [
    "RFC = RandomForestClassifier()"
   ]
  },
  {
   "cell_type": "code",
   "execution_count": 51,
   "id": "997343f1",
   "metadata": {
    "execution": {
     "iopub.execute_input": "2023-12-24T16:49:53.685396Z",
     "iopub.status.busy": "2023-12-24T16:49:53.685087Z",
     "iopub.status.idle": "2023-12-24T16:51:21.963094Z",
     "shell.execute_reply": "2023-12-24T16:51:21.962048Z"
    },
    "papermill": {
     "duration": 88.322021,
     "end_time": "2023-12-24T16:51:21.986206",
     "exception": false,
     "start_time": "2023-12-24T16:49:53.664185",
     "status": "completed"
    },
    "tags": []
   },
   "outputs": [
    {
     "data": {
      "text/html": [
       "<style>#sk-container-id-3 {color: black;background-color: white;}#sk-container-id-3 pre{padding: 0;}#sk-container-id-3 div.sk-toggleable {background-color: white;}#sk-container-id-3 label.sk-toggleable__label {cursor: pointer;display: block;width: 100%;margin-bottom: 0;padding: 0.3em;box-sizing: border-box;text-align: center;}#sk-container-id-3 label.sk-toggleable__label-arrow:before {content: \"▸\";float: left;margin-right: 0.25em;color: #696969;}#sk-container-id-3 label.sk-toggleable__label-arrow:hover:before {color: black;}#sk-container-id-3 div.sk-estimator:hover label.sk-toggleable__label-arrow:before {color: black;}#sk-container-id-3 div.sk-toggleable__content {max-height: 0;max-width: 0;overflow: hidden;text-align: left;background-color: #f0f8ff;}#sk-container-id-3 div.sk-toggleable__content pre {margin: 0.2em;color: black;border-radius: 0.25em;background-color: #f0f8ff;}#sk-container-id-3 input.sk-toggleable__control:checked~div.sk-toggleable__content {max-height: 200px;max-width: 100%;overflow: auto;}#sk-container-id-3 input.sk-toggleable__control:checked~label.sk-toggleable__label-arrow:before {content: \"▾\";}#sk-container-id-3 div.sk-estimator input.sk-toggleable__control:checked~label.sk-toggleable__label {background-color: #d4ebff;}#sk-container-id-3 div.sk-label input.sk-toggleable__control:checked~label.sk-toggleable__label {background-color: #d4ebff;}#sk-container-id-3 input.sk-hidden--visually {border: 0;clip: rect(1px 1px 1px 1px);clip: rect(1px, 1px, 1px, 1px);height: 1px;margin: -1px;overflow: hidden;padding: 0;position: absolute;width: 1px;}#sk-container-id-3 div.sk-estimator {font-family: monospace;background-color: #f0f8ff;border: 1px dotted black;border-radius: 0.25em;box-sizing: border-box;margin-bottom: 0.5em;}#sk-container-id-3 div.sk-estimator:hover {background-color: #d4ebff;}#sk-container-id-3 div.sk-parallel-item::after {content: \"\";width: 100%;border-bottom: 1px solid gray;flex-grow: 1;}#sk-container-id-3 div.sk-label:hover label.sk-toggleable__label {background-color: #d4ebff;}#sk-container-id-3 div.sk-serial::before {content: \"\";position: absolute;border-left: 1px solid gray;box-sizing: border-box;top: 0;bottom: 0;left: 50%;z-index: 0;}#sk-container-id-3 div.sk-serial {display: flex;flex-direction: column;align-items: center;background-color: white;padding-right: 0.2em;padding-left: 0.2em;position: relative;}#sk-container-id-3 div.sk-item {position: relative;z-index: 1;}#sk-container-id-3 div.sk-parallel {display: flex;align-items: stretch;justify-content: center;background-color: white;position: relative;}#sk-container-id-3 div.sk-item::before, #sk-container-id-3 div.sk-parallel-item::before {content: \"\";position: absolute;border-left: 1px solid gray;box-sizing: border-box;top: 0;bottom: 0;left: 50%;z-index: -1;}#sk-container-id-3 div.sk-parallel-item {display: flex;flex-direction: column;z-index: 1;position: relative;background-color: white;}#sk-container-id-3 div.sk-parallel-item:first-child::after {align-self: flex-end;width: 50%;}#sk-container-id-3 div.sk-parallel-item:last-child::after {align-self: flex-start;width: 50%;}#sk-container-id-3 div.sk-parallel-item:only-child::after {width: 0;}#sk-container-id-3 div.sk-dashed-wrapped {border: 1px dashed gray;margin: 0 0.4em 0.5em 0.4em;box-sizing: border-box;padding-bottom: 0.4em;background-color: white;}#sk-container-id-3 div.sk-label label {font-family: monospace;font-weight: bold;display: inline-block;line-height: 1.2em;}#sk-container-id-3 div.sk-label-container {text-align: center;}#sk-container-id-3 div.sk-container {/* jupyter's `normalize.less` sets `[hidden] { display: none; }` but bootstrap.min.css set `[hidden] { display: none !important; }` so we also need the `!important` here to be able to override the default hidden behavior on the sphinx rendered scikit-learn.org. See: https://github.com/scikit-learn/scikit-learn/issues/21755 */display: inline-block !important;position: relative;}#sk-container-id-3 div.sk-text-repr-fallback {display: none;}</style><div id=\"sk-container-id-3\" class=\"sk-top-container\"><div class=\"sk-text-repr-fallback\"><pre>RandomForestClassifier()</pre><b>In a Jupyter environment, please rerun this cell to show the HTML representation or trust the notebook. <br />On GitHub, the HTML representation is unable to render, please try loading this page with nbviewer.org.</b></div><div class=\"sk-container\" hidden><div class=\"sk-item\"><div class=\"sk-estimator sk-toggleable\"><input class=\"sk-toggleable__control sk-hidden--visually\" id=\"sk-estimator-id-3\" type=\"checkbox\" checked><label for=\"sk-estimator-id-3\" class=\"sk-toggleable__label sk-toggleable__label-arrow\">RandomForestClassifier</label><div class=\"sk-toggleable__content\"><pre>RandomForestClassifier()</pre></div></div></div></div></div>"
      ],
      "text/plain": [
       "RandomForestClassifier()"
      ]
     },
     "execution_count": 51,
     "metadata": {},
     "output_type": "execute_result"
    }
   ],
   "source": [
    "RFC.fit(X_resampled, y_resampled)"
   ]
  },
  {
   "cell_type": "code",
   "execution_count": 52,
   "id": "db44b425",
   "metadata": {
    "execution": {
     "iopub.execute_input": "2023-12-24T16:51:22.029329Z",
     "iopub.status.busy": "2023-12-24T16:51:22.028982Z",
     "iopub.status.idle": "2023-12-24T16:51:33.759778Z",
     "shell.execute_reply": "2023-12-24T16:51:33.758956Z"
    },
    "papermill": {
     "duration": 11.754741,
     "end_time": "2023-12-24T16:51:33.762087",
     "exception": false,
     "start_time": "2023-12-24T16:51:22.007346",
     "status": "completed"
    },
    "tags": []
   },
   "outputs": [],
   "source": [
    "RFC_train = RFC.predict(X_resampled) \n",
    "RFC_test =  RFC.predict(test)"
   ]
  },
  {
   "cell_type": "code",
   "execution_count": 53,
   "id": "13a481db",
   "metadata": {
    "execution": {
     "iopub.execute_input": "2023-12-24T16:51:33.805636Z",
     "iopub.status.busy": "2023-12-24T16:51:33.804523Z",
     "iopub.status.idle": "2023-12-24T16:51:34.155957Z",
     "shell.execute_reply": "2023-12-24T16:51:34.154640Z"
    },
    "papermill": {
     "duration": 0.374971,
     "end_time": "2023-12-24T16:51:34.158026",
     "exception": false,
     "start_time": "2023-12-24T16:51:33.783055",
     "status": "completed"
    },
    "tags": []
   },
   "outputs": [
    {
     "name": "stdout",
     "output_type": "stream",
     "text": [
      "<<<<<< Train >>>>>>\n",
      "confusion_matrix :\n",
      " [[158049      0]\n",
      " [     0 158049]]\n",
      "Accuracy : 1.0\n",
      "precision_score : 1.0\n",
      "recall_score : 1.0\n",
      "\n",
      "\n",
      "<<<<<< Test >>>>>>\n",
      "confusion_matrix :\n",
      " [[64062  3583]\n",
      " [ 7053  1907]]\n",
      "Accuracy : 0.8611578878663273\n",
      "precision_score : 0.34735883424408015\n",
      "recall_score : 0.21283482142857144\n"
     ]
    }
   ],
   "source": [
    "metrics_(y_resampled, RFC_train, y_test, RFC_test)"
   ]
  },
  {
   "cell_type": "code",
   "execution_count": 54,
   "id": "7121c52a",
   "metadata": {
    "execution": {
     "iopub.execute_input": "2023-12-24T16:51:34.200850Z",
     "iopub.status.busy": "2023-12-24T16:51:34.200262Z",
     "iopub.status.idle": "2023-12-24T16:51:34.206806Z",
     "shell.execute_reply": "2023-12-24T16:51:34.205871Z"
    },
    "papermill": {
     "duration": 0.029853,
     "end_time": "2023-12-24T16:51:34.208711",
     "exception": false,
     "start_time": "2023-12-24T16:51:34.178858",
     "status": "completed"
    },
    "tags": []
   },
   "outputs": [
    {
     "data": {
      "text/plain": [
       "{'bootstrap': True,\n",
       " 'ccp_alpha': 0.0,\n",
       " 'class_weight': None,\n",
       " 'criterion': 'gini',\n",
       " 'max_depth': None,\n",
       " 'max_features': 'sqrt',\n",
       " 'max_leaf_nodes': None,\n",
       " 'max_samples': None,\n",
       " 'min_impurity_decrease': 0.0,\n",
       " 'min_samples_leaf': 1,\n",
       " 'min_samples_split': 2,\n",
       " 'min_weight_fraction_leaf': 0.0,\n",
       " 'n_estimators': 100,\n",
       " 'n_jobs': None,\n",
       " 'oob_score': False,\n",
       " 'random_state': None,\n",
       " 'verbose': 0,\n",
       " 'warm_start': False}"
      ]
     },
     "execution_count": 54,
     "metadata": {},
     "output_type": "execute_result"
    }
   ],
   "source": [
    "RFC.get_params()"
   ]
  },
  {
   "cell_type": "code",
   "execution_count": null,
   "id": "406d688c",
   "metadata": {
    "papermill": {
     "duration": 0.020317,
     "end_time": "2023-12-24T16:51:34.249843",
     "exception": false,
     "start_time": "2023-12-24T16:51:34.229526",
     "status": "completed"
    },
    "tags": []
   },
   "outputs": [],
   "source": []
  }
 ],
 "metadata": {
  "kaggle": {
   "accelerator": "none",
   "dataSources": [
    {
     "datasetId": 3725579,
     "sourceId": 6453754,
     "sourceType": "datasetVersion"
    }
   ],
   "dockerImageVersionId": 30626,
   "isGpuEnabled": false,
   "isInternetEnabled": true,
   "language": "python",
   "sourceType": "notebook"
  },
  "kernelspec": {
   "display_name": "Python 3",
   "language": "python",
   "name": "python3"
  },
  "language_info": {
   "codemirror_mode": {
    "name": "ipython",
    "version": 3
   },
   "file_extension": ".py",
   "mimetype": "text/x-python",
   "name": "python",
   "nbconvert_exporter": "python",
   "pygments_lexer": "ipython3",
   "version": "3.10.12"
  },
  "papermill": {
   "default_parameters": {},
   "duration": 125.572202,
   "end_time": "2023-12-24T16:51:34.789436",
   "environment_variables": {},
   "exception": null,
   "input_path": "__notebook__.ipynb",
   "output_path": "__notebook__.ipynb",
   "parameters": {},
   "start_time": "2023-12-24T16:49:29.217234",
   "version": "2.4.0"
  }
 },
 "nbformat": 4,
 "nbformat_minor": 5
}
